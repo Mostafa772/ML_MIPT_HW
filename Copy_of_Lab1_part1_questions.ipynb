{
  "cells": [
    {
      "cell_type": "markdown",
      "metadata": {
        "id": "view-in-github",
        "colab_type": "text"
      },
      "source": [
        "<a href=\"https://colab.research.google.com/github/Mostafa772/ML_MIPT_HW/blob/lab_1/Copy_of_Lab1_part1_questions.ipynb\" target=\"_parent\"><img src=\"https://colab.research.google.com/assets/colab-badge.svg\" alt=\"Open In Colab\"/></a>"
      ]
    },
    {
      "cell_type": "markdown",
      "metadata": {
        "id": "HH5xhWNXQJrB"
      },
      "source": [
        "*Credits: materials from this notebook belong to YSDA [Practical DL](https://github.com/yandexdataschool/Practical_DL) course. Special thanks for making them available online.*"
      ]
    },
    {
      "cell_type": "markdown",
      "metadata": {
        "id": "vEfXNgPvQJrG"
      },
      "source": [
        "# Lab assignment №1, part 1\n",
        "\n",
        "This lab assignment consists of several parts. You are supposed to make some transformations, train some models, estimate the quality of the models and explain your results.\n",
        "\n",
        "Several comments:\n",
        "* Don't hesitate to ask questions, it's a good practice.\n",
        "* No private/public sharing, please. The copied assignments will be graded with 0 points.\n",
        "* Blocks of this lab will be graded separately."
      ]
    },
    {
      "cell_type": "markdown",
      "metadata": {
        "id": "S_310bPnQJrI"
      },
      "source": [
        "## 1. Matrix differentiation"
      ]
    },
    {
      "cell_type": "markdown",
      "metadata": {
        "id": "-cgENkHsQJrI"
      },
      "source": [
        "Since it easy to google every task please please please try to undestand what's going on. The \"just answer\" thing will be not counted, make sure to present derivation of your solution. It is absolutely OK if you found an answer on web then just exercise in $\\LaTeX$ copying it into here."
      ]
    },
    {
      "cell_type": "markdown",
      "metadata": {
        "id": "eRvVB8nKQJrJ"
      },
      "source": [
        "Useful links: \n",
        "[1](http://www.machinelearning.ru/wiki/images/2/2a/Matrix-Gauss.pdf)\n",
        "[2](http://www.atmos.washington.edu/~dennis/MatrixCalculus.pdf)"
      ]
    },
    {
      "cell_type": "markdown",
      "metadata": {
        "id": "GuOQm7zLQJrK"
      },
      "source": [
        "## ex. 1"
      ]
    },
    {
      "cell_type": "markdown",
      "metadata": {
        "id": "mc6LGv5FQJrK"
      },
      "source": [
        "$$  \n",
        "y = x^Tx,  \\quad x \\in \\mathbb{R}^N \n",
        "$$"
      ]
    },
    {
      "cell_type": "markdown",
      "metadata": {
        "id": "wi5OVZ3JQJrL"
      },
      "source": [
        "$$\n",
        "\\frac{dy}{dx} = \n",
        "$$ "
      ]
    },
    {
      "cell_type": "markdown",
      "source": [
        "The answer:\n",
        "$$\n",
        " \\sum_{i = j = 1}^{+\\infty} \\ x_{i}*x_{j} = (x_1*x_1 + x_2*x_2 +...)  = (x_1^2 + x_2^2 + ...) \\\\\n",
        "\\frac{dy}{dx} = (2x_1 + 2x_2 + ... ) = 2(x_1 + x_2 +...) = 2x \n",
        "$$ "
      ],
      "metadata": {
        "id": "IJgotmsfwncC"
      }
    },
    {
      "cell_type": "markdown",
      "metadata": {
        "id": "31sMt3rQQJrN"
      },
      "source": [
        "## ex. 2"
      ]
    },
    {
      "cell_type": "markdown",
      "metadata": {
        "id": "QytTgakaQJrO"
      },
      "source": [
        "$$ y = tr(AB) \\quad A,B \\in \\mathbb{R}^{N \\times N} $$ "
      ]
    },
    {
      "cell_type": "markdown",
      "metadata": {
        "id": "hyCponaLQJrP"
      },
      "source": [
        "$$\n",
        "\\frac{dy}{dA} =\n",
        "$$"
      ]
    },
    {
      "cell_type": "markdown",
      "source": [
        "The answer: assume we have A  and B with A then thier product will be the the product of the columns and the rows and we are differentiating according to A so we will end up with only the elements of B transposed.\n",
        "\n",
        "\n",
        "$$\n",
        "\\frac{dy}{dA} = B^T\n",
        "$$"
      ],
      "metadata": {
        "id": "dTVGrZlM0BX5"
      }
    },
    {
      "cell_type": "markdown",
      "metadata": {
        "id": "XN7JsXkZQJrP"
      },
      "source": [
        "## ex. 3"
      ]
    },
    {
      "cell_type": "markdown",
      "metadata": {
        "id": "MrgxBDX_QJrQ"
      },
      "source": [
        "$$  \n",
        "y = x^TAc , \\quad A\\in \\mathbb{R}^{N \\times N}, x\\in \\mathbb{R}^{N}, c\\in \\mathbb{R}^{N} \n",
        "$$"
      ]
    },
    {
      "cell_type": "markdown",
      "metadata": {
        "id": "00hLa1ZkQJrX"
      },
      "source": [
        "$$\n",
        "\\frac{dy}{dx} =\n",
        "$$"
      ]
    },
    {
      "cell_type": "markdown",
      "metadata": {
        "id": "rlqA4PLEQJrY"
      },
      "source": [
        "$$\n",
        "\\frac{dy}{dA} =\n",
        "$$ "
      ]
    },
    {
      "cell_type": "markdown",
      "metadata": {
        "id": "OlDvn-D4QJrY"
      },
      "source": [
        "Hint for the latter (one of the ways): use *ex. 2* result and the fact \n",
        "$$\n",
        "tr(ABC) = tr (CAB)\n",
        "$$"
      ]
    },
    {
      "cell_type": "markdown",
      "source": [
        "The answer is in proposition 7 from the second source:\n",
        "$$\n",
        "\\frac{dy}{dx} = x^T*A^T\n",
        "$$\n",
        "<br><br/>\n",
        "We get this from the first source\n",
        "$$\n",
        "\\frac{dy}{dA} = xc^T\n",
        "$$"
      ],
      "metadata": {
        "id": "f85xc_WF5XOx"
      }
    },
    {
      "cell_type": "markdown",
      "metadata": {
        "id": "nvSb06wEQJrZ"
      },
      "source": [
        "## ex. 4"
      ]
    },
    {
      "cell_type": "markdown",
      "metadata": {
        "id": "Ci3vrY6pQJrZ"
      },
      "source": [
        "Classic matrix factorization example. Given matrix $X$ you need to find $A$, $S$ to approximate $X$. This can be done by simple gradient descent iteratively alternating $A$ and $S$ updates.\n",
        "$$\n",
        "J = || X - AS ||_F^2  , \\quad A\\in \\mathbb{R}^{N \\times R} , \\quad S\\in \\mathbb{R}^{R \\times M}\n",
        "$$\n",
        "$$\n",
        "\\frac{dJ}{dS} = ? \n",
        "$$\n",
        "\n",
        "You may use one of the following approaches:"
      ]
    },
    {
      "cell_type": "markdown",
      "metadata": {
        "id": "5yRwZHCgQJrZ"
      },
      "source": [
        "#### First approach\n",
        "Using ex.2 and the fact:\n",
        "$$\n",
        "|| X ||_F^2 = tr(XX^T) \n",
        "$$ \n",
        "it is easy to derive gradients (you can find it in one of the refs). "
      ]
    },
    {
      "cell_type": "markdown",
      "metadata": {
        "id": "RIUVpdjPQJra"
      },
      "source": [
        "#### Second approach\n",
        "You can use *slightly different techniques* if they suits you. Take a look at this derivation:\n",
        "<img src=\"https://github.com/girafe-ai/ml-course/blob/22f_basic/homeworks/lab01_ml_pipeline/grad.png?raw=1\">\n",
        "(excerpt from [Handbook of blind source separation, Jutten, page 517](https://books.google.ru/books?id=PTbj03bYH6kC&printsec=frontcover&dq=Handbook+of+Blind+Source+Separation&hl=en&sa=X&ved=0ahUKEwi-q_apiJDLAhULvXIKHVXJDWcQ6AEIHDAA#v=onepage&q=Handbook%20of%20Blind%20Source%20Separation&f=false), open for better picture)."
      ]
    },
    {
      "cell_type": "markdown",
      "metadata": {
        "id": "bQqhjDf5QJra"
      },
      "source": [
        "#### Third approach\n",
        "And finally we can use chain rule! \n",
        "let $ F = AS $ \n",
        "\n",
        "**Find**\n",
        "$$\n",
        "\\frac{dJ}{dF} =  \n",
        "$$ \n",
        "and \n",
        "$$\n",
        "\\frac{dF}{dS} =  \n",
        "$$ \n",
        "(the shape should be $ NM \\times RM )$.\n",
        "\n",
        "Now it is easy do get desired gradients:\n",
        "$$\n",
        "\\frac{dJ}{dS} =  \n",
        "$$ "
      ]
    },
    {
      "cell_type": "markdown",
      "source": [
        "**SOLUTION USING THE FRIST APPROACH:**\n",
        "\n",
        "$$\n",
        "J = || X - AS ||_F^2   = Tr((X-AS)(X-AS)^T) = Tr((X-AS)(X^T-S^TA^T)) = Tr(XX^T - XS^TA^T - ASX^T + ASS^TA^T)\n",
        "$$\n",
        "We know that\n",
        "$$\n",
        "Tr(A + B) = Tr(A) + Tr(B)\n",
        "$$\n",
        "Then we get:\n",
        "$$\n",
        "Tr(XX^T - XS^TA^T - ASX^T + ASS^TA^T) = Tr(XX^T) - Tr(XS^TA^T) - Tr(ASX^T) + Tr(ASS^TA^T) \n",
        "$$\n",
        "<br><br/>\n",
        "$$\n",
        "\\frac{d(Tr(XX^T))}{dS} = 0 \\ \\  ; \\ \\frac{d(Tr(XS^TA^T))}{dS} = A^TX \\ \\ ; \\ \\ \n",
        "\\frac{d(Tr(ASX^T))}{dS} = A^TX \n",
        "$$\n",
        "<br><br/>\n",
        "Let\n",
        "$$\n",
        "B = AS,\\ and \\ ,B^T = S^TA \\\\\\ \\  Tr(ASS^TA^T) = Tr(BB^T)\n",
        "$$\n",
        "Then\n",
        "$$\n",
        "Tr(BB^T) =  \\sum_{j = 1}^{+\\infty}\\sum_{i = 1}^{+\\infty} \\ (\\sum_{k = 1}^{+\\infty} \\  A_{ik}S_{kj})^2 \\\\\\ \\frac{d(Tr(BB^T))}{dS_{kj}} = \\sum_{i = 1}^{+\\infty} \\sum_{j = 1}^{+\\infty} 2 \\sum_{k = 1}^{+\\infty}(A_{ik}S_{kj})A_{ik} = 2A^TAS\n",
        "$$\n",
        "<br><br/>\n",
        "$$\n",
        "\\frac{dJ}{dS} = 2(A^TAS - A^TX)\n",
        "$$"
      ],
      "metadata": {
        "id": "R82yRrvkUuAU"
      }
    },
    {
      "cell_type": "markdown",
      "metadata": {
        "collapsed": true,
        "jupyter": {
          "outputs_hidden": true
        },
        "id": "kQCJXApCQJra"
      },
      "source": [
        "## 2. kNN questions\n",
        "Here come the questions from the assignment0_01. Please, refer to the assignment0_01 to get the context of the questions."
      ]
    },
    {
      "cell_type": "markdown",
      "metadata": {
        "id": "AfiAxg03QJrb"
      },
      "source": [
        "### Question 1\n",
        "\n",
        "Notice the structured patterns in the distance matrix, where some rows or columns are visible brighter. (Note that with the default color scheme black indicates low distances while white indicates high distances.)\n",
        "\n",
        "- What in the data is the cause behind the distinctly bright rows?\n",
        "- What causes the columns?\n",
        "\n",
        "$\\color{Green}{\\textit Your Answer:}$ We can notice that the x-axis is the training data and the y-axis is the testing data. The brighter the row the further the testing point is from other training points in the data set close distance means closer pixel colors too so darker images. For the columns it means that the training point is far from all testing points. \n",
        "\n",
        "\n"
      ]
    },
    {
      "cell_type": "markdown",
      "metadata": {
        "id": "hGFWWOXAQJrb"
      },
      "source": [
        "### Question 2\n",
        "\n",
        "We can also use other distance metrics such as L1 distance.\n",
        "For pixel values $p_{ij}^{(k)}$ at location $(i,j)$ of some image $I_k$, \n",
        "\n",
        "the mean $\\mu$ across all pixels over all images is $$\\mu=\\frac{1}{nhw}\\sum_{k=1}^n\\sum_{i=1}^{h}\\sum_{j=1}^{w}p_{ij}^{(k)}$$\n",
        "And the pixel-wise mean $\\mu_{ij}$ across all images is \n",
        "$$\\mu_{ij}=\\frac{1}{n}\\sum_{k=1}^np_{ij}^{(k)}.$$\n",
        "The general standard deviation $\\sigma$ and pixel-wise standard deviation $\\sigma_{ij}$ is defined similarly.\n",
        "\n",
        "Which of the following preprocessing steps will not change the performance of a Nearest Neighbor classifier that uses L1 distance? Select all that apply.\n",
        "1. Subtracting the mean $\\mu$ ($\\tilde{p}_{ij}^{(k)}=p_{ij}^{(k)}-\\mu$.)\n",
        "2. Subtracting the per pixel mean $\\mu_{ij}$  ($\\tilde{p}_{ij}^{(k)}=p_{ij}^{(k)}-\\mu_{ij}$.)\n",
        "3. Subtracting the mean $\\mu$ and dividing by the standard deviation $\\sigma$.\n",
        "4. Subtracting the pixel-wise mean $\\mu_{ij}$ and dividing by the pixel-wise standard deviation $\\sigma_{ij}$.\n",
        "5. Rotating the coordinate axes of the data.\n",
        "\n",
        "$\\color{green}{\\textit Your Answer:}$ 1,3,4\n",
        "\n",
        "\n",
        "$\\color{green}{\\textit Your Explanation:}$1,3,4 won't affect the performance as they are just data normalization techniques (the third one is called z-scores), the 5th one will affect the performance as L1 distance is depending on the coordinate system that we choose. I am not really sure about the second one if it affects the performance or not but probably yes as if we take different values from the different points we won't end up with the same result.\n"
      ]
    },
    {
      "cell_type": "markdown",
      "metadata": {
        "id": "hmorS1YZQJrc"
      },
      "source": [
        "## Question 3\n",
        "\n",
        "Which of the following statements about $k$-Nearest Neighbor ($k$-NN) are true in a classification setting, and for all $k$? Select all that apply.\n",
        "1. The decision boundary (hyperplane between classes in feature space) of the k-NN classifier is linear.\n",
        "2. The training error of a 1-NN will always be lower than that of 5-NN.\n",
        "3. The test error of a 1-NN will always be lower than that of a 5-NN.\n",
        "4. The time needed to classify a test example with the k-NN classifier grows with the size of the training set.\n",
        "5. None of the above.\n",
        "\n",
        "$\\color{Green}{\\textit Your Answer:}$ 2, 4\n",
        "\n",
        "\n",
        "$\\color{Green}{\\textit Your Explanation:}$ 1) Because the distance (L2 distance) function used to find the k nearest neighbors is not linear.\n",
        "2)Every point from the training data will choose it self for k=1 so we will have a perfect classification but for bigger k this won't be the case.\n",
        "3)We will only pick the point that is the closest in the case k = 1 but when k > 2 the decision will be affected by the number of the points from each class for example if we have k = 10 and the closest one in blue and the others are red we will have red which may not be the correct result https://online.stat.psu.edu/stat508/lesson/k .\n",
        "4) We are trying to find the distances and compare so we might use very large k with a very large data set which makes the time big. This algorithm has time complixity O(N).\n",
        "\n",
        "\n"
      ]
    }
  ],
  "metadata": {
    "kernelspec": {
      "display_name": "mipt",
      "language": "python",
      "name": "mipt"
    },
    "language_info": {
      "codemirror_mode": {
        "name": "ipython",
        "version": 3
      },
      "file_extension": ".py",
      "mimetype": "text/x-python",
      "name": "python",
      "nbconvert_exporter": "python",
      "pygments_lexer": "ipython3",
      "version": "3.9.5"
    },
    "colab": {
      "provenance": [],
      "include_colab_link": true
    }
  },
  "nbformat": 4,
  "nbformat_minor": 0
}