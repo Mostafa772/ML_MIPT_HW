{
 "cells": [
  {
   "cell_type": "markdown",
   "metadata": {
    "id": "13pL--6rycN3"
   },
   "source": [
    "## Homework02: Three headed network in PyTorch\n",
    "\n",
    "This notebook accompanies the [week02](https://github.com/girafe-ai/natural-language-processing/tree/master/week02_cnn_for_texts) practice session. Refer to that notebook for more comments.\n",
    "\n",
    "All the preprocessing is the same as in the classwork. *Including the data leakage in the train test split (it's still for bonus points).*"
   ]
  },
  {
   "cell_type": "code",
   "execution_count": 65,
   "metadata": {
    "id": "P8zS7m-gycN5",
    "ExecuteTime": {
     "end_time": "2023-05-29T18:27:13.644246813Z",
     "start_time": "2023-05-29T18:27:13.558948726Z"
    }
   },
   "outputs": [],
   "source": [
    "import numpy as np\n",
    "import pandas as pd\n",
    "import matplotlib.pyplot as plt\n",
    "%matplotlib inline\n",
    "\n",
    "import nltk\n",
    "import tqdm\n",
    "from collections import Counter"
   ]
  },
  {
   "cell_type": "markdown",
   "metadata": {
    "id": "NTB2LdJG1Sj2"
   },
   "source": [
    "If you have already downloaded the data on the Seminar, simply run through the next cells. Otherwise uncomment the next cell (and comment the another one ;)"
   ]
  },
  {
   "cell_type": "code",
   "execution_count": 66,
   "metadata": {
    "id": "WK52wnjl1Sj2",
    "colab": {
     "base_uri": "https://localhost:8080/"
    },
    "outputId": "0d27eab2-caa2-4aee-e677-7c273430e73c",
    "ExecuteTime": {
     "end_time": "2023-05-29T18:27:17.311193727Z",
     "start_time": "2023-05-29T18:27:13.566308340Z"
    }
   },
   "outputs": [],
   "source": [
    "# # uncomment and run this cell, if you don't have data locally yet.\n",
    "#\n",
    "# !curl -L \"https://www.dropbox.com/s/5msc5ix7ndyba10/Train_rev1.csv.tar.gz?dl=1\" -o Train_rev1.csv.tar.gz\n",
    "# !tar -xvzf ./Train_rev1.csv.tar.gz\n",
    "#\n",
    "data = pd.read_csv(\"./Train_rev1.csv\", index_col=None)\n",
    "#\n",
    "# !wget https://raw.githubusercontent.com/girafe-ai/natural-language-processing/22f_msai/homeworks/assignment02_three_headed_network/network.py"
   ]
  },
  {
   "cell_type": "code",
   "execution_count": 67,
   "metadata": {
    "id": "vwN72gd4ycOA",
    "colab": {
     "base_uri": "https://localhost:8080/",
     "height": 328
    },
    "outputId": "60f1d0d8-173d-4c99-8bd3-51db780c0ddd",
    "ExecuteTime": {
     "end_time": "2023-05-29T18:27:17.351750604Z",
     "start_time": "2023-05-29T18:27:17.351407636Z"
    }
   },
   "outputs": [],
   "source": [
    "# # run this cell if you have downloaded the dataset on the seminar\n",
    "# data = pd.read_csv(\"../../week02_CNN_n_Vanishing_gradient/Train_rev1.csv\", index_col=None)"
   ]
  },
  {
   "cell_type": "code",
   "execution_count": 68,
   "metadata": {
    "id": "UuuKIKfrycOH",
    "ExecuteTime": {
     "end_time": "2023-05-29T18:27:17.386104303Z",
     "start_time": "2023-05-29T18:27:17.352005646Z"
    }
   },
   "outputs": [],
   "source": [
    "data['Log1pSalary'] = np.log1p(data['SalaryNormalized']).astype('float32')\n",
    "text_columns = [\"Title\", \"FullDescription\"]\n",
    "categorical_columns = [\"Category\", \"Company\", \"LocationNormalized\", \"ContractType\", \"ContractTime\"]\n",
    "target_column = \"Log1pSalary\"\n",
    "\n",
    "data[categorical_columns] = data[categorical_columns].fillna('NaN') # cast missing values to string \"NaN\"\n",
    "\n",
    "data.sample(3)\n",
    "\n",
    "\n",
    "data_for_autotest = data[-5000:]\n",
    "data = data[:-5000]"
   ]
  },
  {
   "cell_type": "code",
   "execution_count": 69,
   "metadata": {
    "id": "RUWkpd7PycOQ",
    "outputId": "c5e6ef04-6952-459a-92a6-378a988b98ff",
    "colab": {
     "base_uri": "https://localhost:8080/"
    },
    "ExecuteTime": {
     "end_time": "2023-05-29T18:27:52.271957897Z",
     "start_time": "2023-05-29T18:27:17.400204604Z"
    }
   },
   "outputs": [
    {
     "name": "stdout",
     "output_type": "stream",
     "text": [
      "Tokenized:\n",
      "2         mathematical modeller / simulation analyst / o...\n",
      "100002    a successful and high achieving specialist sch...\n",
      "200002    web designer html , css , javascript , photosh...\n",
      "Name: FullDescription, dtype: object\n"
     ]
    },
    {
     "name": "stderr",
     "output_type": "stream",
     "text": [
      "239768it [00:19, 12024.22it/s]\n"
     ]
    }
   ],
   "source": [
    "tokenizer = nltk.tokenize.WordPunctTokenizer()\n",
    "# see task above\n",
    "def normalize(text):\n",
    "    text = str(text).lower()\n",
    "    return ' '.join(tokenizer.tokenize(text))\n",
    "    \n",
    "data[text_columns] = data[text_columns].applymap(normalize)\n",
    "\n",
    "print(\"Tokenized:\")\n",
    "print(data[\"FullDescription\"][2::100000])\n",
    "assert data[\"FullDescription\"][2][:50] == 'mathematical modeller / simulation analyst / opera'\n",
    "assert data[\"Title\"][54321] == 'international digital account manager ( german )'\n",
    "\n",
    "# Count how many times does each token occur in both \"Title\" and \"FullDescription\" in total\n",
    "# build a dictionary { token -> it's count }\n",
    "from collections import Counter\n",
    "from tqdm import tqdm as tqdm\n",
    "\n",
    "token_counts = Counter()# <YOUR CODE HERE>\n",
    "for _, row in tqdm(data[text_columns].iterrows()):\n",
    "    for string in row:\n",
    "        token_counts.update(string.split())\n",
    "\n",
    "# hint: you may or may not want to use collections.Counter"
   ]
  },
  {
   "cell_type": "code",
   "execution_count": 70,
   "outputs": [
    {
     "data": {
      "text/plain": "              Id                                              Title   \n0       12612628                        engineering systems analyst  \\\n1       12612830                            stress engineer glasgow   \n2       12612844                   modelling and simulation analyst   \n3       12613049  engineering systems analyst / mathematical mod...   \n4       12613647        pioneer , miser engineering systems analyst   \n...          ...                                                ...   \n239763  72629906  sales / service engineer ( plant / constructio...   \n239764  72629907                            virtualisation engineer   \n239765  72629910                    contract database administrator   \n239766  72629913                             cnc grinder cnc turner   \n239767  72629914  sales engineer ( plant / construction equipment )   \n\n                                          FullDescription   \n0       engineering systems analyst dorking surrey sal...  \\\n1       stress engineer glasgow salary **** to **** we...   \n2       mathematical modeller / simulation analyst / o...   \n3       engineering systems analyst / mathematical mod...   \n4       pioneer , miser engineering systems analyst do...   \n...                                                   ...   \n239763  exciting opportunity for a service engineer to...   \n239764  virtualisation engineer birmingham **** to ***...   \n239765  our client are one of the largest and most div...   \n239766  cnc grinders and turners required in the leice...   \n239767  exciting opportunity for a sales executive to ...   \n\n                              LocationRaw  LocationNormalized ContractType   \n0                 Dorking, Surrey, Surrey             Dorking          NaN  \\\n1             Glasgow, Scotland, Scotland             Glasgow          NaN   \n2       Hampshire, South East, South East           Hampshire          NaN   \n3          Surrey, South East, South East              Surrey          NaN   \n4          Surrey, South East, South East              Surrey          NaN   \n...                                   ...                 ...          ...   \n239763              UK South East England  South East England          NaN   \n239764                      UK Birmingham          Birmingham          NaN   \n239765                          UK Havant              Havant          NaN   \n239766                       UK Leicester           Leicester          NaN   \n239767              UK South East England  South East England          NaN   \n\n       ContractTime                         Company          Category   \n0         permanent    Gregory Martin International  Engineering Jobs  \\\n1         permanent    Gregory Martin International  Engineering Jobs   \n2         permanent    Gregory Martin International  Engineering Jobs   \n3         permanent    Gregory Martin International  Engineering Jobs   \n4         permanent    Gregory Martin International  Engineering Jobs   \n...             ...                             ...               ...   \n239763    permanent  Rise Technical Recruitment Ltd  Engineering Jobs   \n239764    permanent     Monarch Recruitment Limited           IT Jobs   \n239765     contract                    Preferred IT           IT Jobs   \n239766    permanent        Technical Placements Ltd  Engineering Jobs   \n239767    permanent  Rise Technical Recruitment Ltd  Engineering Jobs   \n\n                                                SalaryRaw  SalaryNormalized   \n0                              20000 - 30000/annum 20-30K             25000  \\\n1                              25000 - 35000/annum 25-35K             30000   \n2                              20000 - 40000/annum 20-40K             30000   \n3                  25000 - 30000/annum 25K-30K negotiable             27500   \n4                              20000 - 30000/annum 20-30K             25000   \n...                                                   ...               ...   \n239763    23000 - 23500 per annum + Full Product Training             23250   \n239764  35000 to 45000 Per: annum Benefits: Excellent ...             40000   \n239765                                  320 - 383 per day             84360   \n239766           400 - 500 per week + Overtime + Benefits             21600   \n239767    23000 - 23500 per annum + Full Product Training             23250   \n\n              SourceName  Log1pSalary  \n0       cv-library.co.uk    10.126671  \n1       cv-library.co.uk    10.308986  \n2       cv-library.co.uk    10.308986  \n3       cv-library.co.uk    10.221977  \n4       cv-library.co.uk    10.126671  \n...                  ...          ...  \n239763     careers4a.com    10.054104  \n239764     careers4a.com    10.596660  \n239765     careers4a.com    11.342860  \n239766     careers4a.com     9.980494  \n239767     careers4a.com    10.054104  \n\n[239768 rows x 13 columns]",
      "text/html": "<div>\n<style scoped>\n    .dataframe tbody tr th:only-of-type {\n        vertical-align: middle;\n    }\n\n    .dataframe tbody tr th {\n        vertical-align: top;\n    }\n\n    .dataframe thead th {\n        text-align: right;\n    }\n</style>\n<table border=\"1\" class=\"dataframe\">\n  <thead>\n    <tr style=\"text-align: right;\">\n      <th></th>\n      <th>Id</th>\n      <th>Title</th>\n      <th>FullDescription</th>\n      <th>LocationRaw</th>\n      <th>LocationNormalized</th>\n      <th>ContractType</th>\n      <th>ContractTime</th>\n      <th>Company</th>\n      <th>Category</th>\n      <th>SalaryRaw</th>\n      <th>SalaryNormalized</th>\n      <th>SourceName</th>\n      <th>Log1pSalary</th>\n    </tr>\n  </thead>\n  <tbody>\n    <tr>\n      <th>0</th>\n      <td>12612628</td>\n      <td>engineering systems analyst</td>\n      <td>engineering systems analyst dorking surrey sal...</td>\n      <td>Dorking, Surrey, Surrey</td>\n      <td>Dorking</td>\n      <td>NaN</td>\n      <td>permanent</td>\n      <td>Gregory Martin International</td>\n      <td>Engineering Jobs</td>\n      <td>20000 - 30000/annum 20-30K</td>\n      <td>25000</td>\n      <td>cv-library.co.uk</td>\n      <td>10.126671</td>\n    </tr>\n    <tr>\n      <th>1</th>\n      <td>12612830</td>\n      <td>stress engineer glasgow</td>\n      <td>stress engineer glasgow salary **** to **** we...</td>\n      <td>Glasgow, Scotland, Scotland</td>\n      <td>Glasgow</td>\n      <td>NaN</td>\n      <td>permanent</td>\n      <td>Gregory Martin International</td>\n      <td>Engineering Jobs</td>\n      <td>25000 - 35000/annum 25-35K</td>\n      <td>30000</td>\n      <td>cv-library.co.uk</td>\n      <td>10.308986</td>\n    </tr>\n    <tr>\n      <th>2</th>\n      <td>12612844</td>\n      <td>modelling and simulation analyst</td>\n      <td>mathematical modeller / simulation analyst / o...</td>\n      <td>Hampshire, South East, South East</td>\n      <td>Hampshire</td>\n      <td>NaN</td>\n      <td>permanent</td>\n      <td>Gregory Martin International</td>\n      <td>Engineering Jobs</td>\n      <td>20000 - 40000/annum 20-40K</td>\n      <td>30000</td>\n      <td>cv-library.co.uk</td>\n      <td>10.308986</td>\n    </tr>\n    <tr>\n      <th>3</th>\n      <td>12613049</td>\n      <td>engineering systems analyst / mathematical mod...</td>\n      <td>engineering systems analyst / mathematical mod...</td>\n      <td>Surrey, South East, South East</td>\n      <td>Surrey</td>\n      <td>NaN</td>\n      <td>permanent</td>\n      <td>Gregory Martin International</td>\n      <td>Engineering Jobs</td>\n      <td>25000 - 30000/annum 25K-30K negotiable</td>\n      <td>27500</td>\n      <td>cv-library.co.uk</td>\n      <td>10.221977</td>\n    </tr>\n    <tr>\n      <th>4</th>\n      <td>12613647</td>\n      <td>pioneer , miser engineering systems analyst</td>\n      <td>pioneer , miser engineering systems analyst do...</td>\n      <td>Surrey, South East, South East</td>\n      <td>Surrey</td>\n      <td>NaN</td>\n      <td>permanent</td>\n      <td>Gregory Martin International</td>\n      <td>Engineering Jobs</td>\n      <td>20000 - 30000/annum 20-30K</td>\n      <td>25000</td>\n      <td>cv-library.co.uk</td>\n      <td>10.126671</td>\n    </tr>\n    <tr>\n      <th>...</th>\n      <td>...</td>\n      <td>...</td>\n      <td>...</td>\n      <td>...</td>\n      <td>...</td>\n      <td>...</td>\n      <td>...</td>\n      <td>...</td>\n      <td>...</td>\n      <td>...</td>\n      <td>...</td>\n      <td>...</td>\n      <td>...</td>\n    </tr>\n    <tr>\n      <th>239763</th>\n      <td>72629906</td>\n      <td>sales / service engineer ( plant / constructio...</td>\n      <td>exciting opportunity for a service engineer to...</td>\n      <td>UK South East England</td>\n      <td>South East England</td>\n      <td>NaN</td>\n      <td>permanent</td>\n      <td>Rise Technical Recruitment Ltd</td>\n      <td>Engineering Jobs</td>\n      <td>23000 - 23500 per annum + Full Product Training</td>\n      <td>23250</td>\n      <td>careers4a.com</td>\n      <td>10.054104</td>\n    </tr>\n    <tr>\n      <th>239764</th>\n      <td>72629907</td>\n      <td>virtualisation engineer</td>\n      <td>virtualisation engineer birmingham **** to ***...</td>\n      <td>UK Birmingham</td>\n      <td>Birmingham</td>\n      <td>NaN</td>\n      <td>permanent</td>\n      <td>Monarch Recruitment Limited</td>\n      <td>IT Jobs</td>\n      <td>35000 to 45000 Per: annum Benefits: Excellent ...</td>\n      <td>40000</td>\n      <td>careers4a.com</td>\n      <td>10.596660</td>\n    </tr>\n    <tr>\n      <th>239765</th>\n      <td>72629910</td>\n      <td>contract database administrator</td>\n      <td>our client are one of the largest and most div...</td>\n      <td>UK Havant</td>\n      <td>Havant</td>\n      <td>NaN</td>\n      <td>contract</td>\n      <td>Preferred IT</td>\n      <td>IT Jobs</td>\n      <td>320 - 383 per day</td>\n      <td>84360</td>\n      <td>careers4a.com</td>\n      <td>11.342860</td>\n    </tr>\n    <tr>\n      <th>239766</th>\n      <td>72629913</td>\n      <td>cnc grinder cnc turner</td>\n      <td>cnc grinders and turners required in the leice...</td>\n      <td>UK Leicester</td>\n      <td>Leicester</td>\n      <td>NaN</td>\n      <td>permanent</td>\n      <td>Technical Placements Ltd</td>\n      <td>Engineering Jobs</td>\n      <td>400 - 500 per week + Overtime + Benefits</td>\n      <td>21600</td>\n      <td>careers4a.com</td>\n      <td>9.980494</td>\n    </tr>\n    <tr>\n      <th>239767</th>\n      <td>72629914</td>\n      <td>sales engineer ( plant / construction equipment )</td>\n      <td>exciting opportunity for a sales executive to ...</td>\n      <td>UK South East England</td>\n      <td>South East England</td>\n      <td>NaN</td>\n      <td>permanent</td>\n      <td>Rise Technical Recruitment Ltd</td>\n      <td>Engineering Jobs</td>\n      <td>23000 - 23500 per annum + Full Product Training</td>\n      <td>23250</td>\n      <td>careers4a.com</td>\n      <td>10.054104</td>\n    </tr>\n  </tbody>\n</table>\n<p>239768 rows × 13 columns</p>\n</div>"
     },
     "execution_count": 70,
     "metadata": {},
     "output_type": "execute_result"
    }
   ],
   "source": [
    "data"
   ],
   "metadata": {
    "collapsed": false,
    "ExecuteTime": {
     "end_time": "2023-05-29T18:27:52.272372901Z",
     "start_time": "2023-05-29T18:27:52.271737561Z"
    }
   }
  },
  {
   "cell_type": "code",
   "execution_count": 71,
   "metadata": {
    "id": "YtFA7G8R1Sj4",
    "outputId": "36aae9d9-a62e-43ce-913e-43a0790a4914",
    "colab": {
     "base_uri": "https://localhost:8080/"
    },
    "ExecuteTime": {
     "end_time": "2023-05-29T18:27:52.375159760Z",
     "start_time": "2023-05-29T18:27:52.319367397Z"
    }
   },
   "outputs": [
    {
     "data": {
      "text/plain": "2598827"
     },
     "execution_count": 71,
     "metadata": {},
     "output_type": "execute_result"
    }
   ],
   "source": [
    "token_counts.most_common(1)[0][1]"
   ]
  },
  {
   "cell_type": "code",
   "execution_count": 72,
   "metadata": {
    "colab": {
     "base_uri": "https://localhost:8080/",
     "height": 215
    },
    "id": "GiOWbc15ycOb",
    "outputId": "1e807140-5513-4af0-d9a9-9f029059a553",
    "ExecuteTime": {
     "end_time": "2023-05-29T18:27:52.470482742Z",
     "start_time": "2023-05-29T18:27:52.331945929Z"
    }
   },
   "outputs": [
    {
     "name": "stdout",
     "output_type": "stream",
     "text": [
      "Total unique tokens : 201127\n",
      "('and', 2598827)\n",
      "('.', 2471477)\n",
      "(',', 2266256)\n",
      "('the', 2036428)\n",
      "('to', 1977039)\n",
      "...\n",
      "('dbms_stats', 1)\n",
      "('dbms_output', 1)\n",
      "('dbms_job', 1)\n",
      "Correct!\n",
      "Vocabulary size: 33795\n",
      "Correct!\n",
      "Correct!\n"
     ]
    }
   ],
   "source": [
    "print(\"Total unique tokens :\", len(token_counts))\n",
    "print('\\n'.join(map(str, token_counts.most_common(n=5))))\n",
    "print('...')\n",
    "print('\\n'.join(map(str, token_counts.most_common()[-3:])))\n",
    "\n",
    "assert token_counts.most_common(1)[0][1] in  range(2500000, 2700000)\n",
    "assert len(token_counts) in range(200000, 210000)\n",
    "print('Correct!')\n",
    "\n",
    "min_count = 10\n",
    "\n",
    "# tokens from token_counts keys that had at least min_count occurrences throughout the dataset\n",
    "tokens = [token for token, count in token_counts.items() if count >= min_count]# <YOUR CODE HERE>\n",
    "# Add a special tokens for unknown and empty words\n",
    "UNK, PAD = \"UNK\", \"PAD\"\n",
    "tokens = [UNK, PAD] + sorted(tokens)\n",
    "print(\"Vocabulary size:\", len(tokens))\n",
    "\n",
    "assert type(tokens) == list\n",
    "assert len(tokens) in range(32000, 35000)\n",
    "assert 'me' in tokens\n",
    "assert UNK in tokens\n",
    "print(\"Correct!\")\n",
    "\n",
    "token_to_id = {token: idx for idx, token in enumerate(tokens)}\n",
    "assert isinstance(token_to_id, dict)\n",
    "assert len(token_to_id) == len(tokens)\n",
    "for tok in tokens:\n",
    "    assert tokens[token_to_id[tok]] == tok\n",
    "\n",
    "print(\"Correct!\")"
   ]
  },
  {
   "cell_type": "code",
   "execution_count": 73,
   "metadata": {
    "id": "JEsLeBjVycOw",
    "ExecuteTime": {
     "end_time": "2023-05-29T18:27:52.474680656Z",
     "start_time": "2023-05-29T18:27:52.473072406Z"
    }
   },
   "outputs": [],
   "source": [
    "UNK_IX, PAD_IX = map(token_to_id.get, [UNK, PAD])\n",
    "\n",
    "def as_matrix(sequences, max_len=None):\n",
    "    \"\"\" Convert a list of tokens into a matrix with padding \"\"\"\n",
    "    if isinstance(sequences[0], str):\n",
    "        sequences = list(map(str.split, sequences))\n",
    "        \n",
    "    max_len = min(max(map(len, sequences)), max_len or float('inf'))\n",
    "    \n",
    "    matrix = np.full((len(sequences), max_len), np.int32(PAD_IX))\n",
    "    for i,seq in enumerate(sequences):\n",
    "        row_ix = [token_to_id.get(word, UNK_IX) for word in seq[:max_len]]\n",
    "        matrix[i, :len(row_ix)] = row_ix\n",
    "    \n",
    "    return matrix"
   ]
  },
  {
   "cell_type": "code",
   "execution_count": 74,
   "metadata": {
    "colab": {
     "base_uri": "https://localhost:8080/",
     "height": 179
    },
    "id": "JiBlPkdKycOy",
    "outputId": "3866b444-1e2d-4d79-d429-fecc6d8e02a8",
    "ExecuteTime": {
     "end_time": "2023-05-29T18:27:52.521590501Z",
     "start_time": "2023-05-29T18:27:52.475886064Z"
    }
   },
   "outputs": [
    {
     "name": "stdout",
     "output_type": "stream",
     "text": [
      "Lines:\n",
      "engineering systems analyst\n",
      "hr assistant\n",
      "senior ec & i engineer\n",
      "\n",
      "Matrix:\n",
      "[[10705 29830  2143     1     1]\n",
      " [14875  2817     1     1     1]\n",
      " [27345 10107    15 15069 10702]]\n"
     ]
    }
   ],
   "source": [
    "print(\"Lines:\")\n",
    "print('\\n'.join(data[\"Title\"][::100000].values), end='\\n\\n')\n",
    "print(\"Matrix:\")\n",
    "print(as_matrix(data[\"Title\"][::100000]))"
   ]
  },
  {
   "cell_type": "code",
   "execution_count": 75,
   "metadata": {
    "colab": {
     "base_uri": "https://localhost:8080/",
     "height": 53
    },
    "id": "DpOlBp7ZycO6",
    "outputId": "30a911f2-7d35-4cb5-8991-60457b1e8bac",
    "ExecuteTime": {
     "end_time": "2023-05-29T18:27:55.815161021Z",
     "start_time": "2023-05-29T18:27:52.563419955Z"
    }
   },
   "outputs": [
    {
     "data": {
      "text/plain": "DictVectorizer(dtype=<class 'numpy.float32'>, sparse=False)",
      "text/html": "<style>#sk-container-id-2 {color: black;background-color: white;}#sk-container-id-2 pre{padding: 0;}#sk-container-id-2 div.sk-toggleable {background-color: white;}#sk-container-id-2 label.sk-toggleable__label {cursor: pointer;display: block;width: 100%;margin-bottom: 0;padding: 0.3em;box-sizing: border-box;text-align: center;}#sk-container-id-2 label.sk-toggleable__label-arrow:before {content: \"▸\";float: left;margin-right: 0.25em;color: #696969;}#sk-container-id-2 label.sk-toggleable__label-arrow:hover:before {color: black;}#sk-container-id-2 div.sk-estimator:hover label.sk-toggleable__label-arrow:before {color: black;}#sk-container-id-2 div.sk-toggleable__content {max-height: 0;max-width: 0;overflow: hidden;text-align: left;background-color: #f0f8ff;}#sk-container-id-2 div.sk-toggleable__content pre {margin: 0.2em;color: black;border-radius: 0.25em;background-color: #f0f8ff;}#sk-container-id-2 input.sk-toggleable__control:checked~div.sk-toggleable__content {max-height: 200px;max-width: 100%;overflow: auto;}#sk-container-id-2 input.sk-toggleable__control:checked~label.sk-toggleable__label-arrow:before {content: \"▾\";}#sk-container-id-2 div.sk-estimator input.sk-toggleable__control:checked~label.sk-toggleable__label {background-color: #d4ebff;}#sk-container-id-2 div.sk-label input.sk-toggleable__control:checked~label.sk-toggleable__label {background-color: #d4ebff;}#sk-container-id-2 input.sk-hidden--visually {border: 0;clip: rect(1px 1px 1px 1px);clip: rect(1px, 1px, 1px, 1px);height: 1px;margin: -1px;overflow: hidden;padding: 0;position: absolute;width: 1px;}#sk-container-id-2 div.sk-estimator {font-family: monospace;background-color: #f0f8ff;border: 1px dotted black;border-radius: 0.25em;box-sizing: border-box;margin-bottom: 0.5em;}#sk-container-id-2 div.sk-estimator:hover {background-color: #d4ebff;}#sk-container-id-2 div.sk-parallel-item::after {content: \"\";width: 100%;border-bottom: 1px solid gray;flex-grow: 1;}#sk-container-id-2 div.sk-label:hover label.sk-toggleable__label {background-color: #d4ebff;}#sk-container-id-2 div.sk-serial::before {content: \"\";position: absolute;border-left: 1px solid gray;box-sizing: border-box;top: 0;bottom: 0;left: 50%;z-index: 0;}#sk-container-id-2 div.sk-serial {display: flex;flex-direction: column;align-items: center;background-color: white;padding-right: 0.2em;padding-left: 0.2em;position: relative;}#sk-container-id-2 div.sk-item {position: relative;z-index: 1;}#sk-container-id-2 div.sk-parallel {display: flex;align-items: stretch;justify-content: center;background-color: white;position: relative;}#sk-container-id-2 div.sk-item::before, #sk-container-id-2 div.sk-parallel-item::before {content: \"\";position: absolute;border-left: 1px solid gray;box-sizing: border-box;top: 0;bottom: 0;left: 50%;z-index: -1;}#sk-container-id-2 div.sk-parallel-item {display: flex;flex-direction: column;z-index: 1;position: relative;background-color: white;}#sk-container-id-2 div.sk-parallel-item:first-child::after {align-self: flex-end;width: 50%;}#sk-container-id-2 div.sk-parallel-item:last-child::after {align-self: flex-start;width: 50%;}#sk-container-id-2 div.sk-parallel-item:only-child::after {width: 0;}#sk-container-id-2 div.sk-dashed-wrapped {border: 1px dashed gray;margin: 0 0.4em 0.5em 0.4em;box-sizing: border-box;padding-bottom: 0.4em;background-color: white;}#sk-container-id-2 div.sk-label label {font-family: monospace;font-weight: bold;display: inline-block;line-height: 1.2em;}#sk-container-id-2 div.sk-label-container {text-align: center;}#sk-container-id-2 div.sk-container {/* jupyter's `normalize.less` sets `[hidden] { display: none; }` but bootstrap.min.css set `[hidden] { display: none !important; }` so we also need the `!important` here to be able to override the default hidden behavior on the sphinx rendered scikit-learn.org. See: https://github.com/scikit-learn/scikit-learn/issues/21755 */display: inline-block !important;position: relative;}#sk-container-id-2 div.sk-text-repr-fallback {display: none;}</style><div id=\"sk-container-id-2\" class=\"sk-top-container\"><div class=\"sk-text-repr-fallback\"><pre>DictVectorizer(dtype=&lt;class &#x27;numpy.float32&#x27;&gt;, sparse=False)</pre><b>In a Jupyter environment, please rerun this cell to show the HTML representation or trust the notebook. <br />On GitHub, the HTML representation is unable to render, please try loading this page with nbviewer.org.</b></div><div class=\"sk-container\" hidden><div class=\"sk-item\"><div class=\"sk-estimator sk-toggleable\"><input class=\"sk-toggleable__control sk-hidden--visually\" id=\"sk-estimator-id-2\" type=\"checkbox\" checked><label for=\"sk-estimator-id-2\" class=\"sk-toggleable__label sk-toggleable__label-arrow\">DictVectorizer</label><div class=\"sk-toggleable__content\"><pre>DictVectorizer(dtype=&lt;class &#x27;numpy.float32&#x27;&gt;, sparse=False)</pre></div></div></div></div></div>"
     },
     "execution_count": 75,
     "metadata": {},
     "output_type": "execute_result"
    }
   ],
   "source": [
    "from sklearn.feature_extraction import DictVectorizer\n",
    "\n",
    "# we only consider top-1k most frequent companies to minimize memory usage\n",
    "top_companies, top_counts = zip(*Counter(data['Company']).most_common(1000))\n",
    "recognized_companies = set(top_companies)\n",
    "data[\"Company\"] = data[\"Company\"].apply(lambda comp: comp if comp in recognized_companies else \"Other\")\n",
    "\n",
    "categorical_vectorizer = DictVectorizer(dtype=np.float32, sparse=False)\n",
    "categorical_vectorizer.fit(data[categorical_columns].apply(dict, axis=1))"
   ]
  },
  {
   "cell_type": "markdown",
   "metadata": {
    "id": "yk4jmtAYycO8"
   },
   "source": [
    "### The deep learning part\n",
    "\n",
    "Once we've learned to tokenize the data, let's design a machine learning experiment.\n",
    "\n",
    "As before, we won't focus too much on validation, opting for a simple train-test split.\n",
    "\n",
    "__To be completely rigorous,__ we've comitted a small crime here: we used the whole data for tokenization and vocabulary building. A more strict way would be to do that part on training set only. You may want to do that and measure the magnitude of changes.\n",
    "\n",
    "\n",
    "#### Here comes the simple one-headed network from the seminar. "
   ]
  },
  {
   "cell_type": "code",
   "execution_count": 76,
   "metadata": {
    "colab": {
     "base_uri": "https://localhost:8080/",
     "height": 53
    },
    "id": "TngLcWA0ycO_",
    "outputId": "6731b28c-07b1-41dc-9574-f76b01785bba",
    "ExecuteTime": {
     "end_time": "2023-05-29T18:27:55.928204678Z",
     "start_time": "2023-05-29T18:27:55.817800879Z"
    }
   },
   "outputs": [
    {
     "name": "stdout",
     "output_type": "stream",
     "text": [
      "Train size =  191814\n",
      "Validation size =  47954\n"
     ]
    }
   ],
   "source": [
    "from sklearn.model_selection import train_test_split\n",
    "\n",
    "data_train, data_val = train_test_split(data, test_size=0.2, random_state=42)\n",
    "data_train.index = range(len(data_train))\n",
    "data_val.index = range(len(data_val))\n",
    "\n",
    "print(\"Train size = \", len(data_train))\n",
    "print(\"Validation size = \", len(data_val))"
   ]
  },
  {
   "cell_type": "code",
   "execution_count": 77,
   "metadata": {
    "id": "2PXuKgOSycPB",
    "ExecuteTime": {
     "end_time": "2023-05-29T18:27:55.981534008Z",
     "start_time": "2023-05-29T18:27:55.931478616Z"
    }
   },
   "outputs": [],
   "source": [
    "def make_batch(data, max_len=None, word_dropout=0):\n",
    "    \"\"\"\n",
    "    Creates a keras-friendly dict from the batch data.\n",
    "    :param word_dropout: replaces token index with UNK_IX with this probability\n",
    "    :returns: a dict with {'title' : int64[batch, title_max_len]\n",
    "    \"\"\"\n",
    "    batch = {}\n",
    "    batch[\"Title\"] = as_matrix(data[\"Title\"].values, max_len)\n",
    "    batch[\"FullDescription\"] = as_matrix(data[\"FullDescription\"].values, max_len)\n",
    "    batch['Categorical'] = categorical_vectorizer.transform(data[categorical_columns].apply(dict, axis=1))\n",
    "    \n",
    "    if word_dropout != 0:\n",
    "        batch[\"FullDescription\"] = apply_word_dropout(batch[\"FullDescription\"], 1. - word_dropout)\n",
    "    \n",
    "    if target_column in data.columns:\n",
    "        batch[target_column] = data[target_column].values\n",
    "    \n",
    "    return batch\n",
    "\n",
    "def apply_word_dropout(matrix, keep_prop, replace_with=UNK_IX, pad_ix=PAD_IX,):\n",
    "    dropout_mask = np.random.choice(2, np.shape(matrix), p=[keep_prop, 1 - keep_prop])\n",
    "    dropout_mask &= matrix != pad_ix\n",
    "    return np.choose(dropout_mask, [matrix, np.full_like(matrix, replace_with)])"
   ]
  },
  {
   "cell_type": "code",
   "execution_count": 78,
   "metadata": {
    "id": "I6LpEQf0ycPD",
    "ExecuteTime": {
     "end_time": "2023-05-29T18:27:55.981771597Z",
     "start_time": "2023-05-29T18:27:55.975456442Z"
    }
   },
   "outputs": [],
   "source": [
    "a = make_batch(data_train[:3], max_len=10)"
   ]
  },
  {
   "cell_type": "markdown",
   "metadata": {
    "id": "YMar1FSh1Sj6"
   },
   "source": [
    "But to start with let's build the simple model using only the part of the data. Let's create the baseline solution using only the description part (so it should definetely fit into the Sequential model)."
   ]
  },
  {
   "cell_type": "code",
   "execution_count": 79,
   "metadata": {
    "id": "CnWlL2Rz1Sj6",
    "ExecuteTime": {
     "end_time": "2023-05-29T18:27:55.981872427Z",
     "start_time": "2023-05-29T18:27:55.975671769Z"
    }
   },
   "outputs": [],
   "source": [
    "import torch\n",
    "from torch import nn\n",
    "import torch.nn.functional as F"
   ]
  },
  {
   "cell_type": "code",
   "execution_count": 80,
   "metadata": {
    "id": "wohpMe0O1Sj7",
    "ExecuteTime": {
     "end_time": "2023-05-29T18:27:55.981966605Z",
     "start_time": "2023-05-29T18:27:55.975787568Z"
    }
   },
   "outputs": [],
   "source": [
    "# You will need these to make it simple\n",
    "\n",
    "class Flatten(nn.Module):\n",
    "    def forward(self, input):\n",
    "        return input.view(input.size(0), -1)\n",
    "\n",
    "class Reorder(nn.Module):\n",
    "    def forward(self, input):\n",
    "        return input.permute((0, 2, 1))"
   ]
  },
  {
   "cell_type": "markdown",
   "metadata": {
    "id": "fEztrtl81Sj7"
   },
   "source": [
    "To generate minibatches we will use simple pyton generator."
   ]
  },
  {
   "cell_type": "code",
   "execution_count": 81,
   "metadata": {
    "id": "98xPNhAF1Sj7",
    "ExecuteTime": {
     "end_time": "2023-05-29T18:27:55.982053169Z",
     "start_time": "2023-05-29T18:27:55.975960575Z"
    }
   },
   "outputs": [],
   "source": [
    "def iterate_minibatches(data, batch_size=256, shuffle=True, cycle=False, **kwargs):\n",
    "    \"\"\" iterates minibatches of data in random order \"\"\"\n",
    "    while True:\n",
    "        indices = np.arange(len(data))\n",
    "        if shuffle:\n",
    "            indices = np.random.permutation(indices)\n",
    "\n",
    "        for start in range(0, len(indices), batch_size):\n",
    "            batch = make_batch(data.iloc[indices[start : start + batch_size]], **kwargs)\n",
    "            target = batch.pop(target_column)\n",
    "            yield batch, target\n",
    "        \n",
    "        if not cycle: break"
   ]
  },
  {
   "cell_type": "code",
   "execution_count": 82,
   "metadata": {
    "id": "CarV06f41Sj7",
    "ExecuteTime": {
     "end_time": "2023-05-29T18:27:56.025661688Z",
     "start_time": "2023-05-29T18:27:56.023450198Z"
    }
   },
   "outputs": [],
   "source": [
    "iterator = iterate_minibatches(data_train, 3)\n",
    "batch, target = next(iterator)"
   ]
  },
  {
   "cell_type": "code",
   "execution_count": 83,
   "metadata": {
    "id": "h9fllxT71Sj7",
    "ExecuteTime": {
     "end_time": "2023-05-29T18:27:56.025870302Z",
     "start_time": "2023-05-29T18:27:56.023667910Z"
    }
   },
   "outputs": [],
   "source": [
    "# Here is some startup code:\n",
    "n_tokens=len(tokens)\n",
    "n_cat_features=len(categorical_vectorizer.vocabulary_)\n",
    "hid_size=64\n",
    "simple_model = nn.Sequential()\n",
    "\n",
    "simple_model.add_module('emb', nn.Embedding(num_embeddings=n_tokens, embedding_dim=hid_size))\n",
    "simple_model.add_module('reorder', Reorder())\n",
    "simple_model.add_module('conv1', nn.Conv1d(\n",
    "    in_channels=hid_size,\n",
    "    out_channels=hid_size,\n",
    "    kernel_size=2)\n",
    "                       )\n",
    "simple_model.add_module('relu1', nn.ReLU())\n",
    "simple_model.add_module('adapt_avg_pool', nn.AdaptiveAvgPool1d(output_size=1))\n",
    "simple_model.add_module('flatten1', Flatten())\n",
    "simple_model.add_module('linear1', nn.Linear(in_features=hid_size, out_features=1))\n",
    "# <YOUR CODE HERE>"
   ]
  },
  {
   "cell_type": "code",
   "execution_count": 84,
   "metadata": {
    "id": "lmHw2aDl1Sj7",
    "outputId": "79e5b936-6143-4c83-c8ae-01d9b20a5db8",
    "ExecuteTime": {
     "end_time": "2023-05-29T18:27:56.026248447Z",
     "start_time": "2023-05-29T18:27:56.023797885Z"
    }
   },
   "outputs": [
    {
     "data": {
      "text/plain": "{'Title': array([[10953,   195, 12929,  1874, 31020, 29566,  2143, 17576, 30625,\n            80],\n        [ 6347, 27463, 18670, 24360, 33738, 18192,     1,     1,     1,\n             1],\n        [27943, 29543,     1,     1,     1,     1,     1,     1,     1,\n             1]], dtype=int32),\n 'FullDescription': array([[30512, 16289,  2120, 11295, 21721, 12466,  2120, 11458, 10953,\n             0,  2386, 29566,  2143, 30762, 16729,   965, 17576, 30625,\n            80, 16156,  3400,   167, 30411, 29406, 14542, 33079, 16729,\n           965, 33375, 30080, 24253, 23936,  2166, 24899, 29566, 15447,\n             0,  5961,   912, 24922, 30654, 19920, 21405, 23975,  7148,\n           156,  2166, 31003, 12343,   912, 29822,  4517,   195, 12224,\n          2166, 31927, 25096,  2166, 11025, 21405, 17758, 30560, 23956,\n         30762,  7503,  9000,  2166, 10705, 13705,   167, 27048,  1041,\n         16289,  1973, 11068,  2662, 30411, 30080,  3105,  2166, 12224,\n         23956, 31946,  3522, 27628,  2166, 22754, 21556,   965,  8435,\n          3536,   167,  2662,   965, 27345, 17758, 14542, 33635, 33079,\n          1973, 24244, 19332,  2166, 17203, 27582, 30762, 19981, 16837,\n         19293, 21405, 30411, 30080,   912,  9544, 25096, 23963,   912,\n         10778,  6347, 25729,  2166,     0,  2545, 15468, 16079, 30411,\n          2389,   912,  2166, 33331, 33198,  9000,  2166, 10705, 13705,\n         30762, 24244, 30842, 30762, 15387, 19920,   912, 15476, 28781,\n          2166,  3105, 18765, 29996,   167, 25729,   965, 30991, 29574,\n           965, 18041, 12772, 21425, 10866, 28552, 31020,  5467, 10953,\n          2166, 12929, 31020,   156, 15143, 15402,  2120,  3106, 18310,\n         17458,  2166, 14446, 30582, 10866,   167, 29227, 30131,   156,\n          6806,   156,  2151,  2166, 23954, 28362, 28011,   167, 11295,\n         31737,   195, 17979, 17203,   167,  2892, 17622, 21573, 27048,\n         17420, 15143,  4353,  3522, 27628,  2166, 22754,   167, 12224,\n         24230,    80, 13446,  8664, 15143, 15402,  6990, 26982, 21784,\n          1987, 10705,   156, 18984, 21784,   965, 14009, 26982,   167,\n         30512, 16289,  2120, 11295, 21721, 12466,  2120, 11458, 10953,\n             0,  2386, 29566,  2143, 30762, 16729,   965, 17576, 30625,\n            80, 16156,  3400,   167,     1,     1],\n        [23415,   891,  6347, 27463, 18670, 24360, 33738, 18192, 26682,\n           891, 31823, 30762,    80, 23248,  4266,   156, 23248, 11295,\n          3771, 30411, 26324, 33635, 33079, 18659, 17041,  6347, 25449,\n           156,  1321, 24244, 17572, 12466,   965, 30080,  2166, 10778,\n         30411,  1238, 21405,  4810, 24050, 15402,  2120, 10866, 30407,\n          8714, 21687, 11294,   167, 33635, 20357, 14109, 29227,  1175,\n         18664, 28011,  7651, 33198, 15402,  8837, 17203, 21405, 24360,\n         33209, 30411, 24343, 27169,   167, 30411,  6347, 16289, 18235,\n         12466,   965, 30847,  6261,   156, 14477, 24024,   156, 29152,\n          1175, 18664, 24024, 30407, 16289,  1048, 30762,  1235, 21293,\n         33209,   965, 32205, 11804, 22165, 10866,   167, 17203, 24360,\n         33738, 24343, 27169, 23386, 18664, 22152, 17301,  6347, 27463,\n         30080, 18664,   965,  4385, 31909,  2697, 33738,  7146, 18850,\n          4949, 33198, 30411, 32205,  3837, 29913,   167, 32504, 10004,\n          2545,   965, 17576, 22759,   156,  7338,  2166, 11346, 27115,\n          7251, 28534, 15402, 17041,  2548, 33209, 18850, 30407, 15446,\n           891, 18850, 30160,   156,  8894,  2166,  9000,    32, 16378,\n            63,  9177, 18850,    32, 20697, 19217,    63,  8341,  5178,\n           195, 24093, 18664, 24002, 23886,   195, 22181, 18776, 23886,\n         18664,  7792, 27463,  6347, 27463, 25440,  4419,    32,  4938,\n         23971, 22034,    63, 21972, 11458,  7253, 10010, 14109, 30422,\n         22123, 27172, 21405, 11491, 21419, 30422, 27463,  1297,  1894,\n          2548, 21405,  4938, 12769, 24002,   156, 21689,  2166,  8894,\n         30578, 30762, 26688,   156,  6347, 27463,   156, 18850,  2166,\n          1894, 17768, 21405, 27345, 18664,  2166,  9246,   167,  2697,\n         33738, 33468,   167,  2698,   167,  6489,   167, 31523, 30512,\n         16658, 32637, 21870, 23459,  2662, 33468,   167, 30895,   167,\n          6681,   195, 16679,   195,     0,    80],\n        [10327, 30268, 30762, 22759, 21784, 29134, 22759, 12466, 30411,\n         26139,  5221,   167, 33635, 33079,  3607, 33331, 12466,   965,\n         25704, 29234, 28953, 12168,   156,  2166, 13157,  3607,  3512,\n         21556, 30411, 27943, 21405, 30422,  8130,   167, 20357, 14632,\n         30411, 12426, 24556, 21784,  5332, 28203,   156,  7985,  7239,\n         29543,   156,  7706,     0,   156,  7706, 28098,  2166, 27824,\n           167,   965,     0,  7761, 29545, 17840, 33403,  1973,  3607,\n          2120,  1532,  1993, 21084, 11068,   167, 33642, 18568,  9953,\n         33079,  3607, 30762, 10778, 30411, 28191, 26563, 21405, 28953,\n         10986, 24114,   156, 18700, 30411, 30080, 21556, 27943,  2166,\n         33331, 30762,  8485,   167, 30407, 26667, 30411, 26324, 33079,\n          3607, 32205, 13963, 21556, 28242,  2385, 20357,  3607, 33092,\n         30762,  2815, 32962, 25722,   167, 33635, 33079, 23863,  3607,\n         33331,  3192, 12769, 14677,   156, 32971, 16289, 29357,  5016,\n         30411, 12168,   156,  1993, 20695, 19981, 30401,   646,  8430,\n          2892,   965, 30654,     1,     1,     1,     1,     1,     1,\n             1,     1,     1,     1,     1,     1,     1,     1,     1,\n             1,     1,     1,     1,     1,     1,     1,     1,     1,\n             1,     1,     1,     1,     1,     1,     1,     1,     1,\n             1,     1,     1,     1,     1,     1,     1,     1,     1,\n             1,     1,     1,     1,     1,     1,     1,     1,     1,\n             1,     1,     1,     1,     1,     1,     1,     1,     1,\n             1,     1,     1,     1,     1,     1,     1,     1,     1,\n             1,     1,     1,     1,     1,     1,     1,     1,     1,\n             1,     1,     1,     1,     1,     1,     1,     1,     1,\n             1,     1,     1,     1,     1,     1,     1,     1,     1,\n             1,     1,     1,     1,     1,     1,     1,     1,     1,\n             1,     1,     1,     1,     1,     1]], dtype=int32),\n 'Categorical': array([[0., 0., 0., ..., 0., 0., 0.],\n        [0., 0., 0., ..., 0., 0., 0.],\n        [0., 0., 0., ..., 0., 0., 0.]], dtype=float32)}"
     },
     "execution_count": 84,
     "metadata": {},
     "output_type": "execute_result"
    }
   ],
   "source": [
    "batch"
   ]
  },
  {
   "cell_type": "markdown",
   "metadata": {
    "id": "cEkxrwxq1Sj7"
   },
   "source": [
    "__Remember!__ We are working with regression problem and predicting only one number."
   ]
  },
  {
   "cell_type": "code",
   "execution_count": 85,
   "metadata": {
    "id": "4QSBb4Im1Sj7",
    "outputId": "03897a46-ef6a-47d6-b172-62fd632ad8d0",
    "ExecuteTime": {
     "end_time": "2023-05-29T18:27:56.086490622Z",
     "start_time": "2023-05-29T18:27:56.024047898Z"
    }
   },
   "outputs": [
    {
     "data": {
      "text/plain": "tensor([[-0.2290],\n        [-0.1925],\n        [-0.1908]], grad_fn=<AddmmBackward0>)"
     },
     "execution_count": 85,
     "metadata": {},
     "output_type": "execute_result"
    }
   ],
   "source": [
    "# Try this to check your model. `torch.long` tensors are required for nn.Embedding layers.\n",
    "simple_model(torch.tensor(batch['FullDescription'], dtype=torch.long))"
   ]
  },
  {
   "cell_type": "code",
   "execution_count": 86,
   "metadata": {
    "id": "MTYYyv8z1Sj8",
    "outputId": "3b2a3686-d2ed-41a9-fb39-30890864852a",
    "ExecuteTime": {
     "end_time": "2023-05-29T18:27:56.092281878Z",
     "start_time": "2023-05-29T18:27:56.087776853Z"
    }
   },
   "outputs": [
    {
     "data": {
      "text/plain": "(3, 249)"
     },
     "execution_count": 86,
     "metadata": {},
     "output_type": "execute_result"
    }
   ],
   "source": [
    "batch['FullDescription'].shape"
   ]
  },
  {
   "cell_type": "markdown",
   "metadata": {
    "id": "XzbOE2ny1Sj8"
   },
   "source": [
    "And now simple training pipeline (it's commented because we've already done that in class. No need to do it again)."
   ]
  },
  {
   "cell_type": "code",
   "execution_count": 87,
   "metadata": {
    "id": "E6v9sUJ71Sj8",
    "outputId": "01cddd23-419c-4ef2-c9e3-411d4d26040e",
    "ExecuteTime": {
     "end_time": "2023-05-29T18:27:56.139407003Z",
     "start_time": "2023-05-29T18:27:56.092550936Z"
    }
   },
   "outputs": [],
   "source": [
    "# from IPython.display import clear_output\n",
    "# from random import sample\n",
    "\n",
    "# epochs = 1\n",
    "\n",
    "# model = simple_model\n",
    "# opt = torch.optim.Adam(model.parameters())\n",
    "# loss_func = nn.MSELoss()\n",
    "\n",
    "# history = []\n",
    "# for epoch_num in range(epochs):\n",
    "#     for idx, (batch, target) in enumerate(iterate_minibatches(data_train)):\n",
    "#         # Preprocessing the batch data and target\n",
    "#         batch = torch.tensor(batch['FullDescription'], dtype=torch.long)\n",
    "\n",
    "#         target = torch.tensor(target)\n",
    "\n",
    "\n",
    "#         predictions = model(batch)\n",
    "#         predictions = predictions.view(predictions.size(0))\n",
    "\n",
    "#         loss = loss_func(predictions, target)# <YOUR CODE HERE>\n",
    "\n",
    "#         # train with backprop\n",
    "#         loss.backward()\n",
    "#         opt.step()\n",
    "#         opt.zero_grad()\n",
    "#         # <YOUR CODE HERE>\n",
    "\n",
    "#         history.append(loss.data.numpy())\n",
    "#         if (idx+1)%10==0:\n",
    "#             clear_output(True)\n",
    "#             plt.plot(history,label='loss')\n",
    "#             plt.legend()\n",
    "#             plt.show()"
   ]
  },
  {
   "cell_type": "markdown",
   "metadata": {
    "id": "apWX3SI91Sj8"
   },
   "source": [
    "### Actual homework starts here\n",
    "__Your ultimate task is to code the three headed network described on the picture below.__ \n",
    "To make it closer to the real world, please store the network code in file `network.py` in this directory. "
   ]
  },
  {
   "cell_type": "markdown",
   "metadata": {
    "id": "0eI5h9UMycPF"
   },
   "source": [
    "#### Architecture\n",
    "\n",
    "Our main model consists of three branches:\n",
    "* Title encoder\n",
    "* Description encoder\n",
    "* Categorical features encoder\n",
    "\n",
    "We will then feed all 3 branches into one common network that predicts salary.\n",
    "\n",
    "<img src=\"https://github.com/yandexdataschool/nlp_course/raw/master/resources/w2_conv_arch.png\" width=600px>\n",
    "\n",
    "This clearly doesn't fit into PyTorch __Sequential__ interface.i use [__PyTorch nn.Module API__](https://pytorch.org/docs/stable/nn.html#torch.nn.Module)."
   ]
  },
  {
   "cell_type": "code",
   "execution_count": 165,
   "metadata": {
    "id": "6PmNsk691Sj8",
    "ExecuteTime": {
     "end_time": "2023-05-29T21:50:26.725943341Z",
     "start_time": "2023-05-29T21:50:26.688141272Z"
    }
   },
   "outputs": [],
   "source": [
    "import network\n",
    "%reload_ext autoreload"
   ]
  },
  {
   "cell_type": "code",
   "execution_count": 166,
   "metadata": {
    "id": "m3W_HMvl1Sj9",
    "ExecuteTime": {
     "end_time": "2023-05-29T21:50:27.037385866Z",
     "start_time": "2023-05-29T21:50:27.025708615Z"
    }
   },
   "outputs": [
    {
     "data": {
      "text/plain": "<module 'network' from '/home/mostafa/PycharmProjects/machine learning/assignment2_three_headed_network/network.py'>"
     },
     "execution_count": 166,
     "metadata": {},
     "output_type": "execute_result"
    }
   ],
   "source": [
    "# Re-run this cell if you updated the file with network source code\n",
    "import imp\n",
    "imp.reload(network)"
   ]
  },
  {
   "cell_type": "code",
   "execution_count": 167,
   "metadata": {
    "id": "Zw4F1Adk1Sj9",
    "ExecuteTime": {
     "end_time": "2023-05-29T21:50:27.290750406Z",
     "start_time": "2023-05-29T21:50:27.249713527Z"
    }
   },
   "outputs": [],
   "source": [
    "model = network.ThreeInputsNet(\n",
    "    n_tokens=len(tokens),\n",
    "    n_cat_features=len(categorical_vectorizer.vocabulary_),\n",
    "\n",
    "    # this parameter defines the number of the inputs in the layer,\n",
    "    # which stands after the concatenation. It should be found out by you.\n",
    "    concat_number_of_features=64*9\n",
    ")"
   ]
  },
  {
   "cell_type": "code",
   "execution_count": 168,
   "metadata": {
    "id": "WkHUDnxH1Sj9",
    "ExecuteTime": {
     "end_time": "2023-05-29T21:50:27.455412900Z",
     "start_time": "2023-05-29T21:50:27.441392558Z"
    }
   },
   "outputs": [],
   "source": [
    "testing_batch, _ = next(iterate_minibatches(data_train, 3))\n",
    "testing_batch = [\n",
    "    torch.tensor(testing_batch['Title'], dtype=torch.long),\n",
    "    torch.tensor(testing_batch['FullDescription'], dtype=torch.long),\n",
    "    torch.tensor(testing_batch['Categorical'])\n",
    "]"
   ]
  },
  {
   "cell_type": "code",
   "execution_count": 169,
   "metadata": {
    "id": "jj3EDZqo1Sj9",
    "ExecuteTime": {
     "end_time": "2023-05-29T21:50:27.623575932Z",
     "start_time": "2023-05-29T21:50:27.612681565Z"
    }
   },
   "outputs": [
    {
     "name": "stdout",
     "output_type": "stream",
     "text": [
      "Seems fine!\n"
     ]
    }
   ],
   "source": [
    "assert model(testing_batch).shape == torch.Size([3, 1])\n",
    "assert model(testing_batch).dtype == torch.float32\n",
    "print('Seems fine!')"
   ]
  },
  {
   "cell_type": "markdown",
   "metadata": {
    "id": "Lrh4_NpN1Sj9"
   },
   "source": [
    "Now train the network for a while (100 batches would be fine)."
   ]
  },
  {
   "cell_type": "code",
   "execution_count": 170,
   "metadata": {
    "id": "lByWe6UT1Sj9"
   },
   "outputs": [
    {
     "data": {
      "text/plain": "<Figure size 640x480 with 1 Axes>",
      "image/png": "[encoded data removed]"
     },
     "metadata": {},
     "output_type": "display_data"
    }
   ],
   "source": [
    "from IPython.display import clear_output\n",
    "from random import sample\n",
    "import torch\n",
    "\n",
    "epochs = 1\n",
    "\n",
    "# epochs = 5\n",
    "\n",
    "opt = torch.optim.Adam(model.parameters())\n",
    "loss_func = nn.MSELoss()\n",
    "\n",
    "history = []\n",
    "for epoch_num in range(epochs):\n",
    "    for idx, (batch, target) in enumerate(iterate_minibatches(data_train)):\n",
    "        # Preprocessing the batch data and target\n",
    "        batch = [torch.tensor(batch[\"Title\"], dtype=torch.long), torch.tensor(batch['FullDescription'], dtype=torch.long), torch.tensor(batch[\"Categorical\"])]\n",
    "\n",
    "        target = torch.tensor(target)\n",
    "\n",
    "\n",
    "        predictions = model(batch)\n",
    "        predictions = predictions.view(predictions.size(0))\n",
    "\n",
    "        loss = loss_func(predictions, target)# <YOUR CODE HERE>\n",
    "\n",
    "        # train with backprop\n",
    "        loss.backward()\n",
    "        opt.step()\n",
    "        opt.zero_grad()\n",
    "        # <YOUR CODE HERE>\n",
    "\n",
    "        history.append(loss.data.numpy())\n",
    "        if (idx+1)%10==0:\n",
    "            clear_output(True)\n",
    "            plt.plot(history,label='loss')\n",
    "            plt.legend()\n",
    "            plt.show()"
   ]
  },
  {
   "cell_type": "markdown",
   "metadata": {
    "id": "RduuLanw1Sj9"
   },
   "source": [
    "Now, to evaluate the model it can be switched to `eval` state."
   ]
  },
  {
   "cell_type": "code",
   "execution_count": 171,
   "metadata": {
    "id": "soCpJG4f1SkB",
    "ExecuteTime": {
     "end_time": "2023-05-29T21:59:28.899926033Z",
     "start_time": "2023-05-29T21:59:28.822613965Z"
    }
   },
   "outputs": [
    {
     "data": {
      "text/plain": "ThreeInputsNet(\n  (title_emb): Embedding(33795, 64)\n  (title_nn): Sequential(\n    (0): Conv1d(64, 192, kernel_size=(3,), stride=(1,))\n    (1): ReLU()\n    (2): AdaptiveAvgPool1d(output_size=1)\n  )\n  (full_emb): Embedding(33795, 64)\n  (full_nn): Sequential(\n    (0): Conv1d(64, 192, kernel_size=(3,), stride=(1,))\n    (1): ReLU()\n    (2): AdaptiveAvgPool1d(output_size=1)\n  )\n  (category_out): Sequential(\n    (0): Linear(in_features=3746, out_features=192, bias=True)\n    (1): ReLU()\n  )\n  (inter_dense): Linear(in_features=576, out_features=128, bias=True)\n  (final_dense): Linear(in_features=128, out_features=1, bias=True)\n)"
     },
     "execution_count": 171,
     "metadata": {},
     "output_type": "execute_result"
    }
   ],
   "source": [
    "model.eval()"
   ]
  },
  {
   "cell_type": "code",
   "execution_count": 172,
   "metadata": {
    "id": "uGP1pEFp1SkB",
    "ExecuteTime": {
     "end_time": "2023-05-29T21:59:28.900260438Z",
     "start_time": "2023-05-29T21:59:28.865780666Z"
    }
   },
   "outputs": [],
   "source": [
    "def generate_submission(model, data, batch_size=256, name=\"\", three_inputs_mode=True, **kw):\n",
    "    squared_error = abs_error = num_samples = 0.0\n",
    "    output_list = []\n",
    "    for batch_x, batch_y in tqdm(iterate_minibatches(data, batch_size=batch_size, shuffle=False, **kw)):\n",
    "        if three_inputs_mode:\n",
    "            batch = [\n",
    "                torch.tensor(batch_x['Title'], dtype=torch.long),\n",
    "                torch.tensor(batch_x['FullDescription'], dtype=torch.long),\n",
    "                torch.tensor(batch_x['Categorical'])\n",
    "            ]\n",
    "        else:\n",
    "            batch = torch.tensor(batch_x['FullDescription'], dtype=torch.long)\n",
    "\n",
    "        batch_pred = model(batch)[:, 0].detach().numpy()\n",
    "        \n",
    "        output_list.append((list(batch_pred), list(batch_y)))\n",
    "        \n",
    "        squared_error += np.sum(np.square(batch_pred - batch_y))\n",
    "        abs_error += np.sum(np.abs(batch_pred - batch_y))\n",
    "        num_samples += len(batch_y)\n",
    "    print(\"%s results:\" % (name or \"\"))\n",
    "    print(\"Mean square error: %.5f\" % (squared_error / num_samples))\n",
    "    print(\"Mean absolute error: %.5f\" % (abs_error / num_samples))\n",
    "    \n",
    "\n",
    "    batch_pred = [c for x in output_list for c in x[0]]\n",
    "    batch_y = [c for x in output_list for c in x[1]]\n",
    "    output_df = pd.DataFrame(list(zip(batch_pred, batch_y)), columns=['batch_pred', 'batch_y'])\n",
    "    output_df.to_csv('submission.csv', index=False)\n"
   ]
  },
  {
   "cell_type": "code",
   "execution_count": 173,
   "metadata": {
    "id": "ANt9HpLO1SkB",
    "ExecuteTime": {
     "end_time": "2023-05-29T21:59:33.154058882Z",
     "start_time": "2023-05-29T21:59:28.866030621Z"
    }
   },
   "outputs": [
    {
     "name": "stderr",
     "output_type": "stream",
     "text": [
      "20it [00:04,  4.67it/s]"
     ]
    },
    {
     "name": "stdout",
     "output_type": "stream",
     "text": [
      "Submission results:\n",
      "Mean square error: 0.13577\n",
      "Mean absolute error: 0.28539\n",
      "Submission file generated\n"
     ]
    },
    {
     "name": "stderr",
     "output_type": "stream",
     "text": [
      "\n"
     ]
    }
   ],
   "source": [
    "generate_submission(model, data_for_autotest, name='Submission')\n",
    "print('Submission file generated')"
   ]
  },
  {
   "cell_type": "markdown",
   "metadata": {
    "id": "sJADZTdY1SkB"
   },
   "source": [
    "__Both the notebook and the `.py` file are required to submit this homework.__"
   ]
  }
 ],
 "metadata": {
  "accelerator": "GPU",
  "colab": {
   "provenance": []
  },
  "kernelspec": {
   "name": "python3",
   "language": "python",
   "display_name": "Python 3 (ipykernel)"
  },
  "language_info": {
   "codemirror_mode": {
    "name": "ipython",
    "version": 3
   },
   "file_extension": ".py",
   "mimetype": "text/x-python",
   "name": "python",
   "nbconvert_exporter": "python",
   "pygments_lexer": "ipython3",
   "version": "3.7.7"
  }
 },
 "nbformat": 4,
 "nbformat_minor": 0
}
