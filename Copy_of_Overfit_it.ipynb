{
  "cells": [
    {
      "cell_type": "markdown",
      "metadata": {
        "id": "view-in-github",
        "colab_type": "text"
      },
      "source": [
        "<a href=\"https://colab.research.google.com/github/Mostafa772/ML_MIPT_HW/blob/lab_2/Copy_of_Overfit_it.ipynb\" target=\"_parent\"><img src=\"https://colab.research.google.com/assets/colab-badge.svg\" alt=\"Open In Colab\"/></a>"
      ]
    },
    {
      "cell_type": "markdown",
      "metadata": {
        "id": "NFmOh482SyEF"
      },
      "source": [
        "## Lab 2\n",
        "### Part 2: Dealing with overfitting"
      ]
    },
    {
      "cell_type": "markdown",
      "metadata": {
        "id": "AjzAuO3oSvsI"
      },
      "source": [
        "Today we work with [Fashion-MNIST dataset](https://github.com/zalandoresearch/fashion-mnist) (*hint: it is available in `torchvision`*).\n",
        "\n",
        "Your goal for today:\n",
        "1. Train a FC (fully-connected) network that achieves >= 0.885 test accuracy.\n",
        "2. Cause considerable overfitting by modifying the network (e.g. increasing the number of network parameters and/or layers) and demonstrate in in the appropriate way (e.g. plot loss and accurasy on train and validation set w.r.t. network complexity).\n",
        "3. Try to deal with overfitting (at least partially) by using regularization techniques (Dropout/Batchnorm/...) and demonstrate the results.\n",
        "\n",
        "__Please, write a small report describing your ideas, tries and achieved results in the end of this file.__\n",
        "\n",
        "*Note*: Tasks 2 and 3 are interrelated, in task 3 your goal is to make the network from task 2 less prone to overfitting. Task 1 is independent from 2 and 3.\n",
        "\n",
        "*Note 2*: We recomment to use Google Colab or other machine with GPU acceleration."
      ]
    },
    {
      "cell_type": "code",
      "execution_count": 1,
      "metadata": {
        "id": "_KBld6VOSwhW"
      },
      "outputs": [],
      "source": [
        "import torch\n",
        "import torch.nn as nn\n",
        "import torchvision\n",
        "import torchvision.transforms as transforms\n",
        "import torchsummary\n",
        "from sklearn.preprocessing import OneHotEncoder\n",
        "import torch.utils.data\n",
        "from IPython.display import clear_output\n",
        "from matplotlib import pyplot as plt\n",
        "from matplotlib.pyplot import figure\n",
        "import numpy as np\n",
        "import os\n",
        "import torch.nn.functional as F\n",
        "\n",
        "\n",
        "device = 'cuda:0' if torch.cuda.is_available() else 'cpu'"
      ]
    },
    {
      "cell_type": "code",
      "execution_count": 2,
      "metadata": {
        "id": "EdLOG0XqS_g5",
        "outputId": "9c12e11b-8f4c-4554-964a-a54ed1c476f2",
        "colab": {
          "base_uri": "https://localhost:8080/"
        }
      },
      "outputs": [
        {
          "output_type": "stream",
          "name": "stdout",
          "text": [
            "Directory fmnist is created!\n"
          ]
        }
      ],
      "source": [
        "# Technical function\n",
        "def mkdir(path):\n",
        "    if not os.path.exists(root_path):\n",
        "        os.mkdir(root_path)\n",
        "        print('Directory', path, 'is created!')\n",
        "    else:\n",
        "        print('Directory', path, 'already exists!')\n",
        "        \n",
        "root_path = 'fmnist'\n",
        "mkdir(root_path)"
      ]
    },
    {
      "cell_type": "code",
      "execution_count": 3,
      "metadata": {
        "id": "qt6LE7XaTDT9",
        "colab": {
          "base_uri": "https://localhost:8080/",
          "height": 443,
          "referenced_widgets": [
            "6c8b4f4a01c044c5b843d6d91f7992d1",
            "bdc2a0d39aac4898b99bc14c1355e0c0",
            "e9e7202aebc84a1cbf39826e88498f55",
            "cf7e64dd2ead422caf27b8387ca167e1",
            "b28a61a960174554bb345278619434be",
            "69bda642707947c4b77b3a8b0b05979a",
            "b6e822d84a884990bbadca83f63574ac",
            "b1ad1c59774a40d2a0c3d5cda56f8817",
            "ad6479bd069149c683dae8173d6d6211",
            "b8ac70a74a6140fbaac773fb89570491",
            "597b5ddf9c0d4c74a38a13e1fcd79b9c",
            "1a538e55a08b46f99a5ad2f5d174ba48",
            "2bbf3c94868e4d789ee37d08733305f4",
            "88f6ea56ec5f4a1cb96a116f1da26eeb",
            "a355cc2f8eda4ba0867a8f50158f9b45",
            "d94adf2f1e5a47099255fd873a21d116",
            "0a4120d4b3e14f4f8c70f85e7e143545",
            "f026f9f9bb704208804c1d879db852ce",
            "a8c9539573714a34a10274e9cea0ab9e",
            "ffbb202bd26842179e0d95f23d3aa8d4",
            "5f300509417946d19a453a10c55a3df7",
            "c613f76c2c7e4102b3ea098639c42c91",
            "e5962947458f44129b11b3ca79f2c0ee",
            "f8cf5a5a5cb94747a9f6f821f39c2a41",
            "f4a443de8eef4c17b8cf186f050775ca",
            "ff8995f677324f47831b5019af4785e4",
            "82a3dffd3ae344acba037812630f23d8",
            "92f67721dff04381bb93df6cf5e39fb0",
            "44c13480f61640af8feb7a7b117133a1",
            "a65c0a471ba64406ab821668a60e6d12",
            "044af44ce2d64a219916bd2b8b0a113d",
            "cf3b22c43480460e98581c100a174060",
            "9226bea982144f3ba8cbb4b72702c6a0",
            "950c76062fd049658f3446646d971e2d",
            "d9527f7fd7f449ac997bd353297e4e63",
            "135e4b4df4d144f68d1e6ebc5acc4c16",
            "7af5524480fa4a6591e6a51da1739a5b",
            "125677a564b046849ef4e6cd8a317901",
            "fd01846dfcca4a9fbd58e8f4cdf164ff",
            "35daeb359ff54bc48f4d77a01761cd3b",
            "3eb8c32224e54f3ab98338aaebfcf6c9",
            "283d8c9c88b04a00b178656303275b9f",
            "6b6ce28be7b646c2a49067404a692d41",
            "b44dc678a49d412e980010ece3c135d0"
          ]
        },
        "outputId": "19dfd0a3-56e6-44e5-a740-2ea0ea422a54"
      },
      "outputs": [
        {
          "output_type": "stream",
          "name": "stdout",
          "text": [
            "Downloading http://fashion-mnist.s3-website.eu-central-1.amazonaws.com/train-images-idx3-ubyte.gz\n",
            "Downloading http://fashion-mnist.s3-website.eu-central-1.amazonaws.com/train-images-idx3-ubyte.gz to fmnist/FashionMNIST/raw/train-images-idx3-ubyte.gz\n"
          ]
        },
        {
          "output_type": "display_data",
          "data": {
            "text/plain": [
              "  0%|          | 0/26421880 [00:00<?, ?it/s]"
            ],
            "application/vnd.jupyter.widget-view+json": {
              "version_major": 2,
              "version_minor": 0,
              "model_id": "6c8b4f4a01c044c5b843d6d91f7992d1"
            }
          },
          "metadata": {}
        },
        {
          "output_type": "stream",
          "name": "stdout",
          "text": [
            "Extracting fmnist/FashionMNIST/raw/train-images-idx3-ubyte.gz to fmnist/FashionMNIST/raw\n",
            "\n",
            "Downloading http://fashion-mnist.s3-website.eu-central-1.amazonaws.com/train-labels-idx1-ubyte.gz\n",
            "Downloading http://fashion-mnist.s3-website.eu-central-1.amazonaws.com/train-labels-idx1-ubyte.gz to fmnist/FashionMNIST/raw/train-labels-idx1-ubyte.gz\n"
          ]
        },
        {
          "output_type": "display_data",
          "data": {
            "text/plain": [
              "  0%|          | 0/29515 [00:00<?, ?it/s]"
            ],
            "application/vnd.jupyter.widget-view+json": {
              "version_major": 2,
              "version_minor": 0,
              "model_id": "1a538e55a08b46f99a5ad2f5d174ba48"
            }
          },
          "metadata": {}
        },
        {
          "output_type": "stream",
          "name": "stdout",
          "text": [
            "Extracting fmnist/FashionMNIST/raw/train-labels-idx1-ubyte.gz to fmnist/FashionMNIST/raw\n",
            "\n",
            "Downloading http://fashion-mnist.s3-website.eu-central-1.amazonaws.com/t10k-images-idx3-ubyte.gz\n",
            "Downloading http://fashion-mnist.s3-website.eu-central-1.amazonaws.com/t10k-images-idx3-ubyte.gz to fmnist/FashionMNIST/raw/t10k-images-idx3-ubyte.gz\n"
          ]
        },
        {
          "output_type": "display_data",
          "data": {
            "text/plain": [
              "  0%|          | 0/4422102 [00:00<?, ?it/s]"
            ],
            "application/vnd.jupyter.widget-view+json": {
              "version_major": 2,
              "version_minor": 0,
              "model_id": "e5962947458f44129b11b3ca79f2c0ee"
            }
          },
          "metadata": {}
        },
        {
          "output_type": "stream",
          "name": "stdout",
          "text": [
            "Extracting fmnist/FashionMNIST/raw/t10k-images-idx3-ubyte.gz to fmnist/FashionMNIST/raw\n",
            "\n",
            "Downloading http://fashion-mnist.s3-website.eu-central-1.amazonaws.com/t10k-labels-idx1-ubyte.gz\n",
            "Downloading http://fashion-mnist.s3-website.eu-central-1.amazonaws.com/t10k-labels-idx1-ubyte.gz to fmnist/FashionMNIST/raw/t10k-labels-idx1-ubyte.gz\n"
          ]
        },
        {
          "output_type": "display_data",
          "data": {
            "text/plain": [
              "  0%|          | 0/5148 [00:00<?, ?it/s]"
            ],
            "application/vnd.jupyter.widget-view+json": {
              "version_major": 2,
              "version_minor": 0,
              "model_id": "950c76062fd049658f3446646d971e2d"
            }
          },
          "metadata": {}
        },
        {
          "output_type": "stream",
          "name": "stdout",
          "text": [
            "Extracting fmnist/FashionMNIST/raw/t10k-labels-idx1-ubyte.gz to fmnist/FashionMNIST/raw\n",
            "\n"
          ]
        }
      ],
      "source": [
        "download = True\n",
        "train_transform = transforms.ToTensor()\n",
        "test_transform = transforms.ToTensor()\n",
        "transforms.Compose((transforms.ToTensor()))\n",
        "\n",
        "\n",
        "fmnist_dataset_train = torchvision.datasets.FashionMNIST(root_path, \n",
        "                                                        train=True, \n",
        "                                                        transform=train_transform,\n",
        "                                                        target_transform=None,\n",
        "                                                        download=download)\n",
        "fmnist_dataset_test = torchvision.datasets.FashionMNIST(root_path, \n",
        "                                                       train=False, \n",
        "                                                       transform=test_transform,\n",
        "                                                       target_transform=None,\n",
        "                                                       download=download)"
      ]
    },
    {
      "cell_type": "code",
      "execution_count": 4,
      "metadata": {
        "id": "71YP0SPwTIxD"
      },
      "outputs": [],
      "source": [
        "train_loader = torch.utils.data.DataLoader(fmnist_dataset_train, \n",
        "                                           batch_size=128,\n",
        "                                           shuffle=True,\n",
        "                                           num_workers=2)\n",
        "test_loader = torch.utils.data.DataLoader(fmnist_dataset_test,\n",
        "                                          batch_size=256,\n",
        "                                          shuffle=False,\n",
        "                                          num_workers=2)"
      ]
    },
    {
      "cell_type": "code",
      "execution_count": 5,
      "metadata": {
        "id": "v_YFmF7NTWrQ",
        "outputId": "c093bff7-ff4d-4edc-c296-01a1fe9f6e8a",
        "colab": {
          "base_uri": "https://localhost:8080/"
        }
      },
      "outputs": [
        {
          "output_type": "execute_result",
          "data": {
            "text/plain": [
              "60000"
            ]
          },
          "metadata": {},
          "execution_count": 5
        }
      ],
      "source": [
        "len(fmnist_dataset_test)\n",
        "len(fmnist_dataset_train)"
      ]
    },
    {
      "cell_type": "code",
      "execution_count": 6,
      "metadata": {
        "id": "aHca15bOTY4B",
        "outputId": "19327915-8d61-4613-e963-ef6688d45e6e",
        "colab": {
          "base_uri": "https://localhost:8080/"
        }
      },
      "outputs": [
        {
          "output_type": "stream",
          "name": "stdout",
          "text": [
            "torch.Size([128, 1, 28, 28])\n",
            "torch.Size([128])\n",
            "128\n"
          ]
        }
      ],
      "source": [
        "for img, label in train_loader:\n",
        "    print(img.shape)\n",
        "    # print(img)\n",
        "    print(label.shape)\n",
        "    print(label.size(0))\n",
        "    break"
      ]
    },
    {
      "cell_type": "markdown",
      "metadata": {
        "id": "b6OOOffHTfX5"
      },
      "source": [
        "### Task 1\n",
        "Train a network that achieves $\\geq 0.885$ test accuracy. It's fine to use only Linear (`nn.Linear`) layers and activations/dropout/batchnorm. Convolutional layers might be a great use, but we will meet them a bit later."
      ]
    },
    {
      "cell_type": "code",
      "execution_count": 7,
      "metadata": {
        "id": "ftpkTjxlTcFx"
      },
      "outputs": [],
      "source": [
        "class TinyNeuralNetwork(nn.Module):\n",
        "    def __init__(self, input_shape=28*28, num_classes=10, input_channels=1):\n",
        "        super(self.__class__, self).__init__()\n",
        "        self.model = nn.Sequential(\n",
        "            nn.Flatten(), # This layer converts image into a vector to use Linear layers afterwards\n",
        "            # Your network structure comes here\n",
        "            nn.BatchNorm1d(input_shape),\n",
        "            nn.ReLU(),\n",
        "            nn.Dropout(0.5),\n",
        "            nn.Linear(input_shape, 512),\n",
        "            nn.BatchNorm1d(512),\n",
        "            nn.Dropout(0.5),\n",
        "            nn.ReLU(),\n",
        "            nn.Linear(512, 256),\n",
        "            nn.BatchNorm1d(256),\n",
        "            nn.Dropout(0.5),\n",
        "            nn.ReLU(),\n",
        "            nn.Linear(256, 128),\n",
        "            nn.BatchNorm1d(128),\n",
        "            nn.ReLU(),\n",
        "            nn.Linear(128, 64),\n",
        "            nn.BatchNorm1d(64),\n",
        "            nn.ReLU(),\n",
        "            nn.Linear(64, 10)\n",
        "            # nn.Linear(input_shape, 50),\n",
        "            # nn.ReLU(),\n",
        "            # nn.Linear(50, num_classes),\n",
        "            # nn.LogSoftmax(dim=1)\n",
        "        )\n",
        "    # def something(self.__class__, self)\n",
        "        \n",
        "    def forward(self, inp):   \n",
        "        # inp = inp.view(inp.size(0), -1)  \n",
        "        out = self.model(inp)\n",
        "        return out"
      ]
    },
    {
      "cell_type": "code",
      "execution_count": 8,
      "metadata": {
        "id": "-we5BUbKaVSq",
        "colab": {
          "base_uri": "https://localhost:8080/"
        },
        "outputId": "7bf6cb46-f7a2-44d8-ce7c-dc4b136e6f55"
      },
      "outputs": [
        {
          "output_type": "stream",
          "name": "stdout",
          "text": [
            "----------------------------------------------------------------\n",
            "        Layer (type)               Output Shape         Param #\n",
            "================================================================\n",
            "           Flatten-1                  [-1, 784]               0\n",
            "       BatchNorm1d-2                  [-1, 784]           1,568\n",
            "              ReLU-3                  [-1, 784]               0\n",
            "           Dropout-4                  [-1, 784]               0\n",
            "            Linear-5                  [-1, 512]         401,920\n",
            "       BatchNorm1d-6                  [-1, 512]           1,024\n",
            "           Dropout-7                  [-1, 512]               0\n",
            "              ReLU-8                  [-1, 512]               0\n",
            "            Linear-9                  [-1, 256]         131,328\n",
            "      BatchNorm1d-10                  [-1, 256]             512\n",
            "          Dropout-11                  [-1, 256]               0\n",
            "             ReLU-12                  [-1, 256]               0\n",
            "           Linear-13                  [-1, 128]          32,896\n",
            "      BatchNorm1d-14                  [-1, 128]             256\n",
            "             ReLU-15                  [-1, 128]               0\n",
            "           Linear-16                   [-1, 64]           8,256\n",
            "      BatchNorm1d-17                   [-1, 64]             128\n",
            "             ReLU-18                   [-1, 64]               0\n",
            "           Linear-19                   [-1, 10]             650\n",
            "================================================================\n",
            "Total params: 578,538\n",
            "Trainable params: 578,538\n",
            "Non-trainable params: 0\n",
            "----------------------------------------------------------------\n",
            "Input size (MB): 0.00\n",
            "Forward/backward pass size (MB): 0.05\n",
            "Params size (MB): 2.21\n",
            "Estimated Total Size (MB): 2.26\n",
            "----------------------------------------------------------------\n"
          ]
        }
      ],
      "source": [
        "torchsummary.summary(TinyNeuralNetwork().to(device), (28*28,))"
      ]
    },
    {
      "cell_type": "code",
      "source": [
        "loss = nn.MSELoss()\n",
        "input = torch.randn(3, 5, requires_grad=True)\n",
        "target = torch.randn(3, 5)\n",
        "print(input.shape, target.shape)\n",
        "output = loss(input, target)\n",
        "output.backward()"
      ],
      "metadata": {
        "colab": {
          "base_uri": "https://localhost:8080/"
        },
        "id": "6EGy-gbnSrvi",
        "outputId": "bad8f080-6db1-4154-901c-a448fab0d383"
      },
      "execution_count": 9,
      "outputs": [
        {
          "output_type": "stream",
          "name": "stdout",
          "text": [
            "torch.Size([3, 5]) torch.Size([3, 5])\n"
          ]
        }
      ]
    },
    {
      "cell_type": "markdown",
      "metadata": {
        "id": "544PGKEnjPr5"
      },
      "source": [
        "Your experiments come here:"
      ]
    },
    {
      "cell_type": "code",
      "source": [
        "from sklearn.metrics import accuracy_score"
      ],
      "metadata": {
        "id": "dKsNgHtMyP9p"
      },
      "execution_count": 10,
      "outputs": []
    },
    {
      "cell_type": "code",
      "execution_count": null,
      "metadata": {
        "id": "i3POFj90Ti-6",
        "colab": {
          "base_uri": "https://localhost:8080/"
        },
        "outputId": "2215b73c-0418-450c-bb38-5e354c9b2a17"
      },
      "outputs": [
        {
          "output_type": "stream",
          "name": "stdout",
          "text": [
            "Epoch 1 \t\t Training Loss: 0.7069219650744375 \t\t Validation Loss: 0.4728592254221439\n",
            "Validation Loss Decreased(inf--->18.914369) \t Saving The Model\n",
            "Epoch 1 has accurcy score of test data: 0.823\n",
            "Epoch 2 \t\t Training Loss: 0.4024940043497187 \t\t Validation Loss: 0.40563946068286894\n",
            "Validation Loss Decreased(18.914369--->16.225578) \t Saving The Model\n",
            "Epoch 2 has accurcy score of test data: 0.848\n",
            "Epoch 3 \t\t Training Loss: 0.33918414698607885 \t\t Validation Loss: 0.3659707672894001\n",
            "Validation Loss Decreased(16.225578--->14.638831) \t Saving The Model\n",
            "Epoch 3 has accurcy score of test data: 0.869\n",
            "Epoch 4 \t\t Training Loss: 0.3003008999168746 \t\t Validation Loss: 0.35783392265439035\n",
            "Validation Loss Decreased(14.638831--->14.313357) \t Saving The Model\n",
            "Epoch 4 has accurcy score of test data: 0.867\n",
            "Epoch 5 \t\t Training Loss: 0.2737224862170118 \t\t Validation Loss: 0.35336781982332466\n",
            "Validation Loss Decreased(14.313357--->14.134713) \t Saving The Model\n",
            "Epoch 5 has accurcy score of test data: 0.868\n",
            "Epoch 6 \t\t Training Loss: 0.251858450170519 \t\t Validation Loss: 0.3265529565513134\n",
            "Validation Loss Decreased(14.134713--->13.062118) \t Saving The Model\n",
            "Epoch 6 has accurcy score of test data: 0.881\n",
            "Epoch 7 \t\t Training Loss: 0.23261809175901577 \t\t Validation Loss: 0.323187667503953\n",
            "Validation Loss Decreased(13.062118--->12.927507) \t Saving The Model\n",
            "Epoch 7 has accurcy score of test data: 0.886\n",
            "Epoch 8 \t\t Training Loss: 0.21694557254375424 \t\t Validation Loss: 0.3300234917551279\n",
            "Epoch 8 has accurcy score of test data: 0.884\n",
            "Epoch 9 \t\t Training Loss: 0.20042128533696824 \t\t Validation Loss: 0.3200407691299915\n",
            "Validation Loss Decreased(12.927507--->12.801631) \t Saving The Model\n",
            "Epoch 9 has accurcy score of test data: 0.890\n",
            "Epoch 10 \t\t Training Loss: 0.18522606221343407 \t\t Validation Loss: 0.319527099467814\n",
            "Validation Loss Decreased(12.801631--->12.781084) \t Saving The Model\n",
            "Epoch 10 has accurcy score of test data: 0.894\n"
          ]
        }
      ],
      "source": [
        "model = TinyNeuralNetwork().to(device)\n",
        "opt = torch.optim.Adagrad(model.parameters(), lr = 0.1)\n",
        "loss_func = nn.CrossEntropyLoss()\n",
        "\n",
        "# Your experiments, training and validation loops here\n",
        "epochs = 20\n",
        "min_valid_loss = np.inf\n",
        "for e in range(epochs):\n",
        "    train_accuracy = []\n",
        "    test_accuracy = []\n",
        "    train_loss = 0.0\n",
        "    for data, labels in train_loader:\n",
        "        # Transfer Data to GPU if available\n",
        "        if torch.cuda.is_available():\n",
        "            data, labels = data.cuda(), labels.cuda()\n",
        "         \n",
        "        # Clear the gradients\n",
        "        opt.zero_grad()\n",
        "        # Forward Pass\n",
        "        target = model(data)\n",
        "        # Find the Loss\n",
        "        loss = loss_func(target, labels)\n",
        "        # Calculate gradients\n",
        "        loss.backward()\n",
        "        # Update Weights\n",
        "        opt.step()\n",
        "        # Calculate Loss\n",
        "        train_loss += loss.item()\n",
        "        predict = model.forward(data)\n",
        "        y_pred = predict.argmax(axis=1)\n",
        "        train_accuracy.append(accuracy_score(y_pred.cpu().numpy(), labels.cpu().numpy()))\n",
        "    valid_loss = 0.0\n",
        "    model.eval()     # Optional when not using Model Specific layer\n",
        "    for data, labels in test_loader:\n",
        "        # Transfer Data to GPU if available\n",
        "        if torch.cuda.is_available():\n",
        "            data, labels = data.cuda(), labels.cuda()\n",
        "         \n",
        "        # Forward Pass\n",
        "        target = model(data)\n",
        "        # Find the Loss\n",
        "        loss = loss_func(target,labels)\n",
        "        # Calculate Loss\n",
        "        valid_loss += loss.item()\n",
        "        y_pred = target.argmax(axis=1)\n",
        "        test_accuracy.append(accuracy_score(y_pred.cpu().numpy(), labels.cpu().numpy()))\n",
        "    print(f'Epoch {e+1} \\t\\t Training Loss: {train_loss / len(train_loader)} \\t\\t Validation Loss: {valid_loss / len(test_loader)}')\n",
        "     \n",
        "    if min_valid_loss > valid_loss:\n",
        "        print(f'Validation Loss Decreased({min_valid_loss:.6f}--->{valid_loss:.6f}) \\t Saving The Model')\n",
        "        min_valid_loss = valid_loss\n",
        "         \n",
        "        # Saving State Dict\n",
        "        torch.save(model.state_dict(), 'saved_model.pth')\n",
        "    test_accuracy.append(np.mean(test_accuracy))\n",
        "    train_accuracy.append(np.mean(train_accuracy))\n",
        "    print(f'Epoch {e+1} has accurcy score of test data: {test_accuracy[-1]:.4f}')"
      ]
    },
    {
      "cell_type": "code",
      "source": [
        "epochs = 5\n",
        "\n",
        "for i in range(epochs):\n",
        "    train_loss = 0.0\n",
        "    for data,label in train_loader:\n",
        "        if torch.cuda.is_available():\n",
        "            data, label = data.cuda(), label.cuda()\n",
        "        opt.zero_grad()\n",
        "        \n",
        "        output = model(data)\n",
        "        loss = loss_func(output,label)\n",
        "        loss.backward()\n",
        "        # accuracy.update_state(y, logits)\n",
        "        opt.step()\n",
        "        \n",
        "        train_loss += loss.item() * data.size(0)\n",
        "    print(f'Epoch: {i+1} / {epochs} \\t\\t\\t Training Loss:{train_loss/len(train_loader)}')"
      ],
      "metadata": {
        "id": "nE-HXDKDd0Ty"
      },
      "execution_count": null,
      "outputs": []
    },
    {
      "cell_type": "code",
      "source": [
        "test_loss = 0.0\n",
        "correct, total = 0, 0\n",
        "\n",
        "for data,label in test_loader:\n",
        "    if torch.cuda.is_available():\n",
        "        data, label = data.cuda(), label.cuda()\n",
        "    output = model(data)\n",
        "    for o,l in zip(torch.argmax(output,axis = 1),label):\n",
        "        if o == l:\n",
        "            correct += 1\n",
        "        total += 1\n",
        "    loss = loss_func(output,label)\n",
        "    test_loss += loss.item() * data.size(0)\n",
        "print(f'Testing Loss:{test_loss/len(test_loader)}')\n",
        "print(f'Correct Predictions: {correct}/{total}')"
      ],
      "metadata": {
        "colab": {
          "base_uri": "https://localhost:8080/"
        },
        "id": "VcHAWZvbf6Hj",
        "outputId": "a08a4016-153c-44da-ccc9-eb36044136ad"
      },
      "execution_count": null,
      "outputs": [
        {
          "output_type": "stream",
          "name": "stdout",
          "text": [
            "Testing Loss:81.21260840594769\n",
            "Correct Predictions: 8914/10000\n"
          ]
        }
      ]
    },
    {
      "cell_type": "code",
      "source": [
        "training_loss = 0.0\n",
        "correct, total = 0, 0\n",
        "\n",
        "for data,label in train_loader:\n",
        "    if torch.cuda.is_available():\n",
        "        data, label = data.cuda(), label.cuda()\n",
        "    output = model(data)\n",
        "    for o,l in zip(torch.argmax(output,axis = 1),label):\n",
        "        if o == l:\n",
        "            correct += 1\n",
        "        total += 1\n",
        "    loss = loss_func(output,label)\n",
        "    training_loss += loss.item() * data.size(0)\n",
        "print(f'Testing Loss:{training_loss/len(train_loader)}')\n",
        "print(f'Correct Predictions: {correct}/{total}')"
      ],
      "metadata": {
        "colab": {
          "base_uri": "https://localhost:8080/"
        },
        "id": "iEPRGxirPfpp",
        "outputId": "c1e263bd-4c6e-4b55-c35d-9b38efd2b5d2"
      },
      "execution_count": null,
      "outputs": [
        {
          "output_type": "stream",
          "name": "stdout",
          "text": [
            "Testing Loss:43.21603296763861\n",
            "Correct Predictions: 52745/60000\n"
          ]
        }
      ]
    },
    {
      "cell_type": "markdown",
      "metadata": {
        "id": "L7ISqkjmCPB1"
      },
      "source": [
        "### Task 2: Overfit it.\n",
        "Build a network that will overfit to this dataset. Demonstrate the overfitting in the appropriate way (e.g. plot loss and accurasy on train and test set w.r.t. network complexity).\n",
        "\n",
        "*Note:* you also might decrease the size of `train` dataset to enforce the overfitting and speed up the computations."
      ]
    },
    {
      "cell_type": "code",
      "source": [
        "train_ds, val_ds = torch.utils.data.random_split(fmnist_dataset_test, [9000, 1000])\n",
        "train_ds, val_ds = torch.utils.data.random_split(val_ds, [900, 100])"
      ],
      "metadata": {
        "id": "YKTcQCyj41zC"
      },
      "execution_count": 55,
      "outputs": []
    },
    {
      "cell_type": "code",
      "source": [
        "train_loader = torch.utils.data.DataLoader(train_ds, \n",
        "                                           batch_size=512,\n",
        "                                           shuffle=True,\n",
        "                                           num_workers=2)\n",
        "test_loader = torch.utils.data.DataLoader(val_ds,\n",
        "                                          batch_size=128,\n",
        "                                          shuffle=False,\n",
        "                                          num_workers=2)"
      ],
      "metadata": {
        "id": "ZoPNqWNZ56mu"
      },
      "execution_count": 56,
      "outputs": []
    },
    {
      "cell_type": "code",
      "execution_count": 57,
      "metadata": {
        "id": "H12uAWiGBwJx"
      },
      "outputs": [],
      "source": [
        "class OverfittingNeuralNetwork(nn.Module):\n",
        "    def __init__(self, input_shape=28*28, num_classes=10, input_channels=1):\n",
        "        super(self.__class__, self).__init__()\n",
        "        self.model = nn.Sequential(\n",
        "            nn.Flatten(), # This layer converts image into a vector to use Linear layers afterwards\n",
        "            nn.Linear(input_shape, num_classes)\n",
        "        )\n",
        "        \n",
        "    def forward(self, inp):       \n",
        "        out = self.model(inp)\n",
        "        return out"
      ]
    },
    {
      "cell_type": "code",
      "execution_count": 58,
      "metadata": {
        "id": "JgXAKCpvCwqH",
        "colab": {
          "base_uri": "https://localhost:8080/"
        },
        "outputId": "059ccd8e-fb3f-4cae-ed44-151c99e6aa24"
      },
      "outputs": [
        {
          "output_type": "stream",
          "name": "stdout",
          "text": [
            "----------------------------------------------------------------\n",
            "        Layer (type)               Output Shape         Param #\n",
            "================================================================\n",
            "           Flatten-1                  [-1, 784]               0\n",
            "            Linear-2                   [-1, 10]           7,850\n",
            "================================================================\n",
            "Total params: 7,850\n",
            "Trainable params: 7,850\n",
            "Non-trainable params: 0\n",
            "----------------------------------------------------------------\n",
            "Input size (MB): 0.00\n",
            "Forward/backward pass size (MB): 0.01\n",
            "Params size (MB): 0.03\n",
            "Estimated Total Size (MB): 0.04\n",
            "----------------------------------------------------------------\n"
          ]
        }
      ],
      "source": [
        "torchsummary.summary(OverfittingNeuralNetwork().to(device), (28*28,))"
      ]
    },
    {
      "cell_type": "code",
      "execution_count": 63,
      "metadata": {
        "id": "C7D5uVQfaVSs"
      },
      "outputs": [],
      "source": [
        "model = OverfittingNeuralNetwork().to(device)\n",
        "opt = torch.optim.Adam(model.parameters(), lr = 0.01)\n",
        "# opt = torch.optim.SGD(model.parameters(), lr = 0.01)\n",
        "loss_func = nn.CrossEntropyLoss()\n",
        "\n",
        "# Your experiments, training and validation loops here\n"
      ]
    },
    {
      "cell_type": "code",
      "source": [
        "epochs = 100\n",
        "min_valid_loss = np.inf\n",
        "\n",
        "for e in range(epochs):\n",
        "    train_loss = 0.0\n",
        "    for data, labels in train_loader:\n",
        "        train_accuracy = []\n",
        "        # Transfer Data to GPU if available\n",
        "        if torch.cuda.is_available():\n",
        "            data, labels = data.cuda(), labels.cuda()\n",
        "         \n",
        "        # Clear the gradients\n",
        "        opt.zero_grad()\n",
        "\n",
        "        # Forward Pass\n",
        "        target = model(data)\n",
        "\n",
        "        # Find the Loss\n",
        "        loss = loss_func(target, labels)\n",
        "\n",
        "        # Calculate gradients\n",
        "        loss.backward()\n",
        "\n",
        "        # Update Weights\n",
        "        opt.step()\n",
        "        \n",
        "        # Calculate Loss\n",
        "        train_loss += loss.item()\n",
        "\n",
        "        predict = model.forward(data)\n",
        "        y_pred = predict.argmax(axis=1)\n",
        "        train_accuracy.append(accuracy_score(y_pred.cpu().numpy(), labels.cpu().numpy()))\n",
        "     \n",
        "    valid_loss = 0.0\n",
        "    model.eval()     # Optional when not using Model Specific layer\n",
        "    for data, labels in test_loader:\n",
        "        # Transfer Data to GPU if available\n",
        "        if torch.cuda.is_available():\n",
        "            data, labels = data.cuda(), labels.cuda()\n",
        "         \n",
        "        # Forward Pass\n",
        "        target = model(data)\n",
        "        # Find the Loss\n",
        "        loss = loss_func(target,labels)\n",
        "        # Calculate Loss\n",
        "        valid_loss += loss.item()\n",
        " \n",
        "    print(f'Epoch {e+1} \\t\\t Training Loss: {train_loss / len(train_loader)} \\t\\t Validation Loss: {valid_loss / len(test_loader)}')\n",
        "     \n",
        "    if min_valid_loss > valid_loss:\n",
        "        print(f'Validation Loss Decreased({min_valid_loss:.6f}--->{valid_loss:.6f}) \\t Saving The Model')\n",
        "        min_valid_loss = valid_loss\n",
        "         \n",
        "        # Saving State Dict\n",
        "        torch.save(model.state_dict(), 'saved_model.pth')\n",
        "\n",
        "    train_accuracy.append(np.mean(train_accuracy))\n",
        "    print(f'Epoch {e} has accurcy score of train data: {train_accuracy[-1]:.3f}')"
      ],
      "metadata": {
        "id": "AaAeVcLjtvHy",
        "colab": {
          "base_uri": "https://localhost:8080/"
        },
        "outputId": "acf08284-d5e7-408b-9d51-efbbf8157a71"
      },
      "execution_count": 64,
      "outputs": [
        {
          "output_type": "stream",
          "name": "stdout",
          "text": [
            "Epoch 1 \t\t Training Loss: 2.168192505836487 \t\t Validation Loss: 1.5247317552566528\n",
            "Validation Loss Decreased(inf--->1.524732) \t Saving The Model\n",
            "Epoch 0 has accurcy score of train data: 0.335\n",
            "Epoch 2 \t\t Training Loss: 1.4084157347679138 \t\t Validation Loss: 1.1306037902832031\n",
            "Validation Loss Decreased(1.524732--->1.130604) \t Saving The Model\n",
            "Epoch 1 has accurcy score of train data: 0.549\n",
            "Epoch 3 \t\t Training Loss: 1.1176928877830505 \t\t Validation Loss: 1.000498652458191\n",
            "Validation Loss Decreased(1.130604--->1.000499) \t Saving The Model\n",
            "Epoch 2 has accurcy score of train data: 0.665\n",
            "Epoch 4 \t\t Training Loss: 0.9417165219783783 \t\t Validation Loss: 0.8000988960266113\n",
            "Validation Loss Decreased(1.000499--->0.800099) \t Saving The Model\n",
            "Epoch 3 has accurcy score of train data: 0.709\n",
            "Epoch 5 \t\t Training Loss: 0.8278154134750366 \t\t Validation Loss: 0.8096267580986023\n",
            "Epoch 4 has accurcy score of train data: 0.680\n",
            "Epoch 6 \t\t Training Loss: 0.7750491201877594 \t\t Validation Loss: 0.7257275581359863\n",
            "Validation Loss Decreased(0.800099--->0.725728) \t Saving The Model\n",
            "Epoch 5 has accurcy score of train data: 0.740\n",
            "Epoch 7 \t\t Training Loss: 0.7243337631225586 \t\t Validation Loss: 0.6848970651626587\n",
            "Validation Loss Decreased(0.725728--->0.684897) \t Saving The Model\n",
            "Epoch 6 has accurcy score of train data: 0.773\n",
            "Epoch 8 \t\t Training Loss: 0.6982414126396179 \t\t Validation Loss: 0.6243197917938232\n",
            "Validation Loss Decreased(0.684897--->0.624320) \t Saving The Model\n",
            "Epoch 7 has accurcy score of train data: 0.740\n",
            "Epoch 9 \t\t Training Loss: 0.6545393764972687 \t\t Validation Loss: 0.6239488124847412\n",
            "Validation Loss Decreased(0.624320--->0.623949) \t Saving The Model\n",
            "Epoch 8 has accurcy score of train data: 0.747\n",
            "Epoch 10 \t\t Training Loss: 0.6322848796844482 \t\t Validation Loss: 0.6066614985466003\n",
            "Validation Loss Decreased(0.623949--->0.606661) \t Saving The Model\n",
            "Epoch 9 has accurcy score of train data: 0.776\n",
            "Epoch 11 \t\t Training Loss: 0.6011713445186615 \t\t Validation Loss: 0.6201854944229126\n",
            "Epoch 10 has accurcy score of train data: 0.799\n",
            "Epoch 12 \t\t Training Loss: 0.5767413079738617 \t\t Validation Loss: 0.6047074794769287\n",
            "Validation Loss Decreased(0.606661--->0.604707) \t Saving The Model\n",
            "Epoch 11 has accurcy score of train data: 0.812\n",
            "Epoch 13 \t\t Training Loss: 0.5520115792751312 \t\t Validation Loss: 0.6108570098876953\n",
            "Epoch 12 has accurcy score of train data: 0.817\n",
            "Epoch 14 \t\t Training Loss: 0.531196653842926 \t\t Validation Loss: 0.5918806195259094\n",
            "Validation Loss Decreased(0.604707--->0.591881) \t Saving The Model\n",
            "Epoch 13 has accurcy score of train data: 0.820\n",
            "Epoch 15 \t\t Training Loss: 0.5131812393665314 \t\t Validation Loss: 0.5913423299789429\n",
            "Validation Loss Decreased(0.591881--->0.591342) \t Saving The Model\n",
            "Epoch 14 has accurcy score of train data: 0.812\n",
            "Epoch 16 \t\t Training Loss: 0.49213895201683044 \t\t Validation Loss: 0.5795336961746216\n",
            "Validation Loss Decreased(0.591342--->0.579534) \t Saving The Model\n",
            "Epoch 15 has accurcy score of train data: 0.827\n",
            "Epoch 17 \t\t Training Loss: 0.4743984788656235 \t\t Validation Loss: 0.564725399017334\n",
            "Validation Loss Decreased(0.579534--->0.564725) \t Saving The Model\n",
            "Epoch 16 has accurcy score of train data: 0.843\n",
            "Epoch 18 \t\t Training Loss: 0.4666948765516281 \t\t Validation Loss: 0.5517311692237854\n",
            "Validation Loss Decreased(0.564725--->0.551731) \t Saving The Model\n",
            "Epoch 17 has accurcy score of train data: 0.838\n",
            "Epoch 19 \t\t Training Loss: 0.4444335997104645 \t\t Validation Loss: 0.5628297924995422\n",
            "Epoch 18 has accurcy score of train data: 0.874\n",
            "Epoch 20 \t\t Training Loss: 0.432905375957489 \t\t Validation Loss: 0.5829102396965027\n",
            "Epoch 19 has accurcy score of train data: 0.889\n",
            "Epoch 21 \t\t Training Loss: 0.4241047203540802 \t\t Validation Loss: 0.5803528428077698\n",
            "Epoch 20 has accurcy score of train data: 0.892\n",
            "Epoch 22 \t\t Training Loss: 0.4221624433994293 \t\t Validation Loss: 0.5703461766242981\n",
            "Epoch 21 has accurcy score of train data: 0.853\n",
            "Epoch 23 \t\t Training Loss: 0.4069764167070389 \t\t Validation Loss: 0.5675334334373474\n",
            "Epoch 22 has accurcy score of train data: 0.851\n",
            "Epoch 24 \t\t Training Loss: 0.4005534201860428 \t\t Validation Loss: 0.5674247145652771\n",
            "Epoch 23 has accurcy score of train data: 0.887\n",
            "Epoch 25 \t\t Training Loss: 0.3897936940193176 \t\t Validation Loss: 0.5679290890693665\n",
            "Epoch 24 has accurcy score of train data: 0.887\n",
            "Epoch 26 \t\t Training Loss: 0.3780597746372223 \t\t Validation Loss: 0.561994194984436\n",
            "Epoch 25 has accurcy score of train data: 0.892\n",
            "Epoch 27 \t\t Training Loss: 0.37349529564380646 \t\t Validation Loss: 0.5565090775489807\n",
            "Epoch 26 has accurcy score of train data: 0.879\n",
            "Epoch 28 \t\t Training Loss: 0.36199744045734406 \t\t Validation Loss: 0.5614969730377197\n",
            "Epoch 27 has accurcy score of train data: 0.912\n",
            "Epoch 29 \t\t Training Loss: 0.3603629618883133 \t\t Validation Loss: 0.562523603439331\n",
            "Epoch 28 has accurcy score of train data: 0.889\n",
            "Epoch 30 \t\t Training Loss: 0.3499891310930252 \t\t Validation Loss: 0.5504477024078369\n",
            "Validation Loss Decreased(0.551731--->0.550448) \t Saving The Model\n",
            "Epoch 29 has accurcy score of train data: 0.899\n",
            "Epoch 31 \t\t Training Loss: 0.34570643305778503 \t\t Validation Loss: 0.5503750443458557\n",
            "Validation Loss Decreased(0.550448--->0.550375) \t Saving The Model\n",
            "Epoch 30 has accurcy score of train data: 0.907\n",
            "Epoch 32 \t\t Training Loss: 0.33783039450645447 \t\t Validation Loss: 0.5544175505638123\n",
            "Epoch 31 has accurcy score of train data: 0.912\n",
            "Epoch 33 \t\t Training Loss: 0.3346283286809921 \t\t Validation Loss: 0.5427531003952026\n",
            "Validation Loss Decreased(0.550375--->0.542753) \t Saving The Model\n",
            "Epoch 32 has accurcy score of train data: 0.897\n",
            "Epoch 34 \t\t Training Loss: 0.3261278122663498 \t\t Validation Loss: 0.5388049483299255\n",
            "Validation Loss Decreased(0.542753--->0.538805) \t Saving The Model\n",
            "Epoch 33 has accurcy score of train data: 0.930\n",
            "Epoch 35 \t\t Training Loss: 0.32224030792713165 \t\t Validation Loss: 0.5497854351997375\n",
            "Epoch 34 has accurcy score of train data: 0.920\n",
            "Epoch 36 \t\t Training Loss: 0.3180246204137802 \t\t Validation Loss: 0.5471729636192322\n",
            "Epoch 35 has accurcy score of train data: 0.925\n",
            "Epoch 37 \t\t Training Loss: 0.3095764219760895 \t\t Validation Loss: 0.5447551608085632\n",
            "Epoch 36 has accurcy score of train data: 0.928\n",
            "Epoch 38 \t\t Training Loss: 0.30884508788585663 \t\t Validation Loss: 0.5446917414665222\n",
            "Epoch 37 has accurcy score of train data: 0.923\n",
            "Epoch 39 \t\t Training Loss: 0.3090655654668808 \t\t Validation Loss: 0.5426443815231323\n",
            "Epoch 38 has accurcy score of train data: 0.915\n",
            "Epoch 40 \t\t Training Loss: 0.29774340987205505 \t\t Validation Loss: 0.5418972373008728\n",
            "Epoch 39 has accurcy score of train data: 0.938\n",
            "Epoch 41 \t\t Training Loss: 0.2965843975543976 \t\t Validation Loss: 0.5545745491981506\n",
            "Epoch 40 has accurcy score of train data: 0.915\n",
            "Epoch 42 \t\t Training Loss: 0.2959432154893875 \t\t Validation Loss: 0.5529178380966187\n",
            "Epoch 41 has accurcy score of train data: 0.920\n",
            "Epoch 43 \t\t Training Loss: 0.2850073426961899 \t\t Validation Loss: 0.543588399887085\n",
            "Epoch 42 has accurcy score of train data: 0.936\n",
            "Epoch 44 \t\t Training Loss: 0.2838830053806305 \t\t Validation Loss: 0.5551175475120544\n",
            "Epoch 43 has accurcy score of train data: 0.930\n",
            "Epoch 45 \t\t Training Loss: 0.2766296863555908 \t\t Validation Loss: 0.5532764196395874\n",
            "Epoch 44 has accurcy score of train data: 0.933\n",
            "Epoch 46 \t\t Training Loss: 0.26929299533367157 \t\t Validation Loss: 0.5453174710273743\n",
            "Epoch 45 has accurcy score of train data: 0.951\n",
            "Epoch 47 \t\t Training Loss: 0.27041561901569366 \t\t Validation Loss: 0.5489223599433899\n",
            "Epoch 46 has accurcy score of train data: 0.951\n",
            "Epoch 48 \t\t Training Loss: 0.2618252635002136 \t\t Validation Loss: 0.5581277012825012\n",
            "Epoch 47 has accurcy score of train data: 0.941\n",
            "Epoch 49 \t\t Training Loss: 0.26230858266353607 \t\t Validation Loss: 0.5542305111885071\n",
            "Epoch 48 has accurcy score of train data: 0.936\n",
            "Epoch 50 \t\t Training Loss: 0.2600666582584381 \t\t Validation Loss: 0.5534817576408386\n",
            "Epoch 49 has accurcy score of train data: 0.930\n",
            "Epoch 51 \t\t Training Loss: 0.25662288069725037 \t\t Validation Loss: 0.5591321587562561\n",
            "Epoch 50 has accurcy score of train data: 0.954\n",
            "Epoch 52 \t\t Training Loss: 0.25534825772047043 \t\t Validation Loss: 0.5521376132965088\n",
            "Epoch 51 has accurcy score of train data: 0.933\n",
            "Epoch 53 \t\t Training Loss: 0.25210610777139664 \t\t Validation Loss: 0.5585412383079529\n",
            "Epoch 52 has accurcy score of train data: 0.941\n",
            "Epoch 54 \t\t Training Loss: 0.2532689571380615 \t\t Validation Loss: 0.5575962066650391\n",
            "Epoch 53 has accurcy score of train data: 0.943\n",
            "Epoch 55 \t\t Training Loss: 0.24381530284881592 \t\t Validation Loss: 0.5485080480575562\n",
            "Epoch 54 has accurcy score of train data: 0.938\n",
            "Epoch 56 \t\t Training Loss: 0.2412690445780754 \t\t Validation Loss: 0.5632011294364929\n",
            "Epoch 55 has accurcy score of train data: 0.943\n",
            "Epoch 57 \t\t Training Loss: 0.22944875806570053 \t\t Validation Loss: 0.5735949873924255\n",
            "Epoch 56 has accurcy score of train data: 0.969\n",
            "Epoch 58 \t\t Training Loss: 0.23486565798521042 \t\t Validation Loss: 0.5626107454299927\n",
            "Epoch 57 has accurcy score of train data: 0.938\n",
            "Epoch 59 \t\t Training Loss: 0.233969047665596 \t\t Validation Loss: 0.5602321028709412\n",
            "Epoch 58 has accurcy score of train data: 0.946\n",
            "Epoch 60 \t\t Training Loss: 0.2283850535750389 \t\t Validation Loss: 0.56878262758255\n",
            "Epoch 59 has accurcy score of train data: 0.951\n",
            "Epoch 61 \t\t Training Loss: 0.227942056953907 \t\t Validation Loss: 0.566490650177002\n",
            "Epoch 60 has accurcy score of train data: 0.954\n",
            "Epoch 62 \t\t Training Loss: 0.22615069150924683 \t\t Validation Loss: 0.5636010766029358\n",
            "Epoch 61 has accurcy score of train data: 0.948\n",
            "Epoch 63 \t\t Training Loss: 0.21732506155967712 \t\t Validation Loss: 0.5774965286254883\n",
            "Epoch 62 has accurcy score of train data: 0.966\n",
            "Epoch 64 \t\t Training Loss: 0.22271300107240677 \t\t Validation Loss: 0.5618407726287842\n",
            "Epoch 63 has accurcy score of train data: 0.951\n",
            "Epoch 65 \t\t Training Loss: 0.2147592306137085 \t\t Validation Loss: 0.5638588070869446\n",
            "Epoch 64 has accurcy score of train data: 0.964\n",
            "Epoch 66 \t\t Training Loss: 0.21756213158369064 \t\t Validation Loss: 0.5791088938713074\n",
            "Epoch 65 has accurcy score of train data: 0.959\n",
            "Epoch 67 \t\t Training Loss: 0.21416635066270828 \t\t Validation Loss: 0.5795339345932007\n",
            "Epoch 66 has accurcy score of train data: 0.954\n",
            "Epoch 68 \t\t Training Loss: 0.2088327631354332 \t\t Validation Loss: 0.5674000382423401\n",
            "Epoch 67 has accurcy score of train data: 0.961\n",
            "Epoch 69 \t\t Training Loss: 0.21514729410409927 \t\t Validation Loss: 0.5703137516975403\n",
            "Epoch 68 has accurcy score of train data: 0.946\n",
            "Epoch 70 \t\t Training Loss: 0.20485645532608032 \t\t Validation Loss: 0.5905892252922058\n",
            "Epoch 69 has accurcy score of train data: 0.964\n",
            "Epoch 71 \t\t Training Loss: 0.20692863315343857 \t\t Validation Loss: 0.5730974078178406\n",
            "Epoch 70 has accurcy score of train data: 0.964\n",
            "Epoch 72 \t\t Training Loss: 0.20492535829544067 \t\t Validation Loss: 0.5758755207061768\n",
            "Epoch 71 has accurcy score of train data: 0.948\n",
            "Epoch 73 \t\t Training Loss: 0.19505959004163742 \t\t Validation Loss: 0.5884023904800415\n",
            "Epoch 72 has accurcy score of train data: 0.964\n",
            "Epoch 74 \t\t Training Loss: 0.1985095888376236 \t\t Validation Loss: 0.5756678581237793\n",
            "Epoch 73 has accurcy score of train data: 0.961\n",
            "Epoch 75 \t\t Training Loss: 0.20024800300598145 \t\t Validation Loss: 0.576080858707428\n",
            "Epoch 74 has accurcy score of train data: 0.946\n",
            "Epoch 76 \t\t Training Loss: 0.19787929952144623 \t\t Validation Loss: 0.5974202752113342\n",
            "Epoch 75 has accurcy score of train data: 0.946\n",
            "Epoch 77 \t\t Training Loss: 0.1917896494269371 \t\t Validation Loss: 0.5771986246109009\n",
            "Epoch 76 has accurcy score of train data: 0.951\n",
            "Epoch 78 \t\t Training Loss: 0.1903134435415268 \t\t Validation Loss: 0.5809783339500427\n",
            "Epoch 77 has accurcy score of train data: 0.951\n",
            "Epoch 79 \t\t Training Loss: 0.1843634471297264 \t\t Validation Loss: 0.5999512076377869\n",
            "Epoch 78 has accurcy score of train data: 0.959\n",
            "Epoch 80 \t\t Training Loss: 0.18457094579935074 \t\t Validation Loss: 0.5817794799804688\n",
            "Epoch 79 has accurcy score of train data: 0.959\n",
            "Epoch 81 \t\t Training Loss: 0.18528611212968826 \t\t Validation Loss: 0.5807211399078369\n",
            "Epoch 80 has accurcy score of train data: 0.956\n",
            "Epoch 82 \t\t Training Loss: 0.18007002770900726 \t\t Validation Loss: 0.5995689630508423\n",
            "Epoch 81 has accurcy score of train data: 0.961\n",
            "Epoch 83 \t\t Training Loss: 0.17826596647500992 \t\t Validation Loss: 0.5894090533256531\n",
            "Epoch 82 has accurcy score of train data: 0.977\n",
            "Epoch 84 \t\t Training Loss: 0.17843453586101532 \t\t Validation Loss: 0.5892214775085449\n",
            "Epoch 83 has accurcy score of train data: 0.956\n",
            "Epoch 85 \t\t Training Loss: 0.17616449296474457 \t\t Validation Loss: 0.598517656326294\n",
            "Epoch 84 has accurcy score of train data: 0.966\n",
            "Epoch 86 \t\t Training Loss: 0.1725999042391777 \t\t Validation Loss: 0.594342827796936\n",
            "Epoch 85 has accurcy score of train data: 0.969\n",
            "Epoch 87 \t\t Training Loss: 0.17101382464170456 \t\t Validation Loss: 0.5940287113189697\n",
            "Epoch 86 has accurcy score of train data: 0.974\n",
            "Epoch 88 \t\t Training Loss: 0.17049042880535126 \t\t Validation Loss: 0.5978022217750549\n",
            "Epoch 87 has accurcy score of train data: 0.964\n",
            "Epoch 89 \t\t Training Loss: 0.16821997612714767 \t\t Validation Loss: 0.5944867134094238\n",
            "Epoch 88 has accurcy score of train data: 0.977\n",
            "Epoch 90 \t\t Training Loss: 0.1655358225107193 \t\t Validation Loss: 0.6028584837913513\n",
            "Epoch 89 has accurcy score of train data: 0.977\n",
            "Epoch 91 \t\t Training Loss: 0.16458343714475632 \t\t Validation Loss: 0.5983893871307373\n",
            "Epoch 90 has accurcy score of train data: 0.979\n",
            "Epoch 92 \t\t Training Loss: 0.17041749507188797 \t\t Validation Loss: 0.6029442548751831\n",
            "Epoch 91 has accurcy score of train data: 0.964\n",
            "Epoch 93 \t\t Training Loss: 0.16244236379861832 \t\t Validation Loss: 0.6243327856063843\n",
            "Epoch 92 has accurcy score of train data: 0.959\n",
            "Epoch 94 \t\t Training Loss: 0.16480782628059387 \t\t Validation Loss: 0.5977646112442017\n",
            "Epoch 93 has accurcy score of train data: 0.974\n",
            "Epoch 95 \t\t Training Loss: 0.16125477105379105 \t\t Validation Loss: 0.5972566604614258\n",
            "Epoch 94 has accurcy score of train data: 0.966\n",
            "Epoch 96 \t\t Training Loss: 0.1559055969119072 \t\t Validation Loss: 0.6161777973175049\n",
            "Epoch 95 has accurcy score of train data: 0.979\n",
            "Epoch 97 \t\t Training Loss: 0.1576339155435562 \t\t Validation Loss: 0.6055727005004883\n",
            "Epoch 96 has accurcy score of train data: 0.966\n",
            "Epoch 98 \t\t Training Loss: 0.1522371768951416 \t\t Validation Loss: 0.5996670126914978\n",
            "Epoch 97 has accurcy score of train data: 0.977\n",
            "Epoch 99 \t\t Training Loss: 0.15253502875566483 \t\t Validation Loss: 0.6054596304893494\n",
            "Epoch 98 has accurcy score of train data: 0.979\n",
            "Epoch 100 \t\t Training Loss: 0.15094707161188126 \t\t Validation Loss: 0.6069242358207703\n",
            "Epoch 99 has accurcy score of train data: 0.969\n"
          ]
        }
      ]
    },
    {
      "cell_type": "code",
      "source": [
        "training_loss = 0.0\n",
        "correct, total = 0, 0\n",
        "\n",
        "for data,label in train_loader:\n",
        "    if torch.cuda.is_available():\n",
        "        data, label = data.cuda(), label.cuda()\n",
        "    output = model(data)\n",
        "    for o,l in zip(torch.argmax(output,axis = 1),label):\n",
        "        if o == l:\n",
        "            correct += 1\n",
        "        total += 1\n",
        "    loss = loss_func(output,label)\n",
        "    training_loss += loss.item() * data.size(0)\n",
        "print(f'Train Loss:{training_loss/len(train_loader)}')\n",
        "print(f'Correct Predictions: {correct}/{total}')"
      ],
      "metadata": {
        "colab": {
          "base_uri": "https://localhost:8080/"
        },
        "id": "oOx-AZYXO-qv",
        "outputId": "a322cd1e-11be-49a1-b889-5eba7d592259"
      },
      "execution_count": 65,
      "outputs": [
        {
          "output_type": "stream",
          "name": "stdout",
          "text": [
            "Train Loss:67.10639226436615\n",
            "Correct Predictions: 878/900\n"
          ]
        }
      ]
    },
    {
      "cell_type": "code",
      "source": [
        "test_loss = 0.0\n",
        "correct, total = 0, 0\n",
        "\n",
        "for data,label in test_loader:\n",
        "    if torch.cuda.is_available():\n",
        "        data, label = data.cuda(), label.cuda()\n",
        "    output = model(data)\n",
        "    for o,l in zip(torch.argmax(output,axis = 1),label):\n",
        "        if o == l:\n",
        "            correct += 1\n",
        "        total += 1\n",
        "    loss = loss_func(output,label)\n",
        "    test_loss += loss.item() * data.size(0)\n",
        "print(f'Testing Loss:{test_loss/len(test_loader)}')\n",
        "print(f'Correct Predictions: {correct}/{total}')"
      ],
      "metadata": {
        "colab": {
          "base_uri": "https://localhost:8080/"
        },
        "id": "9Ni3QM3zMSJh",
        "outputId": "7a7fd183-8e3d-443f-8a99-53c08d85c941"
      },
      "execution_count": 66,
      "outputs": [
        {
          "output_type": "stream",
          "name": "stdout",
          "text": [
            "Testing Loss:60.692423582077026\n",
            "Correct Predictions: 79/100\n"
          ]
        }
      ]
    },
    {
      "cell_type": "markdown",
      "metadata": {
        "id": "MgtxebMuaVSs"
      },
      "source": [
        "### Task 3: Fix it.\n",
        "Fix the overfitted network from the previous step (at least partially) by using regularization techniques (Dropout/Batchnorm/...) and demonstrate the results. "
      ]
    },
    {
      "cell_type": "code",
      "source": [
        "class FixedNeuralNetwork(nn.Module):\n",
        "    def __init__(self, input_shape=28*28, num_classes=10, input_channels=1):\n",
        "        super(self.__class__, self).__init__()\n",
        "        self.model = nn.Sequential(\n",
        "            nn.Flatten(), # This layer converts image into a vector to use Linear layers afterwards\n",
        "            # Your network structure comes here\n",
        "            nn.BatchNorm1d(input_shape),\n",
        "            nn.ReLU(),\n",
        "            nn.Dropout(0.5),\n",
        "            nn.Linear(input_shape, 256),\n",
        "            nn.ReLU(),\n",
        "            nn.Linear(256, 64),\n",
        "            nn.ReLU(),\n",
        "            nn.Linear(64, num_classes)\n",
        "        )\n",
        "        \n",
        "    def forward(self, inp):       \n",
        "        out = self.model(inp)\n",
        "        return out"
      ],
      "metadata": {
        "id": "OG0bY4xFhAy4"
      },
      "execution_count": null,
      "outputs": []
    },
    {
      "cell_type": "code",
      "execution_count": null,
      "metadata": {
        "id": "Fb1uUJKUaVSt",
        "colab": {
          "base_uri": "https://localhost:8080/"
        },
        "outputId": "630893f6-fee2-4ef6-8f48-336fa6e26570"
      },
      "outputs": [
        {
          "output_type": "stream",
          "name": "stdout",
          "text": [
            "----------------------------------------------------------------\n",
            "        Layer (type)               Output Shape         Param #\n",
            "================================================================\n",
            "           Flatten-1                  [-1, 784]               0\n",
            "       BatchNorm1d-2                  [-1, 784]           1,568\n",
            "              ReLU-3                  [-1, 784]               0\n",
            "           Dropout-4                  [-1, 784]               0\n",
            "            Linear-5                  [-1, 256]         200,960\n",
            "              ReLU-6                  [-1, 256]               0\n",
            "            Linear-7                   [-1, 64]          16,448\n",
            "              ReLU-8                   [-1, 64]               0\n",
            "            Linear-9                   [-1, 10]             650\n",
            "================================================================\n",
            "Total params: 219,626\n",
            "Trainable params: 219,626\n",
            "Non-trainable params: 0\n",
            "----------------------------------------------------------------\n",
            "Input size (MB): 0.00\n",
            "Forward/backward pass size (MB): 0.03\n",
            "Params size (MB): 0.84\n",
            "Estimated Total Size (MB): 0.87\n",
            "----------------------------------------------------------------\n"
          ]
        }
      ],
      "source": [
        "torchsummary.summary(FixedNeuralNetwork().to(device), (28*28,))"
      ]
    },
    {
      "cell_type": "code",
      "source": [
        "model = FixedNeuralNetwork().to(device)\n",
        "opt = torch.optim.SGD(model.parameters(), lr = 0.1)\n",
        "loss_func = nn.CrossEntropyLoss()\n",
        "\n",
        "# Your experiments, training and validation loops here"
      ],
      "metadata": {
        "id": "IpxyCCYlc8F1"
      },
      "execution_count": null,
      "outputs": []
    },
    {
      "cell_type": "code",
      "execution_count": null,
      "metadata": {
        "id": "i-cHrJPwaVSt",
        "colab": {
          "base_uri": "https://localhost:8080/"
        },
        "outputId": "c5513214-1392-4c0a-e8fc-1cf6aa6552b3"
      },
      "outputs": [
        {
          "output_type": "stream",
          "name": "stdout",
          "text": [
            "Epoch 1 \t\t Training Loss: 2.292820453643799 \t\t Validation Loss: 32.751853942871094\n",
            "Validation Loss Decreased(inf--->32.751854) \t Saving The Model\n",
            "Epoch 2 \t\t Training Loss: 31.06748390197754 \t\t Validation Loss: 53.373104095458984\n",
            "Epoch 3 \t\t Training Loss: 41.01123809814453 \t\t Validation Loss: 9.764559745788574\n",
            "Validation Loss Decreased(32.751854--->9.764560) \t Saving The Model\n",
            "Epoch 4 \t\t Training Loss: 8.791702270507812 \t\t Validation Loss: 5.884021759033203\n",
            "Validation Loss Decreased(9.764560--->5.884022) \t Saving The Model\n",
            "Epoch 5 \t\t Training Loss: 5.221841812133789 \t\t Validation Loss: 2.5849556922912598\n",
            "Validation Loss Decreased(5.884022--->2.584956) \t Saving The Model\n",
            "Epoch 6 \t\t Training Loss: 2.429607391357422 \t\t Validation Loss: 2.000626564025879\n",
            "Validation Loss Decreased(2.584956--->2.000627) \t Saving The Model\n",
            "Epoch 7 \t\t Training Loss: 1.879091739654541 \t\t Validation Loss: 1.800949215888977\n",
            "Validation Loss Decreased(2.000627--->1.800949) \t Saving The Model\n",
            "Epoch 8 \t\t Training Loss: 1.6443138122558594 \t\t Validation Loss: 1.5889533758163452\n",
            "Validation Loss Decreased(1.800949--->1.588953) \t Saving The Model\n",
            "Epoch 9 \t\t Training Loss: 1.5308297872543335 \t\t Validation Loss: 1.511732816696167\n",
            "Validation Loss Decreased(1.588953--->1.511733) \t Saving The Model\n",
            "Epoch 10 \t\t Training Loss: 1.3889714479446411 \t\t Validation Loss: 1.3724757432937622\n",
            "Validation Loss Decreased(1.511733--->1.372476) \t Saving The Model\n",
            "Epoch 11 \t\t Training Loss: 1.3305100202560425 \t\t Validation Loss: 1.5419813394546509\n",
            "Epoch 12 \t\t Training Loss: 1.3980202674865723 \t\t Validation Loss: 1.244002342224121\n",
            "Validation Loss Decreased(1.372476--->1.244002) \t Saving The Model\n",
            "Epoch 13 \t\t Training Loss: 1.2355257272720337 \t\t Validation Loss: 1.2458833456039429\n",
            "Epoch 14 \t\t Training Loss: 1.1223939657211304 \t\t Validation Loss: 1.0589276552200317\n",
            "Validation Loss Decreased(1.244002--->1.058928) \t Saving The Model\n",
            "Epoch 15 \t\t Training Loss: 1.0740777254104614 \t\t Validation Loss: 1.10483980178833\n",
            "Epoch 16 \t\t Training Loss: 0.9985858798027039 \t\t Validation Loss: 1.0332993268966675\n",
            "Validation Loss Decreased(1.058928--->1.033299) \t Saving The Model\n",
            "Epoch 17 \t\t Training Loss: 1.0112574100494385 \t\t Validation Loss: 1.0028340816497803\n",
            "Validation Loss Decreased(1.033299--->1.002834) \t Saving The Model\n",
            "Epoch 18 \t\t Training Loss: 0.9255533218383789 \t\t Validation Loss: 1.0203349590301514\n",
            "Epoch 19 \t\t Training Loss: 0.9334642291069031 \t\t Validation Loss: 1.2718123197555542\n",
            "Epoch 20 \t\t Training Loss: 1.104236125946045 \t\t Validation Loss: 1.2261600494384766\n",
            "Epoch 21 \t\t Training Loss: 1.2083572149276733 \t\t Validation Loss: 0.9758085608482361\n",
            "Validation Loss Decreased(1.002834--->0.975809) \t Saving The Model\n",
            "Epoch 22 \t\t Training Loss: 0.9692871570587158 \t\t Validation Loss: 1.054350733757019\n",
            "Epoch 23 \t\t Training Loss: 0.9091600775718689 \t\t Validation Loss: 0.9241107702255249\n",
            "Validation Loss Decreased(0.975809--->0.924111) \t Saving The Model\n",
            "Epoch 24 \t\t Training Loss: 0.8839430212974548 \t\t Validation Loss: 0.9232344031333923\n",
            "Validation Loss Decreased(0.924111--->0.923234) \t Saving The Model\n",
            "Epoch 25 \t\t Training Loss: 0.8015863299369812 \t\t Validation Loss: 0.8786808848381042\n",
            "Validation Loss Decreased(0.923234--->0.878681) \t Saving The Model\n",
            "Epoch 26 \t\t Training Loss: 0.7710974812507629 \t\t Validation Loss: 0.8784410357475281\n",
            "Validation Loss Decreased(0.878681--->0.878441) \t Saving The Model\n",
            "Epoch 27 \t\t Training Loss: 0.7446598410606384 \t\t Validation Loss: 0.8370270729064941\n",
            "Validation Loss Decreased(0.878441--->0.837027) \t Saving The Model\n",
            "Epoch 28 \t\t Training Loss: 0.7200230360031128 \t\t Validation Loss: 0.8321657776832581\n",
            "Validation Loss Decreased(0.837027--->0.832166) \t Saving The Model\n",
            "Epoch 29 \t\t Training Loss: 0.7128482460975647 \t\t Validation Loss: 0.9702971577644348\n",
            "Epoch 30 \t\t Training Loss: 0.786872923374176 \t\t Validation Loss: 1.1158031225204468\n",
            "Epoch 31 \t\t Training Loss: 0.9896745085716248 \t\t Validation Loss: 0.8868593573570251\n",
            "Epoch 32 \t\t Training Loss: 0.727787435054779 \t\t Validation Loss: 0.8299813270568848\n",
            "Validation Loss Decreased(0.832166--->0.829981) \t Saving The Model\n",
            "Epoch 33 \t\t Training Loss: 0.6716259121894836 \t\t Validation Loss: 0.7995630502700806\n",
            "Validation Loss Decreased(0.829981--->0.799563) \t Saving The Model\n",
            "Epoch 34 \t\t Training Loss: 0.644972562789917 \t\t Validation Loss: 0.8329805135726929\n",
            "Epoch 35 \t\t Training Loss: 0.6346689462661743 \t\t Validation Loss: 0.8034799098968506\n",
            "Epoch 36 \t\t Training Loss: 0.6746224164962769 \t\t Validation Loss: 0.8854010701179504\n",
            "Epoch 37 \t\t Training Loss: 0.6571452021598816 \t\t Validation Loss: 0.7754682302474976\n",
            "Validation Loss Decreased(0.799563--->0.775468) \t Saving The Model\n",
            "Epoch 38 \t\t Training Loss: 0.6328869462013245 \t\t Validation Loss: 0.8187285661697388\n",
            "Epoch 39 \t\t Training Loss: 0.6086135506629944 \t\t Validation Loss: 0.7706510424613953\n",
            "Validation Loss Decreased(0.775468--->0.770651) \t Saving The Model\n",
            "Epoch 40 \t\t Training Loss: 0.6051073670387268 \t\t Validation Loss: 0.8380497097969055\n",
            "Epoch 41 \t\t Training Loss: 0.6135351657867432 \t\t Validation Loss: 0.8253129720687866\n",
            "Epoch 42 \t\t Training Loss: 0.6691730618476868 \t\t Validation Loss: 0.809090793132782\n",
            "Epoch 43 \t\t Training Loss: 0.5936071276664734 \t\t Validation Loss: 0.7408128380775452\n",
            "Validation Loss Decreased(0.770651--->0.740813) \t Saving The Model\n",
            "Epoch 44 \t\t Training Loss: 0.5601794123649597 \t\t Validation Loss: 0.7912546396255493\n",
            "Epoch 45 \t\t Training Loss: 0.5670630931854248 \t\t Validation Loss: 0.7606768608093262\n",
            "Epoch 46 \t\t Training Loss: 0.5937220454216003 \t\t Validation Loss: 0.8513709306716919\n",
            "Epoch 47 \t\t Training Loss: 0.621061384677887 \t\t Validation Loss: 0.7695032358169556\n",
            "Epoch 48 \t\t Training Loss: 0.5973140597343445 \t\t Validation Loss: 0.8136535882949829\n",
            "Epoch 49 \t\t Training Loss: 0.6151719093322754 \t\t Validation Loss: 0.7701631188392639\n",
            "Epoch 50 \t\t Training Loss: 0.573956310749054 \t\t Validation Loss: 0.7548236846923828\n"
          ]
        }
      ],
      "source": [
        "epochs = 20\n",
        "\n",
        "min_valid_loss = np.inf\n",
        "\n",
        "for e in range(epochs):\n",
        "    train_loss = 0.0\n",
        "    for data, labels in train_loader:\n",
        "        # Transfer Data to GPU if available\n",
        "        if torch.cuda.is_available():\n",
        "            data, labels = data.cuda(), labels.cuda()\n",
        "         \n",
        "        # Clear the gradients\n",
        "        opt.zero_grad()\n",
        "        # Forward Pass\n",
        "        target = model(data)\n",
        "        # Find the Loss\n",
        "        loss = loss_func(target, labels)\n",
        "        # Calculate gradients\n",
        "        loss.backward()\n",
        "        # Update Weights\n",
        "        opt.step()\n",
        "        # Calculate Loss\n",
        "        train_loss += loss.item()\n",
        "     \n",
        "    valid_loss = 0.0\n",
        "    model.eval()     # Optional when not using Model Specific layer\n",
        "    for data, labels in test_loader:\n",
        "        # Transfer Data to GPU if available\n",
        "        if torch.cuda.is_available():\n",
        "            data, labels = data.cuda(), labels.cuda()\n",
        "         \n",
        "        # Forward Pass\n",
        "        target = model(data)\n",
        "        # Find the Loss\n",
        "        loss = loss_func(target,labels)\n",
        "        # Calculate Loss\n",
        "        valid_loss += loss.item()\n",
        " \n",
        "    print(f'Epoch {e+1} \\t\\t Training Loss: {train_loss / len(train_loader)} \\t\\t Validation Loss: {valid_loss / len(test_loader)}')\n",
        "     \n",
        "    if min_valid_loss > valid_loss:\n",
        "        print(f'Validation Loss Decreased({min_valid_loss:.6f}--->{valid_loss:.6f}) \\t Saving The Model')\n",
        "        min_valid_loss = valid_loss\n",
        "         \n",
        "        # Saving State Dict\n",
        "        torch.save(model.state_dict(), 'saved_model.pth')"
      ]
    },
    {
      "cell_type": "code",
      "source": [
        "training_loss = 0.0\n",
        "correct, total = 0, 0\n",
        "\n",
        "for data,label in train_loader:\n",
        "    if torch.cuda.is_available():\n",
        "        data, label = data.cuda(), label.cuda()\n",
        "    output = model(data)\n",
        "\n",
        "    for o,l in zip(torch.argmax(output,axis = 1),label):\n",
        "        if o == l:\n",
        "            correct += 1\n",
        "        total += 1\n",
        "    loss = loss_func(output,label)\n",
        "    training_loss += loss.item() * data.size(0)\n",
        "print(f'Training Loss:{training_loss/len(train_loader)}')\n",
        "print(f'Correct Predictions: {correct}/{total}')"
      ],
      "metadata": {
        "colab": {
          "base_uri": "https://localhost:8080/"
        },
        "outputId": "7267b280-dcdb-4272-883d-7e4b254a744b",
        "id": "rO30uw4qV5vg"
      },
      "execution_count": null,
      "outputs": [
        {
          "output_type": "stream",
          "name": "stdout",
          "text": [
            "Testing Loss:485.4287624359131\n",
            "Correct Predictions: 712/900\n"
          ]
        }
      ]
    },
    {
      "cell_type": "code",
      "source": [
        "test_loss = 0.0\n",
        "correct, total = 0, 0\n",
        "\n",
        "for data,label in test_loader:\n",
        "    if torch.cuda.is_available():\n",
        "        data, label = data.cuda(), label.cuda()\n",
        "    output = model(data)\n",
        "    for o,l in zip(torch.argmax(output,axis = 1),label):\n",
        "        if o == l:\n",
        "            correct += 1\n",
        "        total += 1\n",
        "    loss = loss_func(output,label)\n",
        "    test_loss += loss.item() * data.size(0)\n",
        "print(f'Testing Loss:{test_loss/len(test_loader)}')\n",
        "print(f'Correct Predictions: {correct}/{total}')"
      ],
      "metadata": {
        "colab": {
          "base_uri": "https://localhost:8080/"
        },
        "outputId": "e6d9459c-305f-415a-a9a5-4bb8ffedfbac",
        "id": "Ms6KTuRlV8SS"
      },
      "execution_count": null,
      "outputs": [
        {
          "output_type": "stream",
          "name": "stdout",
          "text": [
            "Testing Loss:75.48236846923828\n",
            "Correct Predictions: 74/100\n"
          ]
        }
      ]
    },
    {
      "cell_type": "markdown",
      "metadata": {
        "id": "dMui_uLJ7G0d"
      },
      "source": [
        "### Conclusions:\n",
        "_Write down small report with your conclusions and your ideas._"
      ]
    },
    {
      "cell_type": "markdown",
      "source": [
        "## THE FIRST PART\n",
        "\n",
        "> We needed several layers of Linear NN with activations/dropout/batchnorm to achieve the required accuracy. First I had several errors with the number of outcoming nodes of the NN and had many errors but then learned that we need at least 10 nodes as outcome. I tried also several techniques of activasions.\n",
        "\n",
        "\n",
        "## THE OVERFITTING PART\n",
        "\n",
        "\n",
        "\n",
        "> It was tricky for me to understand when does it really overfit especially that there is no exact way of making a NN overfit otherwise it would be easy to avoid it in real applications. **The number of iterations over the training data affects the how \"fit\" is the NN and if we use big batches with small data it is probably going to overfit**\n",
        "\n",
        "## AVOIDING OVERFITTING \n",
        "\n",
        "> Here I saw how important to have several layers and to use activations/dropout/batchnorm techniques **IT IS SO HARD TO MAKE A NN OVERFIT WITH SGD**.\n",
        "\n",
        "\n",
        "\n",
        "\n",
        "\n"
      ],
      "metadata": {
        "id": "tYMLliUoiXD_"
      }
    }
  ],
  "metadata": {
    "accelerator": "GPU",
    "colab": {
      "provenance": [],
      "include_colab_link": true
    },
    "kernelspec": {
      "display_name": "Python 3",
      "language": "python",
      "name": "python3"
    },
    "language_info": {
      "codemirror_mode": {
        "name": "ipython",
        "version": 3
      },
      "file_extension": ".py",
      "mimetype": "text/x-python",
      "name": "python",
      "nbconvert_exporter": "python",
      "pygments_lexer": "ipython3",
      "version": "3.7.7"
    },
    "widgets": {
      "application/vnd.jupyter.widget-state+json": {
        "6c8b4f4a01c044c5b843d6d91f7992d1": {
          "model_module": "@jupyter-widgets/controls",
          "model_name": "HBoxModel",
          "model_module_version": "1.5.0",
          "state": {
            "_dom_classes": [],
            "_model_module": "@jupyter-widgets/controls",
            "_model_module_version": "1.5.0",
            "_model_name": "HBoxModel",
            "_view_count": null,
            "_view_module": "@jupyter-widgets/controls",
            "_view_module_version": "1.5.0",
            "_view_name": "HBoxView",
            "box_style": "",
            "children": [
              "IPY_MODEL_bdc2a0d39aac4898b99bc14c1355e0c0",
              "IPY_MODEL_e9e7202aebc84a1cbf39826e88498f55",
              "IPY_MODEL_cf7e64dd2ead422caf27b8387ca167e1"
            ],
            "layout": "IPY_MODEL_b28a61a960174554bb345278619434be"
          }
        },
        "bdc2a0d39aac4898b99bc14c1355e0c0": {
          "model_module": "@jupyter-widgets/controls",
          "model_name": "HTMLModel",
          "model_module_version": "1.5.0",
          "state": {
            "_dom_classes": [],
            "_model_module": "@jupyter-widgets/controls",
            "_model_module_version": "1.5.0",
            "_model_name": "HTMLModel",
            "_view_count": null,
            "_view_module": "@jupyter-widgets/controls",
            "_view_module_version": "1.5.0",
            "_view_name": "HTMLView",
            "description": "",
            "description_tooltip": null,
            "layout": "IPY_MODEL_69bda642707947c4b77b3a8b0b05979a",
            "placeholder": "​",
            "style": "IPY_MODEL_b6e822d84a884990bbadca83f63574ac",
            "value": "100%"
          }
        },
        "e9e7202aebc84a1cbf39826e88498f55": {
          "model_module": "@jupyter-widgets/controls",
          "model_name": "FloatProgressModel",
          "model_module_version": "1.5.0",
          "state": {
            "_dom_classes": [],
            "_model_module": "@jupyter-widgets/controls",
            "_model_module_version": "1.5.0",
            "_model_name": "FloatProgressModel",
            "_view_count": null,
            "_view_module": "@jupyter-widgets/controls",
            "_view_module_version": "1.5.0",
            "_view_name": "ProgressView",
            "bar_style": "success",
            "description": "",
            "description_tooltip": null,
            "layout": "IPY_MODEL_b1ad1c59774a40d2a0c3d5cda56f8817",
            "max": 26421880,
            "min": 0,
            "orientation": "horizontal",
            "style": "IPY_MODEL_ad6479bd069149c683dae8173d6d6211",
            "value": 26421880
          }
        },
        "cf7e64dd2ead422caf27b8387ca167e1": {
          "model_module": "@jupyter-widgets/controls",
          "model_name": "HTMLModel",
          "model_module_version": "1.5.0",
          "state": {
            "_dom_classes": [],
            "_model_module": "@jupyter-widgets/controls",
            "_model_module_version": "1.5.0",
            "_model_name": "HTMLModel",
            "_view_count": null,
            "_view_module": "@jupyter-widgets/controls",
            "_view_module_version": "1.5.0",
            "_view_name": "HTMLView",
            "description": "",
            "description_tooltip": null,
            "layout": "IPY_MODEL_b8ac70a74a6140fbaac773fb89570491",
            "placeholder": "​",
            "style": "IPY_MODEL_597b5ddf9c0d4c74a38a13e1fcd79b9c",
            "value": " 26421880/26421880 [00:00&lt;00:00, 108484729.11it/s]"
          }
        },
        "b28a61a960174554bb345278619434be": {
          "model_module": "@jupyter-widgets/base",
          "model_name": "LayoutModel",
          "model_module_version": "1.2.0",
          "state": {
            "_model_module": "@jupyter-widgets/base",
            "_model_module_version": "1.2.0",
            "_model_name": "LayoutModel",
            "_view_count": null,
            "_view_module": "@jupyter-widgets/base",
            "_view_module_version": "1.2.0",
            "_view_name": "LayoutView",
            "align_content": null,
            "align_items": null,
            "align_self": null,
            "border": null,
            "bottom": null,
            "display": null,
            "flex": null,
            "flex_flow": null,
            "grid_area": null,
            "grid_auto_columns": null,
            "grid_auto_flow": null,
            "grid_auto_rows": null,
            "grid_column": null,
            "grid_gap": null,
            "grid_row": null,
            "grid_template_areas": null,
            "grid_template_columns": null,
            "grid_template_rows": null,
            "height": null,
            "justify_content": null,
            "justify_items": null,
            "left": null,
            "margin": null,
            "max_height": null,
            "max_width": null,
            "min_height": null,
            "min_width": null,
            "object_fit": null,
            "object_position": null,
            "order": null,
            "overflow": null,
            "overflow_x": null,
            "overflow_y": null,
            "padding": null,
            "right": null,
            "top": null,
            "visibility": null,
            "width": null
          }
        },
        "69bda642707947c4b77b3a8b0b05979a": {
          "model_module": "@jupyter-widgets/base",
          "model_name": "LayoutModel",
          "model_module_version": "1.2.0",
          "state": {
            "_model_module": "@jupyter-widgets/base",
            "_model_module_version": "1.2.0",
            "_model_name": "LayoutModel",
            "_view_count": null,
            "_view_module": "@jupyter-widgets/base",
            "_view_module_version": "1.2.0",
            "_view_name": "LayoutView",
            "align_content": null,
            "align_items": null,
            "align_self": null,
            "border": null,
            "bottom": null,
            "display": null,
            "flex": null,
            "flex_flow": null,
            "grid_area": null,
            "grid_auto_columns": null,
            "grid_auto_flow": null,
            "grid_auto_rows": null,
            "grid_column": null,
            "grid_gap": null,
            "grid_row": null,
            "grid_template_areas": null,
            "grid_template_columns": null,
            "grid_template_rows": null,
            "height": null,
            "justify_content": null,
            "justify_items": null,
            "left": null,
            "margin": null,
            "max_height": null,
            "max_width": null,
            "min_height": null,
            "min_width": null,
            "object_fit": null,
            "object_position": null,
            "order": null,
            "overflow": null,
            "overflow_x": null,
            "overflow_y": null,
            "padding": null,
            "right": null,
            "top": null,
            "visibility": null,
            "width": null
          }
        },
        "b6e822d84a884990bbadca83f63574ac": {
          "model_module": "@jupyter-widgets/controls",
          "model_name": "DescriptionStyleModel",
          "model_module_version": "1.5.0",
          "state": {
            "_model_module": "@jupyter-widgets/controls",
            "_model_module_version": "1.5.0",
            "_model_name": "DescriptionStyleModel",
            "_view_count": null,
            "_view_module": "@jupyter-widgets/base",
            "_view_module_version": "1.2.0",
            "_view_name": "StyleView",
            "description_width": ""
          }
        },
        "b1ad1c59774a40d2a0c3d5cda56f8817": {
          "model_module": "@jupyter-widgets/base",
          "model_name": "LayoutModel",
          "model_module_version": "1.2.0",
          "state": {
            "_model_module": "@jupyter-widgets/base",
            "_model_module_version": "1.2.0",
            "_model_name": "LayoutModel",
            "_view_count": null,
            "_view_module": "@jupyter-widgets/base",
            "_view_module_version": "1.2.0",
            "_view_name": "LayoutView",
            "align_content": null,
            "align_items": null,
            "align_self": null,
            "border": null,
            "bottom": null,
            "display": null,
            "flex": null,
            "flex_flow": null,
            "grid_area": null,
            "grid_auto_columns": null,
            "grid_auto_flow": null,
            "grid_auto_rows": null,
            "grid_column": null,
            "grid_gap": null,
            "grid_row": null,
            "grid_template_areas": null,
            "grid_template_columns": null,
            "grid_template_rows": null,
            "height": null,
            "justify_content": null,
            "justify_items": null,
            "left": null,
            "margin": null,
            "max_height": null,
            "max_width": null,
            "min_height": null,
            "min_width": null,
            "object_fit": null,
            "object_position": null,
            "order": null,
            "overflow": null,
            "overflow_x": null,
            "overflow_y": null,
            "padding": null,
            "right": null,
            "top": null,
            "visibility": null,
            "width": null
          }
        },
        "ad6479bd069149c683dae8173d6d6211": {
          "model_module": "@jupyter-widgets/controls",
          "model_name": "ProgressStyleModel",
          "model_module_version": "1.5.0",
          "state": {
            "_model_module": "@jupyter-widgets/controls",
            "_model_module_version": "1.5.0",
            "_model_name": "ProgressStyleModel",
            "_view_count": null,
            "_view_module": "@jupyter-widgets/base",
            "_view_module_version": "1.2.0",
            "_view_name": "StyleView",
            "bar_color": null,
            "description_width": ""
          }
        },
        "b8ac70a74a6140fbaac773fb89570491": {
          "model_module": "@jupyter-widgets/base",
          "model_name": "LayoutModel",
          "model_module_version": "1.2.0",
          "state": {
            "_model_module": "@jupyter-widgets/base",
            "_model_module_version": "1.2.0",
            "_model_name": "LayoutModel",
            "_view_count": null,
            "_view_module": "@jupyter-widgets/base",
            "_view_module_version": "1.2.0",
            "_view_name": "LayoutView",
            "align_content": null,
            "align_items": null,
            "align_self": null,
            "border": null,
            "bottom": null,
            "display": null,
            "flex": null,
            "flex_flow": null,
            "grid_area": null,
            "grid_auto_columns": null,
            "grid_auto_flow": null,
            "grid_auto_rows": null,
            "grid_column": null,
            "grid_gap": null,
            "grid_row": null,
            "grid_template_areas": null,
            "grid_template_columns": null,
            "grid_template_rows": null,
            "height": null,
            "justify_content": null,
            "justify_items": null,
            "left": null,
            "margin": null,
            "max_height": null,
            "max_width": null,
            "min_height": null,
            "min_width": null,
            "object_fit": null,
            "object_position": null,
            "order": null,
            "overflow": null,
            "overflow_x": null,
            "overflow_y": null,
            "padding": null,
            "right": null,
            "top": null,
            "visibility": null,
            "width": null
          }
        },
        "597b5ddf9c0d4c74a38a13e1fcd79b9c": {
          "model_module": "@jupyter-widgets/controls",
          "model_name": "DescriptionStyleModel",
          "model_module_version": "1.5.0",
          "state": {
            "_model_module": "@jupyter-widgets/controls",
            "_model_module_version": "1.5.0",
            "_model_name": "DescriptionStyleModel",
            "_view_count": null,
            "_view_module": "@jupyter-widgets/base",
            "_view_module_version": "1.2.0",
            "_view_name": "StyleView",
            "description_width": ""
          }
        },
        "1a538e55a08b46f99a5ad2f5d174ba48": {
          "model_module": "@jupyter-widgets/controls",
          "model_name": "HBoxModel",
          "model_module_version": "1.5.0",
          "state": {
            "_dom_classes": [],
            "_model_module": "@jupyter-widgets/controls",
            "_model_module_version": "1.5.0",
            "_model_name": "HBoxModel",
            "_view_count": null,
            "_view_module": "@jupyter-widgets/controls",
            "_view_module_version": "1.5.0",
            "_view_name": "HBoxView",
            "box_style": "",
            "children": [
              "IPY_MODEL_2bbf3c94868e4d789ee37d08733305f4",
              "IPY_MODEL_88f6ea56ec5f4a1cb96a116f1da26eeb",
              "IPY_MODEL_a355cc2f8eda4ba0867a8f50158f9b45"
            ],
            "layout": "IPY_MODEL_d94adf2f1e5a47099255fd873a21d116"
          }
        },
        "2bbf3c94868e4d789ee37d08733305f4": {
          "model_module": "@jupyter-widgets/controls",
          "model_name": "HTMLModel",
          "model_module_version": "1.5.0",
          "state": {
            "_dom_classes": [],
            "_model_module": "@jupyter-widgets/controls",
            "_model_module_version": "1.5.0",
            "_model_name": "HTMLModel",
            "_view_count": null,
            "_view_module": "@jupyter-widgets/controls",
            "_view_module_version": "1.5.0",
            "_view_name": "HTMLView",
            "description": "",
            "description_tooltip": null,
            "layout": "IPY_MODEL_0a4120d4b3e14f4f8c70f85e7e143545",
            "placeholder": "​",
            "style": "IPY_MODEL_f026f9f9bb704208804c1d879db852ce",
            "value": "100%"
          }
        },
        "88f6ea56ec5f4a1cb96a116f1da26eeb": {
          "model_module": "@jupyter-widgets/controls",
          "model_name": "FloatProgressModel",
          "model_module_version": "1.5.0",
          "state": {
            "_dom_classes": [],
            "_model_module": "@jupyter-widgets/controls",
            "_model_module_version": "1.5.0",
            "_model_name": "FloatProgressModel",
            "_view_count": null,
            "_view_module": "@jupyter-widgets/controls",
            "_view_module_version": "1.5.0",
            "_view_name": "ProgressView",
            "bar_style": "success",
            "description": "",
            "description_tooltip": null,
            "layout": "IPY_MODEL_a8c9539573714a34a10274e9cea0ab9e",
            "max": 29515,
            "min": 0,
            "orientation": "horizontal",
            "style": "IPY_MODEL_ffbb202bd26842179e0d95f23d3aa8d4",
            "value": 29515
          }
        },
        "a355cc2f8eda4ba0867a8f50158f9b45": {
          "model_module": "@jupyter-widgets/controls",
          "model_name": "HTMLModel",
          "model_module_version": "1.5.0",
          "state": {
            "_dom_classes": [],
            "_model_module": "@jupyter-widgets/controls",
            "_model_module_version": "1.5.0",
            "_model_name": "HTMLModel",
            "_view_count": null,
            "_view_module": "@jupyter-widgets/controls",
            "_view_module_version": "1.5.0",
            "_view_name": "HTMLView",
            "description": "",
            "description_tooltip": null,
            "layout": "IPY_MODEL_5f300509417946d19a453a10c55a3df7",
            "placeholder": "​",
            "style": "IPY_MODEL_c613f76c2c7e4102b3ea098639c42c91",
            "value": " 29515/29515 [00:00&lt;00:00, 1677755.71it/s]"
          }
        },
        "d94adf2f1e5a47099255fd873a21d116": {
          "model_module": "@jupyter-widgets/base",
          "model_name": "LayoutModel",
          "model_module_version": "1.2.0",
          "state": {
            "_model_module": "@jupyter-widgets/base",
            "_model_module_version": "1.2.0",
            "_model_name": "LayoutModel",
            "_view_count": null,
            "_view_module": "@jupyter-widgets/base",
            "_view_module_version": "1.2.0",
            "_view_name": "LayoutView",
            "align_content": null,
            "align_items": null,
            "align_self": null,
            "border": null,
            "bottom": null,
            "display": null,
            "flex": null,
            "flex_flow": null,
            "grid_area": null,
            "grid_auto_columns": null,
            "grid_auto_flow": null,
            "grid_auto_rows": null,
            "grid_column": null,
            "grid_gap": null,
            "grid_row": null,
            "grid_template_areas": null,
            "grid_template_columns": null,
            "grid_template_rows": null,
            "height": null,
            "justify_content": null,
            "justify_items": null,
            "left": null,
            "margin": null,
            "max_height": null,
            "max_width": null,
            "min_height": null,
            "min_width": null,
            "object_fit": null,
            "object_position": null,
            "order": null,
            "overflow": null,
            "overflow_x": null,
            "overflow_y": null,
            "padding": null,
            "right": null,
            "top": null,
            "visibility": null,
            "width": null
          }
        },
        "0a4120d4b3e14f4f8c70f85e7e143545": {
          "model_module": "@jupyter-widgets/base",
          "model_name": "LayoutModel",
          "model_module_version": "1.2.0",
          "state": {
            "_model_module": "@jupyter-widgets/base",
            "_model_module_version": "1.2.0",
            "_model_name": "LayoutModel",
            "_view_count": null,
            "_view_module": "@jupyter-widgets/base",
            "_view_module_version": "1.2.0",
            "_view_name": "LayoutView",
            "align_content": null,
            "align_items": null,
            "align_self": null,
            "border": null,
            "bottom": null,
            "display": null,
            "flex": null,
            "flex_flow": null,
            "grid_area": null,
            "grid_auto_columns": null,
            "grid_auto_flow": null,
            "grid_auto_rows": null,
            "grid_column": null,
            "grid_gap": null,
            "grid_row": null,
            "grid_template_areas": null,
            "grid_template_columns": null,
            "grid_template_rows": null,
            "height": null,
            "justify_content": null,
            "justify_items": null,
            "left": null,
            "margin": null,
            "max_height": null,
            "max_width": null,
            "min_height": null,
            "min_width": null,
            "object_fit": null,
            "object_position": null,
            "order": null,
            "overflow": null,
            "overflow_x": null,
            "overflow_y": null,
            "padding": null,
            "right": null,
            "top": null,
            "visibility": null,
            "width": null
          }
        },
        "f026f9f9bb704208804c1d879db852ce": {
          "model_module": "@jupyter-widgets/controls",
          "model_name": "DescriptionStyleModel",
          "model_module_version": "1.5.0",
          "state": {
            "_model_module": "@jupyter-widgets/controls",
            "_model_module_version": "1.5.0",
            "_model_name": "DescriptionStyleModel",
            "_view_count": null,
            "_view_module": "@jupyter-widgets/base",
            "_view_module_version": "1.2.0",
            "_view_name": "StyleView",
            "description_width": ""
          }
        },
        "a8c9539573714a34a10274e9cea0ab9e": {
          "model_module": "@jupyter-widgets/base",
          "model_name": "LayoutModel",
          "model_module_version": "1.2.0",
          "state": {
            "_model_module": "@jupyter-widgets/base",
            "_model_module_version": "1.2.0",
            "_model_name": "LayoutModel",
            "_view_count": null,
            "_view_module": "@jupyter-widgets/base",
            "_view_module_version": "1.2.0",
            "_view_name": "LayoutView",
            "align_content": null,
            "align_items": null,
            "align_self": null,
            "border": null,
            "bottom": null,
            "display": null,
            "flex": null,
            "flex_flow": null,
            "grid_area": null,
            "grid_auto_columns": null,
            "grid_auto_flow": null,
            "grid_auto_rows": null,
            "grid_column": null,
            "grid_gap": null,
            "grid_row": null,
            "grid_template_areas": null,
            "grid_template_columns": null,
            "grid_template_rows": null,
            "height": null,
            "justify_content": null,
            "justify_items": null,
            "left": null,
            "margin": null,
            "max_height": null,
            "max_width": null,
            "min_height": null,
            "min_width": null,
            "object_fit": null,
            "object_position": null,
            "order": null,
            "overflow": null,
            "overflow_x": null,
            "overflow_y": null,
            "padding": null,
            "right": null,
            "top": null,
            "visibility": null,
            "width": null
          }
        },
        "ffbb202bd26842179e0d95f23d3aa8d4": {
          "model_module": "@jupyter-widgets/controls",
          "model_name": "ProgressStyleModel",
          "model_module_version": "1.5.0",
          "state": {
            "_model_module": "@jupyter-widgets/controls",
            "_model_module_version": "1.5.0",
            "_model_name": "ProgressStyleModel",
            "_view_count": null,
            "_view_module": "@jupyter-widgets/base",
            "_view_module_version": "1.2.0",
            "_view_name": "StyleView",
            "bar_color": null,
            "description_width": ""
          }
        },
        "5f300509417946d19a453a10c55a3df7": {
          "model_module": "@jupyter-widgets/base",
          "model_name": "LayoutModel",
          "model_module_version": "1.2.0",
          "state": {
            "_model_module": "@jupyter-widgets/base",
            "_model_module_version": "1.2.0",
            "_model_name": "LayoutModel",
            "_view_count": null,
            "_view_module": "@jupyter-widgets/base",
            "_view_module_version": "1.2.0",
            "_view_name": "LayoutView",
            "align_content": null,
            "align_items": null,
            "align_self": null,
            "border": null,
            "bottom": null,
            "display": null,
            "flex": null,
            "flex_flow": null,
            "grid_area": null,
            "grid_auto_columns": null,
            "grid_auto_flow": null,
            "grid_auto_rows": null,
            "grid_column": null,
            "grid_gap": null,
            "grid_row": null,
            "grid_template_areas": null,
            "grid_template_columns": null,
            "grid_template_rows": null,
            "height": null,
            "justify_content": null,
            "justify_items": null,
            "left": null,
            "margin": null,
            "max_height": null,
            "max_width": null,
            "min_height": null,
            "min_width": null,
            "object_fit": null,
            "object_position": null,
            "order": null,
            "overflow": null,
            "overflow_x": null,
            "overflow_y": null,
            "padding": null,
            "right": null,
            "top": null,
            "visibility": null,
            "width": null
          }
        },
        "c613f76c2c7e4102b3ea098639c42c91": {
          "model_module": "@jupyter-widgets/controls",
          "model_name": "DescriptionStyleModel",
          "model_module_version": "1.5.0",
          "state": {
            "_model_module": "@jupyter-widgets/controls",
            "_model_module_version": "1.5.0",
            "_model_name": "DescriptionStyleModel",
            "_view_count": null,
            "_view_module": "@jupyter-widgets/base",
            "_view_module_version": "1.2.0",
            "_view_name": "StyleView",
            "description_width": ""
          }
        },
        "e5962947458f44129b11b3ca79f2c0ee": {
          "model_module": "@jupyter-widgets/controls",
          "model_name": "HBoxModel",
          "model_module_version": "1.5.0",
          "state": {
            "_dom_classes": [],
            "_model_module": "@jupyter-widgets/controls",
            "_model_module_version": "1.5.0",
            "_model_name": "HBoxModel",
            "_view_count": null,
            "_view_module": "@jupyter-widgets/controls",
            "_view_module_version": "1.5.0",
            "_view_name": "HBoxView",
            "box_style": "",
            "children": [
              "IPY_MODEL_f8cf5a5a5cb94747a9f6f821f39c2a41",
              "IPY_MODEL_f4a443de8eef4c17b8cf186f050775ca",
              "IPY_MODEL_ff8995f677324f47831b5019af4785e4"
            ],
            "layout": "IPY_MODEL_82a3dffd3ae344acba037812630f23d8"
          }
        },
        "f8cf5a5a5cb94747a9f6f821f39c2a41": {
          "model_module": "@jupyter-widgets/controls",
          "model_name": "HTMLModel",
          "model_module_version": "1.5.0",
          "state": {
            "_dom_classes": [],
            "_model_module": "@jupyter-widgets/controls",
            "_model_module_version": "1.5.0",
            "_model_name": "HTMLModel",
            "_view_count": null,
            "_view_module": "@jupyter-widgets/controls",
            "_view_module_version": "1.5.0",
            "_view_name": "HTMLView",
            "description": "",
            "description_tooltip": null,
            "layout": "IPY_MODEL_92f67721dff04381bb93df6cf5e39fb0",
            "placeholder": "​",
            "style": "IPY_MODEL_44c13480f61640af8feb7a7b117133a1",
            "value": "100%"
          }
        },
        "f4a443de8eef4c17b8cf186f050775ca": {
          "model_module": "@jupyter-widgets/controls",
          "model_name": "FloatProgressModel",
          "model_module_version": "1.5.0",
          "state": {
            "_dom_classes": [],
            "_model_module": "@jupyter-widgets/controls",
            "_model_module_version": "1.5.0",
            "_model_name": "FloatProgressModel",
            "_view_count": null,
            "_view_module": "@jupyter-widgets/controls",
            "_view_module_version": "1.5.0",
            "_view_name": "ProgressView",
            "bar_style": "success",
            "description": "",
            "description_tooltip": null,
            "layout": "IPY_MODEL_a65c0a471ba64406ab821668a60e6d12",
            "max": 4422102,
            "min": 0,
            "orientation": "horizontal",
            "style": "IPY_MODEL_044af44ce2d64a219916bd2b8b0a113d",
            "value": 4422102
          }
        },
        "ff8995f677324f47831b5019af4785e4": {
          "model_module": "@jupyter-widgets/controls",
          "model_name": "HTMLModel",
          "model_module_version": "1.5.0",
          "state": {
            "_dom_classes": [],
            "_model_module": "@jupyter-widgets/controls",
            "_model_module_version": "1.5.0",
            "_model_name": "HTMLModel",
            "_view_count": null,
            "_view_module": "@jupyter-widgets/controls",
            "_view_module_version": "1.5.0",
            "_view_name": "HTMLView",
            "description": "",
            "description_tooltip": null,
            "layout": "IPY_MODEL_cf3b22c43480460e98581c100a174060",
            "placeholder": "​",
            "style": "IPY_MODEL_9226bea982144f3ba8cbb4b72702c6a0",
            "value": " 4422102/4422102 [00:00&lt;00:00, 61637472.73it/s]"
          }
        },
        "82a3dffd3ae344acba037812630f23d8": {
          "model_module": "@jupyter-widgets/base",
          "model_name": "LayoutModel",
          "model_module_version": "1.2.0",
          "state": {
            "_model_module": "@jupyter-widgets/base",
            "_model_module_version": "1.2.0",
            "_model_name": "LayoutModel",
            "_view_count": null,
            "_view_module": "@jupyter-widgets/base",
            "_view_module_version": "1.2.0",
            "_view_name": "LayoutView",
            "align_content": null,
            "align_items": null,
            "align_self": null,
            "border": null,
            "bottom": null,
            "display": null,
            "flex": null,
            "flex_flow": null,
            "grid_area": null,
            "grid_auto_columns": null,
            "grid_auto_flow": null,
            "grid_auto_rows": null,
            "grid_column": null,
            "grid_gap": null,
            "grid_row": null,
            "grid_template_areas": null,
            "grid_template_columns": null,
            "grid_template_rows": null,
            "height": null,
            "justify_content": null,
            "justify_items": null,
            "left": null,
            "margin": null,
            "max_height": null,
            "max_width": null,
            "min_height": null,
            "min_width": null,
            "object_fit": null,
            "object_position": null,
            "order": null,
            "overflow": null,
            "overflow_x": null,
            "overflow_y": null,
            "padding": null,
            "right": null,
            "top": null,
            "visibility": null,
            "width": null
          }
        },
        "92f67721dff04381bb93df6cf5e39fb0": {
          "model_module": "@jupyter-widgets/base",
          "model_name": "LayoutModel",
          "model_module_version": "1.2.0",
          "state": {
            "_model_module": "@jupyter-widgets/base",
            "_model_module_version": "1.2.0",
            "_model_name": "LayoutModel",
            "_view_count": null,
            "_view_module": "@jupyter-widgets/base",
            "_view_module_version": "1.2.0",
            "_view_name": "LayoutView",
            "align_content": null,
            "align_items": null,
            "align_self": null,
            "border": null,
            "bottom": null,
            "display": null,
            "flex": null,
            "flex_flow": null,
            "grid_area": null,
            "grid_auto_columns": null,
            "grid_auto_flow": null,
            "grid_auto_rows": null,
            "grid_column": null,
            "grid_gap": null,
            "grid_row": null,
            "grid_template_areas": null,
            "grid_template_columns": null,
            "grid_template_rows": null,
            "height": null,
            "justify_content": null,
            "justify_items": null,
            "left": null,
            "margin": null,
            "max_height": null,
            "max_width": null,
            "min_height": null,
            "min_width": null,
            "object_fit": null,
            "object_position": null,
            "order": null,
            "overflow": null,
            "overflow_x": null,
            "overflow_y": null,
            "padding": null,
            "right": null,
            "top": null,
            "visibility": null,
            "width": null
          }
        },
        "44c13480f61640af8feb7a7b117133a1": {
          "model_module": "@jupyter-widgets/controls",
          "model_name": "DescriptionStyleModel",
          "model_module_version": "1.5.0",
          "state": {
            "_model_module": "@jupyter-widgets/controls",
            "_model_module_version": "1.5.0",
            "_model_name": "DescriptionStyleModel",
            "_view_count": null,
            "_view_module": "@jupyter-widgets/base",
            "_view_module_version": "1.2.0",
            "_view_name": "StyleView",
            "description_width": ""
          }
        },
        "a65c0a471ba64406ab821668a60e6d12": {
          "model_module": "@jupyter-widgets/base",
          "model_name": "LayoutModel",
          "model_module_version": "1.2.0",
          "state": {
            "_model_module": "@jupyter-widgets/base",
            "_model_module_version": "1.2.0",
            "_model_name": "LayoutModel",
            "_view_count": null,
            "_view_module": "@jupyter-widgets/base",
            "_view_module_version": "1.2.0",
            "_view_name": "LayoutView",
            "align_content": null,
            "align_items": null,
            "align_self": null,
            "border": null,
            "bottom": null,
            "display": null,
            "flex": null,
            "flex_flow": null,
            "grid_area": null,
            "grid_auto_columns": null,
            "grid_auto_flow": null,
            "grid_auto_rows": null,
            "grid_column": null,
            "grid_gap": null,
            "grid_row": null,
            "grid_template_areas": null,
            "grid_template_columns": null,
            "grid_template_rows": null,
            "height": null,
            "justify_content": null,
            "justify_items": null,
            "left": null,
            "margin": null,
            "max_height": null,
            "max_width": null,
            "min_height": null,
            "min_width": null,
            "object_fit": null,
            "object_position": null,
            "order": null,
            "overflow": null,
            "overflow_x": null,
            "overflow_y": null,
            "padding": null,
            "right": null,
            "top": null,
            "visibility": null,
            "width": null
          }
        },
        "044af44ce2d64a219916bd2b8b0a113d": {
          "model_module": "@jupyter-widgets/controls",
          "model_name": "ProgressStyleModel",
          "model_module_version": "1.5.0",
          "state": {
            "_model_module": "@jupyter-widgets/controls",
            "_model_module_version": "1.5.0",
            "_model_name": "ProgressStyleModel",
            "_view_count": null,
            "_view_module": "@jupyter-widgets/base",
            "_view_module_version": "1.2.0",
            "_view_name": "StyleView",
            "bar_color": null,
            "description_width": ""
          }
        },
        "cf3b22c43480460e98581c100a174060": {
          "model_module": "@jupyter-widgets/base",
          "model_name": "LayoutModel",
          "model_module_version": "1.2.0",
          "state": {
            "_model_module": "@jupyter-widgets/base",
            "_model_module_version": "1.2.0",
            "_model_name": "LayoutModel",
            "_view_count": null,
            "_view_module": "@jupyter-widgets/base",
            "_view_module_version": "1.2.0",
            "_view_name": "LayoutView",
            "align_content": null,
            "align_items": null,
            "align_self": null,
            "border": null,
            "bottom": null,
            "display": null,
            "flex": null,
            "flex_flow": null,
            "grid_area": null,
            "grid_auto_columns": null,
            "grid_auto_flow": null,
            "grid_auto_rows": null,
            "grid_column": null,
            "grid_gap": null,
            "grid_row": null,
            "grid_template_areas": null,
            "grid_template_columns": null,
            "grid_template_rows": null,
            "height": null,
            "justify_content": null,
            "justify_items": null,
            "left": null,
            "margin": null,
            "max_height": null,
            "max_width": null,
            "min_height": null,
            "min_width": null,
            "object_fit": null,
            "object_position": null,
            "order": null,
            "overflow": null,
            "overflow_x": null,
            "overflow_y": null,
            "padding": null,
            "right": null,
            "top": null,
            "visibility": null,
            "width": null
          }
        },
        "9226bea982144f3ba8cbb4b72702c6a0": {
          "model_module": "@jupyter-widgets/controls",
          "model_name": "DescriptionStyleModel",
          "model_module_version": "1.5.0",
          "state": {
            "_model_module": "@jupyter-widgets/controls",
            "_model_module_version": "1.5.0",
            "_model_name": "DescriptionStyleModel",
            "_view_count": null,
            "_view_module": "@jupyter-widgets/base",
            "_view_module_version": "1.2.0",
            "_view_name": "StyleView",
            "description_width": ""
          }
        },
        "950c76062fd049658f3446646d971e2d": {
          "model_module": "@jupyter-widgets/controls",
          "model_name": "HBoxModel",
          "model_module_version": "1.5.0",
          "state": {
            "_dom_classes": [],
            "_model_module": "@jupyter-widgets/controls",
            "_model_module_version": "1.5.0",
            "_model_name": "HBoxModel",
            "_view_count": null,
            "_view_module": "@jupyter-widgets/controls",
            "_view_module_version": "1.5.0",
            "_view_name": "HBoxView",
            "box_style": "",
            "children": [
              "IPY_MODEL_d9527f7fd7f449ac997bd353297e4e63",
              "IPY_MODEL_135e4b4df4d144f68d1e6ebc5acc4c16",
              "IPY_MODEL_7af5524480fa4a6591e6a51da1739a5b"
            ],
            "layout": "IPY_MODEL_125677a564b046849ef4e6cd8a317901"
          }
        },
        "d9527f7fd7f449ac997bd353297e4e63": {
          "model_module": "@jupyter-widgets/controls",
          "model_name": "HTMLModel",
          "model_module_version": "1.5.0",
          "state": {
            "_dom_classes": [],
            "_model_module": "@jupyter-widgets/controls",
            "_model_module_version": "1.5.0",
            "_model_name": "HTMLModel",
            "_view_count": null,
            "_view_module": "@jupyter-widgets/controls",
            "_view_module_version": "1.5.0",
            "_view_name": "HTMLView",
            "description": "",
            "description_tooltip": null,
            "layout": "IPY_MODEL_fd01846dfcca4a9fbd58e8f4cdf164ff",
            "placeholder": "​",
            "style": "IPY_MODEL_35daeb359ff54bc48f4d77a01761cd3b",
            "value": "100%"
          }
        },
        "135e4b4df4d144f68d1e6ebc5acc4c16": {
          "model_module": "@jupyter-widgets/controls",
          "model_name": "FloatProgressModel",
          "model_module_version": "1.5.0",
          "state": {
            "_dom_classes": [],
            "_model_module": "@jupyter-widgets/controls",
            "_model_module_version": "1.5.0",
            "_model_name": "FloatProgressModel",
            "_view_count": null,
            "_view_module": "@jupyter-widgets/controls",
            "_view_module_version": "1.5.0",
            "_view_name": "ProgressView",
            "bar_style": "success",
            "description": "",
            "description_tooltip": null,
            "layout": "IPY_MODEL_3eb8c32224e54f3ab98338aaebfcf6c9",
            "max": 5148,
            "min": 0,
            "orientation": "horizontal",
            "style": "IPY_MODEL_283d8c9c88b04a00b178656303275b9f",
            "value": 5148
          }
        },
        "7af5524480fa4a6591e6a51da1739a5b": {
          "model_module": "@jupyter-widgets/controls",
          "model_name": "HTMLModel",
          "model_module_version": "1.5.0",
          "state": {
            "_dom_classes": [],
            "_model_module": "@jupyter-widgets/controls",
            "_model_module_version": "1.5.0",
            "_model_name": "HTMLModel",
            "_view_count": null,
            "_view_module": "@jupyter-widgets/controls",
            "_view_module_version": "1.5.0",
            "_view_name": "HTMLView",
            "description": "",
            "description_tooltip": null,
            "layout": "IPY_MODEL_6b6ce28be7b646c2a49067404a692d41",
            "placeholder": "​",
            "style": "IPY_MODEL_b44dc678a49d412e980010ece3c135d0",
            "value": " 5148/5148 [00:00&lt;00:00, 180573.67it/s]"
          }
        },
        "125677a564b046849ef4e6cd8a317901": {
          "model_module": "@jupyter-widgets/base",
          "model_name": "LayoutModel",
          "model_module_version": "1.2.0",
          "state": {
            "_model_module": "@jupyter-widgets/base",
            "_model_module_version": "1.2.0",
            "_model_name": "LayoutModel",
            "_view_count": null,
            "_view_module": "@jupyter-widgets/base",
            "_view_module_version": "1.2.0",
            "_view_name": "LayoutView",
            "align_content": null,
            "align_items": null,
            "align_self": null,
            "border": null,
            "bottom": null,
            "display": null,
            "flex": null,
            "flex_flow": null,
            "grid_area": null,
            "grid_auto_columns": null,
            "grid_auto_flow": null,
            "grid_auto_rows": null,
            "grid_column": null,
            "grid_gap": null,
            "grid_row": null,
            "grid_template_areas": null,
            "grid_template_columns": null,
            "grid_template_rows": null,
            "height": null,
            "justify_content": null,
            "justify_items": null,
            "left": null,
            "margin": null,
            "max_height": null,
            "max_width": null,
            "min_height": null,
            "min_width": null,
            "object_fit": null,
            "object_position": null,
            "order": null,
            "overflow": null,
            "overflow_x": null,
            "overflow_y": null,
            "padding": null,
            "right": null,
            "top": null,
            "visibility": null,
            "width": null
          }
        },
        "fd01846dfcca4a9fbd58e8f4cdf164ff": {
          "model_module": "@jupyter-widgets/base",
          "model_name": "LayoutModel",
          "model_module_version": "1.2.0",
          "state": {
            "_model_module": "@jupyter-widgets/base",
            "_model_module_version": "1.2.0",
            "_model_name": "LayoutModel",
            "_view_count": null,
            "_view_module": "@jupyter-widgets/base",
            "_view_module_version": "1.2.0",
            "_view_name": "LayoutView",
            "align_content": null,
            "align_items": null,
            "align_self": null,
            "border": null,
            "bottom": null,
            "display": null,
            "flex": null,
            "flex_flow": null,
            "grid_area": null,
            "grid_auto_columns": null,
            "grid_auto_flow": null,
            "grid_auto_rows": null,
            "grid_column": null,
            "grid_gap": null,
            "grid_row": null,
            "grid_template_areas": null,
            "grid_template_columns": null,
            "grid_template_rows": null,
            "height": null,
            "justify_content": null,
            "justify_items": null,
            "left": null,
            "margin": null,
            "max_height": null,
            "max_width": null,
            "min_height": null,
            "min_width": null,
            "object_fit": null,
            "object_position": null,
            "order": null,
            "overflow": null,
            "overflow_x": null,
            "overflow_y": null,
            "padding": null,
            "right": null,
            "top": null,
            "visibility": null,
            "width": null
          }
        },
        "35daeb359ff54bc48f4d77a01761cd3b": {
          "model_module": "@jupyter-widgets/controls",
          "model_name": "DescriptionStyleModel",
          "model_module_version": "1.5.0",
          "state": {
            "_model_module": "@jupyter-widgets/controls",
            "_model_module_version": "1.5.0",
            "_model_name": "DescriptionStyleModel",
            "_view_count": null,
            "_view_module": "@jupyter-widgets/base",
            "_view_module_version": "1.2.0",
            "_view_name": "StyleView",
            "description_width": ""
          }
        },
        "3eb8c32224e54f3ab98338aaebfcf6c9": {
          "model_module": "@jupyter-widgets/base",
          "model_name": "LayoutModel",
          "model_module_version": "1.2.0",
          "state": {
            "_model_module": "@jupyter-widgets/base",
            "_model_module_version": "1.2.0",
            "_model_name": "LayoutModel",
            "_view_count": null,
            "_view_module": "@jupyter-widgets/base",
            "_view_module_version": "1.2.0",
            "_view_name": "LayoutView",
            "align_content": null,
            "align_items": null,
            "align_self": null,
            "border": null,
            "bottom": null,
            "display": null,
            "flex": null,
            "flex_flow": null,
            "grid_area": null,
            "grid_auto_columns": null,
            "grid_auto_flow": null,
            "grid_auto_rows": null,
            "grid_column": null,
            "grid_gap": null,
            "grid_row": null,
            "grid_template_areas": null,
            "grid_template_columns": null,
            "grid_template_rows": null,
            "height": null,
            "justify_content": null,
            "justify_items": null,
            "left": null,
            "margin": null,
            "max_height": null,
            "max_width": null,
            "min_height": null,
            "min_width": null,
            "object_fit": null,
            "object_position": null,
            "order": null,
            "overflow": null,
            "overflow_x": null,
            "overflow_y": null,
            "padding": null,
            "right": null,
            "top": null,
            "visibility": null,
            "width": null
          }
        },
        "283d8c9c88b04a00b178656303275b9f": {
          "model_module": "@jupyter-widgets/controls",
          "model_name": "ProgressStyleModel",
          "model_module_version": "1.5.0",
          "state": {
            "_model_module": "@jupyter-widgets/controls",
            "_model_module_version": "1.5.0",
            "_model_name": "ProgressStyleModel",
            "_view_count": null,
            "_view_module": "@jupyter-widgets/base",
            "_view_module_version": "1.2.0",
            "_view_name": "StyleView",
            "bar_color": null,
            "description_width": ""
          }
        },
        "6b6ce28be7b646c2a49067404a692d41": {
          "model_module": "@jupyter-widgets/base",
          "model_name": "LayoutModel",
          "model_module_version": "1.2.0",
          "state": {
            "_model_module": "@jupyter-widgets/base",
            "_model_module_version": "1.2.0",
            "_model_name": "LayoutModel",
            "_view_count": null,
            "_view_module": "@jupyter-widgets/base",
            "_view_module_version": "1.2.0",
            "_view_name": "LayoutView",
            "align_content": null,
            "align_items": null,
            "align_self": null,
            "border": null,
            "bottom": null,
            "display": null,
            "flex": null,
            "flex_flow": null,
            "grid_area": null,
            "grid_auto_columns": null,
            "grid_auto_flow": null,
            "grid_auto_rows": null,
            "grid_column": null,
            "grid_gap": null,
            "grid_row": null,
            "grid_template_areas": null,
            "grid_template_columns": null,
            "grid_template_rows": null,
            "height": null,
            "justify_content": null,
            "justify_items": null,
            "left": null,
            "margin": null,
            "max_height": null,
            "max_width": null,
            "min_height": null,
            "min_width": null,
            "object_fit": null,
            "object_position": null,
            "order": null,
            "overflow": null,
            "overflow_x": null,
            "overflow_y": null,
            "padding": null,
            "right": null,
            "top": null,
            "visibility": null,
            "width": null
          }
        },
        "b44dc678a49d412e980010ece3c135d0": {
          "model_module": "@jupyter-widgets/controls",
          "model_name": "DescriptionStyleModel",
          "model_module_version": "1.5.0",
          "state": {
            "_model_module": "@jupyter-widgets/controls",
            "_model_module_version": "1.5.0",
            "_model_name": "DescriptionStyleModel",
            "_view_count": null,
            "_view_module": "@jupyter-widgets/base",
            "_view_module_version": "1.2.0",
            "_view_name": "StyleView",
            "description_width": ""
          }
        }
      }
    }
  },
  "nbformat": 4,
  "nbformat_minor": 0
}