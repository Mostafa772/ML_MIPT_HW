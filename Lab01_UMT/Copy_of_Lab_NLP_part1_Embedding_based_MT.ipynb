{
 "cells": [
  {
   "cell_type": "markdown",
   "metadata": {
    "id": "eulvfJWl7ueY"
   },
   "source": [
    "# Lab 1\n",
    "\n",
    "\n",
    "## Part 1: Bilingual dictionary induction and unsupervised embedding-based MT (30%)\n",
    "*Note: this homework is based on materials from yandexdataschool [NLP course](https://github.com/yandexdataschool/nlp_course/). Feel free to check this awesome course if you wish to dig deeper.*\n",
    "\n",
    "*Refined by [Nikolay Karpachev](https://www.linkedin.com/in/nikolay-karpachev-b0146a104/), [Valery Marchenkov](https://www.linkedin.com/in/vmarchenkoff/)*"
   ]
  },
  {
   "cell_type": "code",
   "execution_count": 2,
   "outputs": [],
   "source": [
    "import numpy as np\n",
    "import pandas as pd\n",
    "\n",
    "import scipy.stats as sts\n",
    "\n",
    "import matplotlib.pyplot as plt\n",
    "import seaborn as sns\n",
    "\n",
    "from typing import Union, Callable, Tuple"
   ],
   "metadata": {
    "collapsed": false,
    "ExecuteTime": {
     "end_time": "2023-05-29T16:35:26.634653455Z",
     "start_time": "2023-05-29T16:35:26.630364855Z"
    }
   }
  },
  {
   "cell_type": "markdown",
   "metadata": {
    "id": "fV4rIjxa7uei"
   },
   "source": [
    "**In this homework** **<font color='red'>YOU</font>** will make machine translation system without using parallel corpora, alignment, attention, 100500 depth super-cool recurrent neural network and all that kind superstuff.\n",
    "\n",
    "But even without parallel corpora this system can be good enough (hopefully), in particular for similar languages."
   ]
  },
  {
   "cell_type": "markdown",
   "metadata": {
    "id": "idSYq2GU7uew"
   },
   "source": [
    "### Frament of the Swadesh list for some slavic languages\n",
    "\n",
    "The Swadesh list is a lexicostatistical stuff. It's named after American linguist Morris Swadesh and contains basic lexis. This list are used to define subgroupings of languages, its relatedness.\n",
    "\n",
    "So we can see some kind of word invariance for different Slavic languages.\n",
    "\n",
    "\n",
    "| Russian         | Belorussian              | Ukrainian               | Polish             | Czech                         | Bulgarian            |\n",
    "|-----------------|--------------------------|-------------------------|--------------------|-------------------------------|-----------------------|\n",
    "| женщина         | жанчына, кабета, баба    | жінка                   | kobieta            | žena                          | жена                  |\n",
    "| мужчина         | мужчына                  | чоловік, мужчина        | mężczyzna          | muž                           | мъж                   |\n",
    "| человек         | чалавек                  | людина, чоловік         | człowiek           | člověk                        | човек                 |\n",
    "| ребёнок, дитя   | дзіця, дзіцёнак, немаўля | дитина, дитя            | dziecko            | dítě                          | дете                  |\n",
    "| жена            | жонка                    | дружина, жінка          | żona               | žena, manželka, choť          | съпруга, жена         |\n",
    "| муж             | муж, гаспадар            | чоловiк, муж            | mąż                | muž, manžel, choť             | съпруг, мъж           |\n",
    "| мать, мама      | маці, матка              | мати, матір, неня, мама | matka              | matka, máma, 'стар.' mateř    | майка                 |\n",
    "| отец, тятя      | бацька, тата             | батько, тато, татусь    | ojciec             | otec                          | баща, татко           |\n",
    "| много           | шмат, багата             | багато                  | wiele              | mnoho, hodně                  | много                 |\n",
    "| несколько       | некалькі, колькі         | декілька, кілька        | kilka              | několik, pár, trocha          | няколко               |\n",
    "| другой, иной    | іншы                     | інший                   | inny               | druhý, jiný                   | друг                  |\n",
    "| зверь, животное | жывёла, звер, істота     | тварина, звір           | zwierzę            | zvíře                         | животно               |\n",
    "| рыба            | рыба                     | риба                    | ryba               | ryba                          | риба                  |\n",
    "| птица           | птушка                   | птах, птиця             | ptak               | pták                          | птица                 |\n",
    "| собака, пёс     | сабака                   | собака, пес             | pies               | pes                           | куче, пес             |\n",
    "| вошь            | вош                      | воша                    | wesz               | veš                           | въшка                 |\n",
    "| змея, гад       | змяя                     | змія, гад               | wąż                | had                           | змия                  |\n",
    "| червь, червяк   | чарвяк                   | хробак, черв'як         | robak              | červ                          | червей                |\n",
    "| дерево          | дрэва                    | дерево                  | drzewo             | strom, dřevo                  | дърво                 |\n",
    "| лес             | лес                      | ліс                     | las                | les                           | гора, лес             |\n",
    "| палка           | кій, палка               | палиця                  | patyk, pręt, pałka | hůl, klacek, prut, kůl, pálka | палка, пръчка, бастун |"
   ]
  },
  {
   "cell_type": "markdown",
   "metadata": {
    "id": "cNM3_fjr7ue2"
   },
   "source": [
    "But the context distribution of these languages demonstrates even more invariance. And we can use this fact for our for our purposes."
   ]
  },
  {
   "cell_type": "markdown",
   "metadata": {
    "id": "YLppwa527ue6"
   },
   "source": [
    "## Data"
   ]
  },
  {
   "cell_type": "markdown",
   "metadata": {
    "id": "MwGoVhRA7ufP"
   },
   "source": [
    "In this notebook we're going to use pretrained word vectors - FastText (original paper - https://arxiv.org/abs/1607.04606).\n",
    "\n",
    "You can download them from the official [website](https://fasttext.cc/docs/en/crawl-vectors.html). We're going to need embeddings for English and French languages."
   ]
  },
  {
   "cell_type": "code",
   "execution_count": null,
   "metadata": {
    "colab": {
     "background_save": true,
     "base_uri": "https://localhost:8080/"
    },
    "id": "KV2-MpR-ugq-",
    "outputId": "72c2352d-3f7d-4225-d925-067f5b94fe72",
    "ExecuteTime": {
     "start_time": "2023-05-29T15:52:44.576766320Z"
    }
   },
   "outputs": [
    {
     "name": "stdout",
     "output_type": "stream",
     "text": [
      "--2023-05-29 18:52:44--  https://dl.fbaipublicfiles.com/fasttext/vectors-crawl/cc.en.300.vec.gz\r\n",
      "Resolving dl.fbaipublicfiles.com (dl.fbaipublicfiles.com)... 108.156.22.118, 108.156.22.45, 108.156.22.105, ...\r\n",
      "Connecting to dl.fbaipublicfiles.com (dl.fbaipublicfiles.com)|108.156.22.118|:443... connected.\r\n",
      "HTTP request sent, awaiting response... 200 OK\r\n",
      "Length: 1325960915 (1.2G) [binary/octet-stream]\r\n",
      "Saving to: ‘cc.en.300.vec.gz’\r\n",
      "\r\n",
      "cc.en.300.vec.gz     24%[===>                ] 304.59M  2.79MB/s    eta 3m 58s ^C\r\n",
      "gzip: cc.en.300.vec already exists; do you wish to overwrite (y or n)? "
     ]
    }
   ],
   "source": [
    "# !wget -nc https://dl.fbaipublicfiles.com/fasttext/vectors-crawl/cc.en.300.vec.gz\n",
    "# !gzip -d cc.en.300.vec.gz\n",
    "#\n",
    "# !wget -nc https://dl.fbaipublicfiles.com/fasttext/vectors-crawl/cc.fr.300.vec.gz\n",
    "# !gzip -d cc.fr.300.vec.gz"
   ]
  },
  {
   "cell_type": "markdown",
   "metadata": {
    "id": "Kwg26PKLv88U"
   },
   "source": [
    "After downloading and extracting the vectors, we should be able to load them using the [gensim](https://radimrehurek.com/gensim/) library:"
   ]
  },
  {
   "cell_type": "code",
   "execution_count": 1,
   "metadata": {
    "id": "u1JjQv_97ufT",
    "ExecuteTime": {
     "end_time": "2023-05-29T16:35:26.633189101Z",
     "start_time": "2023-05-29T16:27:51.862691965Z"
    }
   },
   "outputs": [],
   "source": [
    "from gensim.models import KeyedVectors\n",
    "import numpy as np\n",
    "\n",
    "\n",
    "en_emb = KeyedVectors.load_word2vec_format(\"cc.en.300.vec\")\n",
    "fr_emb = KeyedVectors.load_word2vec_format(\"cc.fr.300.vec\")"
   ]
  },
  {
   "cell_type": "markdown",
   "metadata": {
    "id": "Sqb_XJhkMyHM",
    "ExecuteTime": {
     "end_time": "2023-05-25T22:09:38.361722853Z",
     "start_time": "2023-05-25T22:08:07.349958336Z"
    }
   },
   "source": [
    "Once you've loaded the vectors, you can use the `KeyedVectors` interface to get word embeddings and/or query most similar words by embedding:"
   ],
   "outputs": [
    {
     "ename": "KeyboardInterrupt",
     "evalue": "",
     "output_type": "error",
     "traceback": [
      "\u001B[0;31m---------------------------------------------------------------------------\u001B[0m",
      "\u001B[0;31mKeyboardInterrupt\u001B[0m                         Traceback (most recent call last)",
      "Cell \u001B[0;32mIn[2], line 5\u001B[0m\n\u001B[1;32m      1\u001B[0m \u001B[38;5;28;01mfrom\u001B[39;00m \u001B[38;5;21;01mgensim\u001B[39;00m\u001B[38;5;21;01m.\u001B[39;00m\u001B[38;5;21;01mmodels\u001B[39;00m \u001B[38;5;28;01mimport\u001B[39;00m KeyedVectors\n\u001B[1;32m      2\u001B[0m \u001B[38;5;28;01mimport\u001B[39;00m \u001B[38;5;21;01mnumpy\u001B[39;00m \u001B[38;5;28;01mas\u001B[39;00m \u001B[38;5;21;01mnp\u001B[39;00m\n\u001B[0;32m----> 5\u001B[0m en_emb \u001B[38;5;241m=\u001B[39m \u001B[43mKeyedVectors\u001B[49m\u001B[38;5;241;43m.\u001B[39;49m\u001B[43mload_word2vec_format\u001B[49m\u001B[43m(\u001B[49m\u001B[38;5;124;43m\"\u001B[39;49m\u001B[38;5;124;43mcc.en.300.vec\u001B[39;49m\u001B[38;5;124;43m\"\u001B[39;49m\u001B[43m)\u001B[49m\n\u001B[1;32m      6\u001B[0m fr_emb \u001B[38;5;241m=\u001B[39m KeyedVectors\u001B[38;5;241m.\u001B[39mload_word2vec_format(\u001B[38;5;124m\"\u001B[39m\u001B[38;5;124mcc.fr.300.vec\u001B[39m\u001B[38;5;124m\"\u001B[39m)\n",
      "File \u001B[0;32m~/.local/lib/python3.10/site-packages/gensim/models/keyedvectors.py:1719\u001B[0m, in \u001B[0;36mKeyedVectors.load_word2vec_format\u001B[0;34m(cls, fname, fvocab, binary, encoding, unicode_errors, limit, datatype, no_header)\u001B[0m\n\u001B[1;32m   1672\u001B[0m \u001B[38;5;129m@classmethod\u001B[39m\n\u001B[1;32m   1673\u001B[0m \u001B[38;5;28;01mdef\u001B[39;00m \u001B[38;5;21mload_word2vec_format\u001B[39m(\n\u001B[1;32m   1674\u001B[0m         \u001B[38;5;28mcls\u001B[39m, fname, fvocab\u001B[38;5;241m=\u001B[39m\u001B[38;5;28;01mNone\u001B[39;00m, binary\u001B[38;5;241m=\u001B[39m\u001B[38;5;28;01mFalse\u001B[39;00m, encoding\u001B[38;5;241m=\u001B[39m\u001B[38;5;124m'\u001B[39m\u001B[38;5;124mutf8\u001B[39m\u001B[38;5;124m'\u001B[39m, unicode_errors\u001B[38;5;241m=\u001B[39m\u001B[38;5;124m'\u001B[39m\u001B[38;5;124mstrict\u001B[39m\u001B[38;5;124m'\u001B[39m,\n\u001B[1;32m   1675\u001B[0m         limit\u001B[38;5;241m=\u001B[39m\u001B[38;5;28;01mNone\u001B[39;00m, datatype\u001B[38;5;241m=\u001B[39mREAL, no_header\u001B[38;5;241m=\u001B[39m\u001B[38;5;28;01mFalse\u001B[39;00m,\n\u001B[1;32m   1676\u001B[0m     ):\n\u001B[1;32m   1677\u001B[0m \u001B[38;5;250m    \u001B[39m\u001B[38;5;124;03m\"\"\"Load KeyedVectors from a file produced by the original C word2vec-tool format.\u001B[39;00m\n\u001B[1;32m   1678\u001B[0m \n\u001B[1;32m   1679\u001B[0m \u001B[38;5;124;03m    Warnings\u001B[39;00m\n\u001B[0;32m   (...)\u001B[0m\n\u001B[1;32m   1717\u001B[0m \n\u001B[1;32m   1718\u001B[0m \u001B[38;5;124;03m    \"\"\"\u001B[39;00m\n\u001B[0;32m-> 1719\u001B[0m     \u001B[38;5;28;01mreturn\u001B[39;00m \u001B[43m_load_word2vec_format\u001B[49m\u001B[43m(\u001B[49m\n\u001B[1;32m   1720\u001B[0m \u001B[43m        \u001B[49m\u001B[38;5;28;43mcls\u001B[39;49m\u001B[43m,\u001B[49m\u001B[43m \u001B[49m\u001B[43mfname\u001B[49m\u001B[43m,\u001B[49m\u001B[43m \u001B[49m\u001B[43mfvocab\u001B[49m\u001B[38;5;241;43m=\u001B[39;49m\u001B[43mfvocab\u001B[49m\u001B[43m,\u001B[49m\u001B[43m \u001B[49m\u001B[43mbinary\u001B[49m\u001B[38;5;241;43m=\u001B[39;49m\u001B[43mbinary\u001B[49m\u001B[43m,\u001B[49m\u001B[43m \u001B[49m\u001B[43mencoding\u001B[49m\u001B[38;5;241;43m=\u001B[39;49m\u001B[43mencoding\u001B[49m\u001B[43m,\u001B[49m\u001B[43m \u001B[49m\u001B[43municode_errors\u001B[49m\u001B[38;5;241;43m=\u001B[39;49m\u001B[43municode_errors\u001B[49m\u001B[43m,\u001B[49m\n\u001B[1;32m   1721\u001B[0m \u001B[43m        \u001B[49m\u001B[43mlimit\u001B[49m\u001B[38;5;241;43m=\u001B[39;49m\u001B[43mlimit\u001B[49m\u001B[43m,\u001B[49m\u001B[43m \u001B[49m\u001B[43mdatatype\u001B[49m\u001B[38;5;241;43m=\u001B[39;49m\u001B[43mdatatype\u001B[49m\u001B[43m,\u001B[49m\u001B[43m \u001B[49m\u001B[43mno_header\u001B[49m\u001B[38;5;241;43m=\u001B[39;49m\u001B[43mno_header\u001B[49m\u001B[43m,\u001B[49m\n\u001B[1;32m   1722\u001B[0m \u001B[43m    \u001B[49m\u001B[43m)\u001B[49m\n",
      "File \u001B[0;32m~/.local/lib/python3.10/site-packages/gensim/models/keyedvectors.py:2069\u001B[0m, in \u001B[0;36m_load_word2vec_format\u001B[0;34m(cls, fname, fvocab, binary, encoding, unicode_errors, limit, datatype, no_header, binary_chunk_size)\u001B[0m\n\u001B[1;32m   2065\u001B[0m         _word2vec_read_binary(\n\u001B[1;32m   2066\u001B[0m             fin, kv, counts, vocab_size, vector_size, datatype, unicode_errors, binary_chunk_size, encoding\n\u001B[1;32m   2067\u001B[0m         )\n\u001B[1;32m   2068\u001B[0m     \u001B[38;5;28;01melse\u001B[39;00m:\n\u001B[0;32m-> 2069\u001B[0m         \u001B[43m_word2vec_read_text\u001B[49m\u001B[43m(\u001B[49m\u001B[43mfin\u001B[49m\u001B[43m,\u001B[49m\u001B[43m \u001B[49m\u001B[43mkv\u001B[49m\u001B[43m,\u001B[49m\u001B[43m \u001B[49m\u001B[43mcounts\u001B[49m\u001B[43m,\u001B[49m\u001B[43m \u001B[49m\u001B[43mvocab_size\u001B[49m\u001B[43m,\u001B[49m\u001B[43m \u001B[49m\u001B[43mvector_size\u001B[49m\u001B[43m,\u001B[49m\u001B[43m \u001B[49m\u001B[43mdatatype\u001B[49m\u001B[43m,\u001B[49m\u001B[43m \u001B[49m\u001B[43municode_errors\u001B[49m\u001B[43m,\u001B[49m\u001B[43m \u001B[49m\u001B[43mencoding\u001B[49m\u001B[43m)\u001B[49m\n\u001B[1;32m   2070\u001B[0m \u001B[38;5;28;01mif\u001B[39;00m kv\u001B[38;5;241m.\u001B[39mvectors\u001B[38;5;241m.\u001B[39mshape[\u001B[38;5;241m0\u001B[39m] \u001B[38;5;241m!=\u001B[39m \u001B[38;5;28mlen\u001B[39m(kv):\n\u001B[1;32m   2071\u001B[0m     logger\u001B[38;5;241m.\u001B[39minfo(\n\u001B[1;32m   2072\u001B[0m         \u001B[38;5;124m\"\u001B[39m\u001B[38;5;124mduplicate words detected, shrinking matrix size from \u001B[39m\u001B[38;5;132;01m%i\u001B[39;00m\u001B[38;5;124m to \u001B[39m\u001B[38;5;132;01m%i\u001B[39;00m\u001B[38;5;124m\"\u001B[39m,\n\u001B[1;32m   2073\u001B[0m         kv\u001B[38;5;241m.\u001B[39mvectors\u001B[38;5;241m.\u001B[39mshape[\u001B[38;5;241m0\u001B[39m], \u001B[38;5;28mlen\u001B[39m(kv),\n\u001B[1;32m   2074\u001B[0m     )\n",
      "File \u001B[0;32m~/.local/lib/python3.10/site-packages/gensim/models/keyedvectors.py:1974\u001B[0m, in \u001B[0;36m_word2vec_read_text\u001B[0;34m(fin, kv, counts, vocab_size, vector_size, datatype, unicode_errors, encoding)\u001B[0m\n\u001B[1;32m   1972\u001B[0m \u001B[38;5;28;01mif\u001B[39;00m line \u001B[38;5;241m==\u001B[39m \u001B[38;5;124mb\u001B[39m\u001B[38;5;124m'\u001B[39m\u001B[38;5;124m'\u001B[39m:\n\u001B[1;32m   1973\u001B[0m     \u001B[38;5;28;01mraise\u001B[39;00m \u001B[38;5;167;01mEOFError\u001B[39;00m(\u001B[38;5;124m\"\u001B[39m\u001B[38;5;124munexpected end of input; is count incorrect or file otherwise damaged?\u001B[39m\u001B[38;5;124m\"\u001B[39m)\n\u001B[0;32m-> 1974\u001B[0m word, weights \u001B[38;5;241m=\u001B[39m \u001B[43m_word2vec_line_to_vector\u001B[49m\u001B[43m(\u001B[49m\u001B[43mline\u001B[49m\u001B[43m,\u001B[49m\u001B[43m \u001B[49m\u001B[43mdatatype\u001B[49m\u001B[43m,\u001B[49m\u001B[43m \u001B[49m\u001B[43municode_errors\u001B[49m\u001B[43m,\u001B[49m\u001B[43m \u001B[49m\u001B[43mencoding\u001B[49m\u001B[43m)\u001B[49m\n\u001B[1;32m   1975\u001B[0m _add_word_to_kv(kv, counts, word, weights, vocab_size)\n",
      "File \u001B[0;32m~/.local/lib/python3.10/site-packages/gensim/models/keyedvectors.py:1980\u001B[0m, in \u001B[0;36m_word2vec_line_to_vector\u001B[0;34m(line, datatype, unicode_errors, encoding)\u001B[0m\n\u001B[1;32m   1978\u001B[0m \u001B[38;5;28;01mdef\u001B[39;00m \u001B[38;5;21m_word2vec_line_to_vector\u001B[39m(line, datatype, unicode_errors, encoding):\n\u001B[1;32m   1979\u001B[0m     parts \u001B[38;5;241m=\u001B[39m utils\u001B[38;5;241m.\u001B[39mto_unicode(line\u001B[38;5;241m.\u001B[39mrstrip(), encoding\u001B[38;5;241m=\u001B[39mencoding, errors\u001B[38;5;241m=\u001B[39municode_errors)\u001B[38;5;241m.\u001B[39msplit(\u001B[38;5;124m\"\u001B[39m\u001B[38;5;124m \u001B[39m\u001B[38;5;124m\"\u001B[39m)\n\u001B[0;32m-> 1980\u001B[0m     word, weights \u001B[38;5;241m=\u001B[39m parts[\u001B[38;5;241m0\u001B[39m], [datatype(x) \u001B[38;5;28;01mfor\u001B[39;00m x \u001B[38;5;129;01min\u001B[39;00m parts[\u001B[38;5;241m1\u001B[39m:]]\n\u001B[1;32m   1981\u001B[0m     \u001B[38;5;28;01mreturn\u001B[39;00m word, weights\n",
      "File \u001B[0;32m~/.local/lib/python3.10/site-packages/gensim/models/keyedvectors.py:1980\u001B[0m, in \u001B[0;36m<listcomp>\u001B[0;34m(.0)\u001B[0m\n\u001B[1;32m   1978\u001B[0m \u001B[38;5;28;01mdef\u001B[39;00m \u001B[38;5;21m_word2vec_line_to_vector\u001B[39m(line, datatype, unicode_errors, encoding):\n\u001B[1;32m   1979\u001B[0m     parts \u001B[38;5;241m=\u001B[39m utils\u001B[38;5;241m.\u001B[39mto_unicode(line\u001B[38;5;241m.\u001B[39mrstrip(), encoding\u001B[38;5;241m=\u001B[39mencoding, errors\u001B[38;5;241m=\u001B[39municode_errors)\u001B[38;5;241m.\u001B[39msplit(\u001B[38;5;124m\"\u001B[39m\u001B[38;5;124m \u001B[39m\u001B[38;5;124m\"\u001B[39m)\n\u001B[0;32m-> 1980\u001B[0m     word, weights \u001B[38;5;241m=\u001B[39m parts[\u001B[38;5;241m0\u001B[39m], [\u001B[43mdatatype\u001B[49m\u001B[43m(\u001B[49m\u001B[43mx\u001B[49m\u001B[43m)\u001B[49m \u001B[38;5;28;01mfor\u001B[39;00m x \u001B[38;5;129;01min\u001B[39;00m parts[\u001B[38;5;241m1\u001B[39m:]]\n\u001B[1;32m   1981\u001B[0m     \u001B[38;5;28;01mreturn\u001B[39;00m word, weights\n",
      "\u001B[0;31mKeyboardInterrupt\u001B[0m: "
     ]
    }
   ],
   "execution_count": 2
  },
  {
   "cell_type": "code",
   "execution_count": 3,
   "metadata": {
    "id": "nTkXfT0W7ufk",
    "ExecuteTime": {
     "end_time": "2023-05-29T16:35:26.636606011Z",
     "start_time": "2023-05-29T16:35:26.634389869Z"
    }
   },
   "outputs": [
    {
     "data": {
      "text/plain": "((300,), array([-0.0522,  0.0364, -0.1252,  0.0053,  0.0382], dtype=float32))"
     },
     "execution_count": 3,
     "metadata": {},
     "output_type": "execute_result"
    }
   ],
   "source": [
    "august_embedding = en_emb[\"august\"]\n",
    "august_embedding.shape, august_embedding[:5]"
   ]
  },
  {
   "cell_type": "code",
   "execution_count": 4,
   "outputs": [
    {
     "ename": "KeyError",
     "evalue": "\"Key '1231241' not present\"",
     "output_type": "error",
     "traceback": [
      "\u001B[0;31m---------------------------------------------------------------------------\u001B[0m",
      "\u001B[0;31mKeyError\u001B[0m                                  Traceback (most recent call last)",
      "Cell \u001B[0;32mIn[4], line 1\u001B[0m\n\u001B[0;32m----> 1\u001B[0m not_exist_embedding \u001B[38;5;241m=\u001B[39m \u001B[43men_emb\u001B[49m\u001B[43m[\u001B[49m\u001B[38;5;124;43m\"\u001B[39;49m\u001B[38;5;124;43m1231241\u001B[39;49m\u001B[38;5;124;43m\"\u001B[39;49m\u001B[43m]\u001B[49m\n",
      "File \u001B[0;32m~/.local/lib/python3.10/site-packages/gensim/models/keyedvectors.py:403\u001B[0m, in \u001B[0;36mKeyedVectors.__getitem__\u001B[0;34m(self, key_or_keys)\u001B[0m\n\u001B[1;32m    389\u001B[0m \u001B[38;5;250m\u001B[39m\u001B[38;5;124;03m\"\"\"Get vector representation of `key_or_keys`.\u001B[39;00m\n\u001B[1;32m    390\u001B[0m \n\u001B[1;32m    391\u001B[0m \u001B[38;5;124;03mParameters\u001B[39;00m\n\u001B[0;32m   (...)\u001B[0m\n\u001B[1;32m    400\u001B[0m \n\u001B[1;32m    401\u001B[0m \u001B[38;5;124;03m\"\"\"\u001B[39;00m\n\u001B[1;32m    402\u001B[0m \u001B[38;5;28;01mif\u001B[39;00m \u001B[38;5;28misinstance\u001B[39m(key_or_keys, _KEY_TYPES):\n\u001B[0;32m--> 403\u001B[0m     \u001B[38;5;28;01mreturn\u001B[39;00m \u001B[38;5;28;43mself\u001B[39;49m\u001B[38;5;241;43m.\u001B[39;49m\u001B[43mget_vector\u001B[49m\u001B[43m(\u001B[49m\u001B[43mkey_or_keys\u001B[49m\u001B[43m)\u001B[49m\n\u001B[1;32m    405\u001B[0m \u001B[38;5;28;01mreturn\u001B[39;00m vstack([\u001B[38;5;28mself\u001B[39m\u001B[38;5;241m.\u001B[39mget_vector(key) \u001B[38;5;28;01mfor\u001B[39;00m key \u001B[38;5;129;01min\u001B[39;00m key_or_keys])\n",
      "File \u001B[0;32m~/.local/lib/python3.10/site-packages/gensim/models/keyedvectors.py:446\u001B[0m, in \u001B[0;36mKeyedVectors.get_vector\u001B[0;34m(self, key, norm)\u001B[0m\n\u001B[1;32m    422\u001B[0m \u001B[38;5;28;01mdef\u001B[39;00m \u001B[38;5;21mget_vector\u001B[39m(\u001B[38;5;28mself\u001B[39m, key, norm\u001B[38;5;241m=\u001B[39m\u001B[38;5;28;01mFalse\u001B[39;00m):\n\u001B[1;32m    423\u001B[0m \u001B[38;5;250m    \u001B[39m\u001B[38;5;124;03m\"\"\"Get the key's vector, as a 1D numpy array.\u001B[39;00m\n\u001B[1;32m    424\u001B[0m \n\u001B[1;32m    425\u001B[0m \u001B[38;5;124;03m    Parameters\u001B[39;00m\n\u001B[0;32m   (...)\u001B[0m\n\u001B[1;32m    444\u001B[0m \n\u001B[1;32m    445\u001B[0m \u001B[38;5;124;03m    \"\"\"\u001B[39;00m\n\u001B[0;32m--> 446\u001B[0m     index \u001B[38;5;241m=\u001B[39m \u001B[38;5;28;43mself\u001B[39;49m\u001B[38;5;241;43m.\u001B[39;49m\u001B[43mget_index\u001B[49m\u001B[43m(\u001B[49m\u001B[43mkey\u001B[49m\u001B[43m)\u001B[49m\n\u001B[1;32m    447\u001B[0m     \u001B[38;5;28;01mif\u001B[39;00m norm:\n\u001B[1;32m    448\u001B[0m         \u001B[38;5;28mself\u001B[39m\u001B[38;5;241m.\u001B[39mfill_norms()\n",
      "File \u001B[0;32m~/.local/lib/python3.10/site-packages/gensim/models/keyedvectors.py:420\u001B[0m, in \u001B[0;36mKeyedVectors.get_index\u001B[0;34m(self, key, default)\u001B[0m\n\u001B[1;32m    418\u001B[0m     \u001B[38;5;28;01mreturn\u001B[39;00m default\n\u001B[1;32m    419\u001B[0m \u001B[38;5;28;01melse\u001B[39;00m:\n\u001B[0;32m--> 420\u001B[0m     \u001B[38;5;28;01mraise\u001B[39;00m \u001B[38;5;167;01mKeyError\u001B[39;00m(\u001B[38;5;124mf\u001B[39m\u001B[38;5;124m\"\u001B[39m\u001B[38;5;124mKey \u001B[39m\u001B[38;5;124m'\u001B[39m\u001B[38;5;132;01m{\u001B[39;00mkey\u001B[38;5;132;01m}\u001B[39;00m\u001B[38;5;124m'\u001B[39m\u001B[38;5;124m not present\u001B[39m\u001B[38;5;124m\"\u001B[39m)\n",
      "\u001B[0;31mKeyError\u001B[0m: \"Key '1231241' not present\""
     ]
    }
   ],
   "source": [
    "not_exist_embedding = en_emb[\"1231241\"]"
   ],
   "metadata": {
    "collapsed": false,
    "ExecuteTime": {
     "end_time": "2023-05-29T16:50:40.945637829Z",
     "start_time": "2023-05-29T16:50:40.854031904Z"
    }
   }
  },
  {
   "cell_type": "code",
   "execution_count": 5,
   "metadata": {
    "id": "oQ2kCq-7NQPn",
    "ExecuteTime": {
     "end_time": "2023-05-29T16:50:45.535456800Z",
     "start_time": "2023-05-29T16:50:41.436554888Z"
    }
   },
   "outputs": [
    {
     "data": {
      "text/plain": "[('august', 0.9999999403953552),\n ('september', 0.8252838850021362),\n ('october', 0.8111193180084229),\n ('june', 0.8050147891044617),\n ('july', 0.797055184841156),\n ('november', 0.788363516330719),\n ('february', 0.7831973433494568),\n ('december', 0.7824540138244629),\n ('january', 0.7743154168128967),\n ('april', 0.7621643543243408)]"
     },
     "execution_count": 5,
     "metadata": {},
     "output_type": "execute_result"
    }
   ],
   "source": [
    "en_emb.most_similar([august_embedding])"
   ]
  },
  {
   "cell_type": "markdown",
   "metadata": {
    "id": "t5EcMMI6pxzL",
    "ExecuteTime": {
     "start_time": "2023-05-25T22:08:05.404079129Z"
    }
   },
   "source": [
    "The latter function also allows you to vary the amount of closest words via the `topn` argument:"
   ],
   "outputs": []
  },
  {
   "cell_type": "code",
   "execution_count": 6,
   "metadata": {
    "id": "bi6AF3z0p9Oo",
    "ExecuteTime": {
     "end_time": "2023-05-29T16:50:45.655907364Z",
     "start_time": "2023-05-29T16:50:45.393293804Z"
    }
   },
   "outputs": [
    {
     "data": {
      "text/plain": "[('august', 0.9999999403953552),\n ('september', 0.8252838850021362),\n ('october', 0.8111193180084229)]"
     },
     "execution_count": 6,
     "metadata": {},
     "output_type": "execute_result"
    }
   ],
   "source": [
    "en_emb.most_similar([august_embedding], topn=3)"
   ]
  },
  {
   "cell_type": "markdown",
   "metadata": {
    "id": "xw345NRXov4p",
    "ExecuteTime": {
     "start_time": "2023-05-25T22:08:05.404159572Z"
    }
   },
   "source": [
    "Another feature of `KeyedVectors` is that it allows to compute embeddings for multiple words simultaneously:"
   ],
   "outputs": []
  },
  {
   "cell_type": "code",
   "execution_count": 7,
   "metadata": {
    "id": "86OuYeLYow0C",
    "ExecuteTime": {
     "end_time": "2023-05-29T16:50:45.658807559Z",
     "start_time": "2023-05-29T16:50:45.565786790Z"
    }
   },
   "outputs": [
    {
     "data": {
      "text/plain": "(2, 300)"
     },
     "execution_count": 7,
     "metadata": {},
     "output_type": "execute_result"
    }
   ],
   "source": [
    "en_emb[[\"august\", \"september\"]].shape"
   ]
  },
  {
   "cell_type": "markdown",
   "metadata": {
    "id": "3uGx5zHXQtfo"
   },
   "source": [
    "Everything above is true for the embeddings for French language."
   ]
  },
  {
   "cell_type": "code",
   "execution_count": 8,
   "metadata": {
    "id": "vdBA8lcg7ufs",
    "ExecuteTime": {
     "end_time": "2023-05-29T16:50:47.912198955Z",
     "start_time": "2023-05-29T16:50:45.622269155Z"
    }
   },
   "outputs": [
    {
     "data": {
      "text/plain": "[('aout', 1.0),\n ('Aout', 0.8249964118003845),\n ('juillet', 0.8109882473945618),\n ('fevrier', 0.8072442412376404),\n ('septembre', 0.7838520407676697),\n ('août', 0.779176652431488),\n ('juin', 0.7692081332206726),\n ('octobre', 0.7597455382347107),\n ('decembre', 0.7595790028572083),\n ('avril', 0.7390779256820679)]"
     },
     "execution_count": 8,
     "metadata": {},
     "output_type": "execute_result"
    }
   ],
   "source": [
    "fr_emb.most_similar([fr_emb[\"aout\"]])"
   ]
  },
  {
   "cell_type": "markdown",
   "metadata": {
    "id": "F1Dkka5uQ37-"
   },
   "source": [
    "However, french and english embeddings were trained independently of each other. This means, that there is no obvious connection between values in embeddings for similar words in French and English:"
   ]
  },
  {
   "cell_type": "code",
   "execution_count": 9,
   "metadata": {
    "id": "_yJvcKXO7uf0",
    "ExecuteTime": {
     "end_time": "2023-05-29T16:50:48.029914285Z",
     "start_time": "2023-05-29T16:50:47.785415413Z"
    }
   },
   "outputs": [
    {
     "data": {
      "text/plain": "[('2003Pays', 0.23082853853702545),\n ('Montsoriu', 0.22505579888820648),\n ('2015Pays', 0.22218400239944458),\n ('2013Genre', 0.2095685601234436),\n ('AdiCloud', 0.2018650770187378),\n ('Bagua', 0.20061466097831726),\n ('2003Paysans', 0.2001495361328125),\n ('ValenceLa', 0.2001476287841797),\n ('Luddites', 0.19998176395893097),\n ('Guadalquivir', 0.19875513017177582)]"
     },
     "execution_count": 9,
     "metadata": {},
     "output_type": "execute_result"
    }
   ],
   "source": [
    "fr_emb.most_similar([en_emb[\"august\"]])"
   ]
  },
  {
   "cell_type": "markdown",
   "metadata": {
    "id": "Lia_h7W2qL8C"
   },
   "source": [
    "## Translation"
   ]
  },
  {
   "cell_type": "markdown",
   "metadata": {
    "id": "pNdYAR1q7uf6"
   },
   "source": [
    "We'll build a simple translator, which will try to predict the french embedding from the english one. For this we'll need a dataset of word pairs."
   ]
  },
  {
   "cell_type": "code",
   "execution_count": 10,
   "metadata": {
    "id": "CXbH86oQRprk",
    "ExecuteTime": {
     "end_time": "2023-05-29T16:50:48.033171451Z",
     "start_time": "2023-05-29T16:50:47.907601068Z"
    }
   },
   "outputs": [],
   "source": [
    "def load_word_pairs(filename):\n",
    "    en_fr_pairs = []\n",
    "    en_vectors = []\n",
    "    fr_vectors = []\n",
    "    with open(filename, \"r\") as inpf:\n",
    "        for line in inpf:\n",
    "            en, fr = line.rstrip().split(\" \")\n",
    "            if en not in en_emb or fr not in fr_emb:\n",
    "                continue\n",
    "            en_fr_pairs.append((en, fr))\n",
    "            en_vectors.append(en_emb[en])\n",
    "            fr_vectors.append(fr_emb[fr])\n",
    "    return en_fr_pairs, np.array(en_vectors), np.array(fr_vectors)"
   ]
  },
  {
   "cell_type": "markdown",
   "metadata": {
    "id": "wwjYGFE7Ui0N"
   },
   "source": [
    "We will train our model to predict embedding for the french word from embedding of its english counterpart. For this reason we split our train and test data into english and french words and compute corresponding embeddings to obtain `X` (english embeddings) and `y` (french embeddings)."
   ]
  },
  {
   "cell_type": "code",
   "execution_count": 11,
   "metadata": {
    "id": "yPvHHq7Cc_Oa",
    "ExecuteTime": {
     "end_time": "2023-05-29T16:50:49.524069324Z",
     "start_time": "2023-05-29T16:50:47.955774484Z"
    }
   },
   "outputs": [
    {
     "name": "stdout",
     "output_type": "stream",
     "text": [
      "--2023-05-29 19:50:48--  https://raw.githubusercontent.com/girafe-ai/ml-course/23s_nes/homeworks/hw04_umt/en-fr.train.txt\r\n",
      "Resolving raw.githubusercontent.com (raw.githubusercontent.com)... 185.199.110.133, 185.199.108.133, 185.199.111.133, ...\r\n",
      "Connecting to raw.githubusercontent.com (raw.githubusercontent.com)|185.199.110.133|:443... connected.\r\n",
      "HTTP request sent, awaiting response... 200 OK\r\n",
      "Length: 178608 (174K) [text/plain]\r\n",
      "Saving to: ‘en-fr.train.txt’\r\n",
      "\r\n",
      "en-fr.train.txt     100%[===================>] 174.42K  --.-KB/s    in 0.06s   \r\n",
      "\r\n",
      "2023-05-29 19:50:48 (2.90 MB/s) - ‘en-fr.train.txt’ saved [178608/178608]\r\n",
      "\r\n",
      "--2023-05-29 19:50:48--  https://raw.githubusercontent.com/girafe-ai/ml-course/23s_nes/homeworks/hw04_umt/en-fr.test.txt\r\n",
      "Resolving raw.githubusercontent.com (raw.githubusercontent.com)... 185.199.109.133, 185.199.108.133, 185.199.110.133, ...\r\n",
      "Connecting to raw.githubusercontent.com (raw.githubusercontent.com)|185.199.109.133|:443... connected.\r\n",
      "HTTP request sent, awaiting response... 200 OK\r\n",
      "Length: 50509 (49K) [text/plain]\r\n",
      "Saving to: ‘en-fr.test.txt’\r\n",
      "\r\n",
      "en-fr.test.txt      100%[===================>]  49.33K  --.-KB/s    in 0.03s   \r\n",
      "\r\n",
      "2023-05-29 19:50:49 (1.65 MB/s) - ‘en-fr.test.txt’ saved [50509/50509]\r\n",
      "\r\n"
     ]
    }
   ],
   "source": [
    "!wget -O en-fr.train.txt https://raw.githubusercontent.com/girafe-ai/ml-course/23s_nes/homeworks/hw04_umt/en-fr.train.txt\n",
    "!wget -O en-fr.test.txt https://raw.githubusercontent.com/girafe-ai/ml-course/23s_nes/homeworks/hw04_umt/en-fr.test.txt"
   ]
  },
  {
   "cell_type": "code",
   "execution_count": 35,
   "metadata": {
    "id": "K05ari5nSEcn",
    "ExecuteTime": {
     "end_time": "2023-05-29T16:56:14.891546862Z",
     "start_time": "2023-05-29T16:56:14.837617826Z"
    }
   },
   "outputs": [],
   "source": [
    "en_fr_train, X_train, Y_train = load_word_pairs(\"en-fr.train.txt\")\n",
    "en_fr_test, X_test, Y_test = load_word_pairs(\"en-fr.test.txt\")"
   ]
  },
  {
   "cell_type": "code",
   "execution_count": 36,
   "metadata": {
    "id": "ithG80uDTYWr",
    "ExecuteTime": {
     "end_time": "2023-05-29T16:56:15.274432671Z",
     "start_time": "2023-05-29T16:56:15.263321566Z"
    }
   },
   "outputs": [
    {
     "data": {
      "text/plain": "[('which', 'lesquels'),\n ('which', 'laquelle'),\n ('which', 'lequel'),\n ('also', 'également'),\n ('also', 'aussi'),\n ('also', 'egalement'),\n ('were', 'étaient'),\n ('but', 'mais'),\n ('have', 'avoir'),\n ('have', 'ont'),\n ('one', 'un')]"
     },
     "execution_count": 36,
     "metadata": {},
     "output_type": "execute_result"
    }
   ],
   "source": [
    "en_fr_train[33:44]"
   ]
  },
  {
   "cell_type": "markdown",
   "metadata": {
    "id": "-ZBBNvpz7ugQ"
   },
   "source": [
    "## Embedding space mapping (0.3 pts)"
   ]
  },
  {
   "cell_type": "markdown",
   "metadata": {
    "id": "x_Dhk5gL7ugS"
   },
   "source": [
    "Let $x_i \\in \\mathrm{R}^d$ be the distributed representation of word $i$ in the source language, and $y_i \\in \\mathrm{R}^d$ is the vector representation of its translation. Our purpose is to learn such linear transform $W$ that minimizes euclidian distance between $Wx_i$ and $y_i$ for some subset of word embeddings. Thus we can formulate so-called [Procrustes problem](https://en.wikipedia.org/wiki/Orthogonal_Procrustes_problem):\n",
    "\n",
    "$$W^*= \\arg\\min_W \\sum_{i=1}^n\\|Wx_i - y_i\\|_2$$\n",
    "\n",
    "or\n",
    "\n",
    "$$W^*= \\arg\\min_W \\|XW^T - Y\\|_F$$\n",
    "\n",
    "where $\\|\\cdot\\|_F$ denotes Frobenius norm.\n",
    "\n",
    "> **Note:** in second formula, $W$ and $x$ seem to have switched places. This happens because the $X$ matrix is composed of objects $x_i$ in *rows* not *columns*, i.e. it is kind of composed of $x_i^T$. This means that $X \\in \\mathbb{R}^{N \\times D}$, where $N$ is the number of items and $D$ is the embedding dimensionality. The same is true for the $Y$."
   ]
  },
  {
   "cell_type": "markdown",
   "metadata": {
    "id": "acOjDdtL7ugY"
   },
   "source": [
    "$W^*= \\arg\\min_W \\sum_{i=1}^n\\|Wx_i - y_i\\|_2$ looks like simple multiple linear regression without bias. The `sklearn` allows you to turn off the bias in `LinearRegression` via the `fit_intercept` argument (in fact they simply call bias the intercept). So let's code."
   ]
  },
  {
   "cell_type": "code",
   "execution_count": 37,
   "metadata": {
    "id": "Lb-KN1be7uga",
    "ExecuteTime": {
     "end_time": "2023-05-29T16:56:17.432317812Z",
     "start_time": "2023-05-29T16:56:17.159024487Z"
    }
   },
   "outputs": [],
   "source": [
    "from sklearn.linear_model import LinearRegression\n",
    "\n",
    "\n",
    "# YOUR CODE HERE\n",
    "mapping = LinearRegression(fit_intercept=True).fit(X_train, Y_train)"
   ]
  },
  {
   "cell_type": "markdown",
   "metadata": {
    "id": "X7tqJwoY7ugf"
   },
   "source": [
    "Let's take a look at neigbours of the vector of word _\"august\"_ (_\"aout\"_ in French) after linear transform."
   ]
  },
  {
   "cell_type": "code",
   "execution_count": 38,
   "metadata": {
    "id": "31SrFSbn7ugi",
    "ExecuteTime": {
     "end_time": "2023-05-29T16:56:18.295470239Z",
     "start_time": "2023-05-29T16:56:18.064830541Z"
    }
   },
   "outputs": [
    {
     "name": "stdout",
     "output_type": "stream",
     "text": [
      "aout\n",
      "juin\n",
      "juillet\n",
      "septembre\n",
      "mars\n",
      "octobre\n",
      "novembre\n",
      "février\n",
      "janvier\n",
      "avril\n"
     ]
    }
   ],
   "source": [
    "august = mapping.predict(en_emb[\"august\"].reshape(1, -1))\n",
    "fr_emb.most_similar(august)\n",
    "for i in fr_emb.most_similar(august):\n",
    "    print(i[0])"
   ]
  },
  {
   "cell_type": "markdown",
   "metadata": {
    "id": "o2uY6Y9B7ugt"
   },
   "source": [
    "As quality measure we will use precision top-1, top-5 and top-10 (for each transformed english embedding we count how many right target pairs are found in top N nearest neighbours in french embedding space)."
   ]
  },
  {
   "cell_type": "code",
   "execution_count": 39,
   "metadata": {
    "id": "zptuho8LAfIE",
    "ExecuteTime": {
     "end_time": "2023-05-29T16:56:19.080316514Z",
     "start_time": "2023-05-29T16:56:19.075406209Z"
    }
   },
   "outputs": [],
   "source": [
    "def precision(pairs, mapped_vectors, topn=1):\n",
    "    \"\"\"\n",
    "    :args:\n",
    "        pairs = list of right word pairs [(en_word_0, fr_word_0), ...]\n",
    "        mapped_vectors = list of embeddings after mapping from source embedding space to destination embedding space\n",
    "        topn = the number of nearest neighbours in destination embedding space to choose from\n",
    "    :returns:\n",
    "        precision_val, float number, total number of words for those we can find right translation at top K.\n",
    "    \"\"\"\n",
    "    assert len(pairs) == len(mapped_vectors)\n",
    "    total = len(pairs)\n",
    "    correct = 0\n",
    "    for i in range(total):\n",
    "\n",
    "        # YOUR CODE HERE\n",
    "        pair = pairs[i]\n",
    "        predicted_vector = mapped_vectors[i]\n",
    "        # print(pair)\n",
    "        similars = [x[0] for x in fr_emb.most_similar(predicted_vector)]\n",
    "        for j in range(topn):\n",
    "            # print(similars[j], pair[1])\n",
    "            if similars[j] == pair[1]:\n",
    "                # print(similars[j], pair[1])\n",
    "                correct += 1\n",
    "    return correct / total"
   ]
  },
  {
   "cell_type": "code",
   "execution_count": 40,
   "metadata": {
    "id": "duhj9hpv7ugy",
    "ExecuteTime": {
     "end_time": "2023-05-29T16:56:20.138645801Z",
     "start_time": "2023-05-29T16:56:19.573081397Z"
    }
   },
   "outputs": [],
   "source": [
    "assert precision([(\"august\", \"aout\")], august, topn=5) == 1.0\n",
    "assert precision([(\"august\", \"aout\")], august, topn=9) == 1.0\n",
    "assert precision([(\"august\", \"aout\")], august, topn=10) == 1.0"
   ]
  },
  {
   "cell_type": "markdown",
   "metadata": {
    "id": "z5A9tWtnuFx3"
   },
   "source": [
    "Note that our `precision` function accepts lists of pairs of words, whereas we have dataframes. However, it is not a problem: we can get a list (actually, numpy array) of pairs via the `values` property."
   ]
  },
  {
   "cell_type": "code",
   "execution_count": 41,
   "metadata": {
    "id": "0-iyd5gP7ug5",
    "ExecuteTime": {
     "end_time": "2023-05-29T16:56:51.408706928Z",
     "start_time": "2023-05-29T16:56:20.505803409Z"
    }
   },
   "outputs": [],
   "source": [
    "assert precision(en_fr_test[:100], X_test[:100]) == 0.0\n",
    "assert precision(en_fr_test[:100], Y_test[:100]) == 1.0"
   ]
  },
  {
   "cell_type": "markdown",
   "metadata": {
    "id": "7DVV5lqrua_O"
   },
   "source": [
    "Let's see how well our model is doing."
   ]
  },
  {
   "cell_type": "code",
   "execution_count": 42,
   "metadata": {
    "id": "U-ssEJ3x7uhA",
    "ExecuteTime": {
     "end_time": "2023-05-29T16:57:19.116123045Z",
     "start_time": "2023-05-29T16:56:51.404066355Z"
    }
   },
   "outputs": [],
   "source": [
    "precision_top1 = precision(en_fr_test[:100], mapping.predict(X_test[:100]), 1)\n",
    "precision_top5 = precision(en_fr_test[:100], mapping.predict(X_test[:100]), 5)"
   ]
  },
  {
   "cell_type": "code",
   "execution_count": 43,
   "metadata": {
    "id": "JOXKaYj1VHGC",
    "ExecuteTime": {
     "end_time": "2023-05-29T16:57:19.123952437Z",
     "start_time": "2023-05-29T16:57:19.113546200Z"
    }
   },
   "outputs": [
    {
     "name": "stdout",
     "output_type": "stream",
     "text": [
      "0.37\n",
      "0.67\n"
     ]
    }
   ],
   "source": [
    "print(precision_top1)\n",
    "print(precision_top5)"
   ]
  },
  {
   "cell_type": "markdown",
   "metadata": {
    "id": "hf6Ou8bx7uhH"
   },
   "source": [
    "## Making it better (orthogonal Procrustean problem) (0.3 pts)"
   ]
  },
  {
   "cell_type": "markdown",
   "metadata": {
    "id": "4oLs-drN7uhK"
   },
   "source": [
    "\n",
    "It can be shown that a self-consistent linear mapping between semantic spaces should be orthogonal.\n",
    "We can restrict transform $W$ to be orthogonal. Then we will solve next problem:\n",
    "\n",
    "$$(W^T)^*= \\arg\\min_{W^T} \\|XW^T - Y\\|_F \\text{, where: } W^TW = I$$\n",
    "\n",
    "$$I \\text{- identity matrix}$$\n",
    "\n",
    "Instead of making yet another regression problem we can find optimal orthogonal transformation using singular value decomposition. It turns out that optimal transformation $W^*$ can be expressed via SVD components:\n",
    "$$X^TY=U\\Sigma V^T\\text{, singular value decompostion}$$\n",
    "$$(W^T)^*=UV^T$$"
   ]
  },
  {
   "cell_type": "code",
   "execution_count": 44,
   "metadata": {
    "id": "DdFQ7qti7uhL",
    "ExecuteTime": {
     "end_time": "2023-05-29T16:57:19.222886614Z",
     "start_time": "2023-05-29T16:57:19.124722203Z"
    }
   },
   "outputs": [
    {
     "name": "stdout",
     "output_type": "stream",
     "text": [
      "(10848, 300) (10848, 300)\n",
      "(300, 300)\n"
     ]
    }
   ],
   "source": [
    "import numpy as np\n",
    "from numpy import linalg as la\n",
    "print(X_train.shape, Y_train.shape)\n",
    "xty = X_train.T @ Y_train\n",
    "print(xty.shape)\n",
    "u , s, vh = la.svd(xty)\n",
    "mapping_svd = u @ vh\n",
    "# YOUR CODE HERE\n",
    "# Compute the orthogonal mapping (W^T)^* as defined in formula above.\n",
    "# mapping_svd = ..."
   ]
  },
  {
   "cell_type": "code",
   "execution_count": 45,
   "outputs": [],
   "source": [
    "# import scipy as ss\n",
    "# mapping_svd, sss =  ss.linalg.orthogonal_procrustes(X_train, Y_train)\n",
    "# # mapping_svd = mapping_svd.values\n",
    "# print(mapping_svd)"
   ],
   "metadata": {
    "collapsed": false,
    "ExecuteTime": {
     "end_time": "2023-05-29T16:57:19.242788174Z",
     "start_time": "2023-05-29T16:57:19.219997638Z"
    }
   }
  },
  {
   "cell_type": "markdown",
   "metadata": {
    "id": "sehLFmlBysc-"
   },
   "source": [
    "Now our `mapping` is just a numpy array, meaning that it has no `predict` method. However, from the formulae above we know, that prediction is done using the matrix multiplication:"
   ]
  },
  {
   "cell_type": "code",
   "execution_count": 46,
   "metadata": {
    "id": "OVOFYYa37uhX",
    "ExecuteTime": {
     "end_time": "2023-05-29T16:57:19.456028860Z",
     "start_time": "2023-05-29T16:57:19.226538002Z"
    }
   },
   "outputs": [
    {
     "data": {
      "text/plain": "[('je', 0.6591380834579468),\n ('Je', 0.6144990921020508),\n ('me', 0.6014261841773987),\n ('crois', 0.588390052318573),\n ('sais', 0.587001383304596),\n ('dois', 0.5740367770195007),\n ('dis', 0.5621023774147034),\n ('suis', 0.5611369013786316),\n ('vais', 0.5605794191360474),\n ('avouerais', 0.5545185208320618)]"
     },
     "execution_count": 46,
     "metadata": {},
     "output_type": "execute_result"
    }
   ],
   "source": [
    "fr_emb.most_similar([np.matmul(en_emb['I'], mapping_svd)])\n"
   ]
  },
  {
   "cell_type": "markdown",
   "metadata": {
    "id": "h4qKCmq7zJDK"
   },
   "source": [
    "Now let's compute our precision values and see, whether our trick did improve the results."
   ]
  },
  {
   "cell_type": "code",
   "execution_count": 47,
   "metadata": {
    "id": "r297sYP37uhb",
    "ExecuteTime": {
     "end_time": "2023-05-29T16:57:46.338232676Z",
     "start_time": "2023-05-29T16:57:19.427927968Z"
    }
   },
   "outputs": [
    {
     "name": "stdout",
     "output_type": "stream",
     "text": [
      "0.36\n",
      "0.68\n"
     ]
    }
   ],
   "source": [
    "print(precision(en_fr_test[:100], np.matmul(X_test[:100].astype(np.float128), mapping_svd)))\n",
    "print(precision(en_fr_test[:100], np.matmul(X_test[:100].astype(np.float128), mapping_svd), 5))"
   ]
  },
  {
   "cell_type": "markdown",
   "metadata": {
    "id": "hvUZ72U5AfJg",
    "ExecuteTime": {
     "end_time": "2023-05-22T19:52:40.864633868Z",
     "start_time": "2023-05-22T19:52:28.705609111Z"
    }
   },
   "source": [
    "## Unsupervised embedding-based MT (0.4 pts)"
   ],
   "outputs": [
    {
     "name": "stdout",
     "output_type": "stream",
     "text": [
      "0.77\n"
     ]
    }
   ],
   "execution_count": 97
  },
  {
   "cell_type": "markdown",
   "metadata": {
    "id": "LLyuVfHBLrJn"
   },
   "source": [
    "Now, let's build our word embeddings-based translator!"
   ]
  },
  {
   "cell_type": "markdown",
   "metadata": {
    "id": "oa3dAZHv1wjY"
   },
   "source": [
    "Now let's translate these sentences word-by-word. Before that, however, don't forget to tokenize your sentences. For that you may (or may not) find the `nltk.tokenize.WordPunctTokenizer` to be very useful."
   ]
  },
  {
   "cell_type": "code",
   "execution_count": 100,
   "metadata": {
    "id": "FGksC7l_NMi9",
    "ExecuteTime": {
     "end_time": "2023-05-29T18:04:35.557982454Z",
     "start_time": "2023-05-29T18:04:35.554795062Z"
    }
   },
   "outputs": [],
   "source": [
    "from nltk.tokenize import WordPunctTokenizer, NLTKWordTokenizer\n",
    "import re\n",
    "from collections import Counter\n",
    "import tqdm\n",
    "tk = NLTKWordTokenizer()\n",
    "\n",
    "def translate(sentence):\n",
    "    \"\"\"\n",
    "    :args:\n",
    "        sentence - sentence in English (str)\n",
    "    :returns:\n",
    "        translation - sentence in French (str)\n",
    "\n",
    "    * find english embedding for each word in sentence\n",
    "    * transform english embedding vector\n",
    "    * find nearest french word and replace\n",
    "    \"\"\"\n",
    "    translated = []\n",
    "    tokens = tk.tokenize(sentence)\n",
    "    # print(tokens)\n",
    "    # print(tokens.split())\n",
    "    for x in tokens:\n",
    "        # if x == \"UNK\":\n",
    "        #     continue\n",
    "        # if x == ' ':\n",
    "        #     translated.append(' ')\n",
    "        #     continue\n",
    "        # print(fr_emb.most_similar([np.matmul(en_emb[x], mapping_svd)])[0][0])\n",
    "        if not fr_emb.has_index_for(x):\n",
    "            translated.append(\"UNK\")\n",
    "        elif x.isalpha():\n",
    "            translated.append(fr_emb.most_similar([np.matmul(en_emb[x], mapping_svd)])[0][0])\n",
    "        elif not x.isalpha():\n",
    "            translated.append(x)\n",
    "\n",
    "    return \" \".join(translated)"
   ]
  },
  {
   "cell_type": "code",
   "execution_count": 102,
   "outputs": [
    {
     "name": "stdout",
     "output_type": "stream",
     "text": [
      "je marcher autour Paris\n"
     ]
    }
   ],
   "source": [
    "print(translate(\"I walk around Paris\"))"
   ],
   "metadata": {
    "collapsed": false,
    "ExecuteTime": {
     "end_time": "2023-05-29T18:04:37.510043960Z",
     "start_time": "2023-05-29T18:04:36.757935922Z"
    }
   }
  },
  {
   "cell_type": "code",
   "execution_count": 103,
   "metadata": {
    "id": "4hbbMy-tNxlf",
    "ExecuteTime": {
     "end_time": "2023-05-29T18:04:38.954865573Z",
     "start_time": "2023-05-29T18:04:38.221789628Z"
    }
   },
   "outputs": [],
   "source": [
    "assert translate(\".\") == \".\"\n",
    "assert translate(\"I walk around Paris\") == \"je marcher autour Paris\""
   ]
  },
  {
   "cell_type": "markdown",
   "metadata": {
    "id": "ia6I2ce7O_HI",
    "ExecuteTime": {
     "end_time": "2023-05-22T18:47:52.550059060Z",
     "start_time": "2023-05-22T18:47:52.158370792Z"
    }
   },
   "source": [
    "Now you can play with your model and try to get as accurate translations as possible. **Note**: one big issue is out-of-vocabulary words. Try to think of various ways of handling it (you can start with translating each of them to a special **UNK** token and then move to more sophisticated approaches). Good luck!"
   ],
   "outputs": [
    {
     "name": "stdout",
     "output_type": "stream",
     "text": [
      "[(',', 0.6447373628616333), ('et', 0.5350034832954407), (';', 0.4488103687763214), ('(', 0.44791123270988464), ('je', 0.4398772418498993), ('il', 0.41712725162506104), ('and', 0.41565537452697754), ('si', 0.4122599959373474), ('Et', 0.41035225987434387), ('thbz', 0.40722620487213135)]\n"
     ]
    },
    {
     "ename": "AssertionError",
     "evalue": "",
     "output_type": "error",
     "traceback": [
      "\u001B[0;31m---------------------------------------------------------------------------\u001B[0m",
      "\u001B[0;31mAssertionError\u001B[0m                            Traceback (most recent call last)",
      "Cell \u001B[0;32mIn[75], line 1\u001B[0m\n\u001B[0;32m----> 1\u001B[0m \u001B[38;5;28;01massert\u001B[39;00m translate(\u001B[38;5;124m\"\u001B[39m\u001B[38;5;124m.\u001B[39m\u001B[38;5;124m\"\u001B[39m) \u001B[38;5;241m==\u001B[39m \u001B[38;5;124m\"\u001B[39m\u001B[38;5;124m.\u001B[39m\u001B[38;5;124m\"\u001B[39m\n\u001B[1;32m      2\u001B[0m \u001B[38;5;28;01massert\u001B[39;00m translate(\u001B[38;5;124m\"\u001B[39m\u001B[38;5;124mI walk around Paris\u001B[39m\u001B[38;5;124m\"\u001B[39m) \u001B[38;5;241m==\u001B[39m \u001B[38;5;124m\"\u001B[39m\u001B[38;5;124mje marcher autour Paris\u001B[39m\u001B[38;5;124m\"\u001B[39m\n",
      "\u001B[0;31mAssertionError\u001B[0m: "
     ]
    }
   ],
   "execution_count": 75
  },
  {
   "cell_type": "code",
   "execution_count": 106,
   "metadata": {
    "id": "17Azt44TW9s3",
    "ExecuteTime": {
     "end_time": "2023-05-29T18:04:41.895459756Z",
     "start_time": "2023-05-29T18:04:41.871078828Z"
    }
   },
   "outputs": [],
   "source": [
    "import numpy as np\n",
    "import pandas as pd\n",
    "import nltk\n",
    "from nltk.corpus import stopwords\n",
    "from nltk.stem import PorterStemmer\n",
    "from nltk.tokenize import TweetTokenizer\n",
    "from nltk.corpus import stopwords, twitter_samples\n",
    "import re\n",
    "import string\n",
    "\n",
    "# nltk.download('twitter_samples')\n",
    "# nltk.download('stopwords')\n",
    "\n",
    "def process_tweet(tweet):\n",
    "    '''\n",
    "    Input:\n",
    "        tweet: a string containing a tweet\n",
    "    Output:\n",
    "        tweets_clean: a list of words containing the processed tweet\n",
    "\n",
    "    '''\n",
    "    stemmer = PorterStemmer()\n",
    "    stopwords_english = stopwords.words('english')\n",
    "    # remove stock market tickers like $GE\n",
    "    tweet = re.sub(r'\\$\\w*', '', tweet)\n",
    "    # remove old style retweet text \"RT\"\n",
    "    tweet = re.sub(r'^RT[\\s]+', '', tweet)\n",
    "    # remove hyperlinks\n",
    "    tweet = re.sub(r'https?:\\/\\/.*[\\r\\n]*', '', tweet)\n",
    "    # remove hashtags\n",
    "    # only removing the hash # sign from the word\n",
    "    tweet = re.sub(r'#', '', tweet)\n",
    "    # tokenize tweets\n",
    "    tokenizer = TweetTokenizer(preserve_case=False, strip_handles=True,\n",
    "                               reduce_len=True)\n",
    "    tweet_tokens = tokenizer.tokenize(tweet)\n",
    "\n",
    "    tweets_clean = []\n",
    "    for word in tweet_tokens:\n",
    "        # if (word not in stopwords_english and  # remove stopwords\n",
    "        #     word not in string.punctuation):  # remove punctuation\n",
    "        if word not in string.punctuation:\n",
    "        #     tweets_clean.append(word)\n",
    "            stem_word = stemmer.stem(word)  # stemming word\n",
    "            # tweets_clean.append(stem_word)\n",
    "            tweets_clean.append(stem_word)\n",
    "\n",
    "    return \" \".join(tweets_clean)"
   ]
  },
  {
   "cell_type": "code",
   "execution_count": 107,
   "metadata": {
    "id": "nawoCF7kXLyE",
    "ExecuteTime": {
     "end_time": "2023-05-29T18:04:42.775277042Z",
     "start_time": "2023-05-29T18:04:42.504460085Z"
    }
   },
   "outputs": [
    {
     "data": {
      "text/plain": "['#FollowFriday @wncer1 @Defense_gouv for being top influencers in my community this week :)',\n \"Who Wouldn't Love These Big....Juicy....Selfies :) - http://t.co/QVzjgd1uFo http://t.co/oWBL11eQRY\",\n '@Mish23615351  follow @jnlazts &amp; http://t.co/RCvcYYO0Iq follow u back :)',\n \"@jjulieredburn Perfect, so you already know what's waiting for you :)\",\n 'Great new opportunity for junior triathletes aged 12 and 13 at the Gatorade series! Get your entries in :) http://t.co/of3DyOzML0']"
     },
     "execution_count": 107,
     "metadata": {},
     "output_type": "execute_result"
    }
   ],
   "source": [
    "twitter_samples.strings('positive_tweets.json')[10:15]"
   ]
  },
  {
   "cell_type": "code",
   "execution_count": 108,
   "metadata": {
    "id": "6XW5avSmX1CD",
    "ExecuteTime": {
     "end_time": "2023-05-29T18:04:43.290764342Z",
     "start_time": "2023-05-29T18:04:43.087299732Z"
    }
   },
   "outputs": [
    {
     "name": "stdout",
     "output_type": "stream",
     "text": [
      "#FollowFriday @wncer1 @Defense_gouv for being top influencers in my community this week :)\n",
      "\n",
      "followfriday for be top influenc in my commun thi week :)\n",
      "-----------------\n",
      "Who Wouldn't Love These Big....Juicy....Selfies :) - http://t.co/QVzjgd1uFo http://t.co/oWBL11eQRY\n",
      "\n",
      "who wouldn't love these big ... juici ... selfi :)\n",
      "-----------------\n",
      "@Mish23615351  follow @jnlazts &amp; http://t.co/RCvcYYO0Iq follow u back :)\n",
      "\n",
      "follow\n",
      "-----------------\n",
      "@jjulieredburn Perfect, so you already know what's waiting for you :)\n",
      "\n",
      "perfect so you alreadi know what' wait for you :)\n",
      "-----------------\n",
      "Great new opportunity for junior triathletes aged 12 and 13 at the Gatorade series! Get your entries in :) http://t.co/of3DyOzML0\n",
      "\n",
      "great new opportun for junior triathlet age 12 and 13 at the gatorad seri get your entri in :)\n",
      "-----------------\n"
     ]
    }
   ],
   "source": [
    "for i in twitter_samples.strings('positive_tweets.json')[10:15]:\n",
    "    print(i, process_tweet(i), sep='\\n\\n', end='\\n-----------------\\n')"
   ]
  },
  {
   "cell_type": "markdown",
   "metadata": {
    "id": "x4zEK62iaxzc"
   },
   "source": [
    "Your translation:"
   ]
  },
  {
   "cell_type": "code",
   "execution_count": 109,
   "metadata": {
    "id": "9-lFLSclXDip",
    "ExecuteTime": {
     "end_time": "2023-05-29T18:05:03.288407416Z",
     "start_time": "2023-05-29T18:04:44.576614120Z"
    }
   },
   "outputs": [
    {
     "name": "stdout",
     "output_type": "stream",
     "text": [
      "#FollowFriday @France_Inte @PKuchly57 @Milipol_Paris for being top engaged members in my community this week :)\n",
      "\n",
      "followfriday for be top engag member in my commun thi week :)\n",
      "\n",
      "UNK pour être top suré membre dans mon communi- cett semaine : )\n",
      "-----------------\n",
      "@Lamb2ja Hey James! How odd :/ Please call our Contact Centre on 02392441234 and we will be able to assist you :) Many thanks!\n",
      "\n",
      "hey jame how odd :/ pleas call our contact centr on 02392441234 and we will be abl to assist you :) mani thank\n",
      "\n",
      "hey joni comment bizarre : / supplications appeler notre contacter proxim sur UNK et nous pourra être aph amener aider vous : ) nailart remercie\n",
      "-----------------\n",
      "@DespiteOfficial we had a listen last night :) As You Bleed is an amazing track. When are you in Scotland?!\n",
      "\n",
      "we had a listen last night :) as you bleed is an amaz track when are you in scotland\n",
      "\n",
      "nous avait un écouter dernière nuit : ) comme vous saigner est un magnif track quand sont vous dans ecosse\n",
      "-----------------\n",
      "@97sides CONGRATS :)\n",
      "\n",
      "congrat :)\n",
      "\n",
      "UNK : )\n",
      "-----------------\n",
      "yeaaaah yippppy!!!  my accnt verified rqst has succeed got a blue tick mark on my fb profile :) in 15 days\n",
      "\n",
      "yeaaah yipppi my accnt verifi rqst ha succeed got a blue tick mark on my fb profil :) in 15 day\n",
      "\n",
      "hahaha UNK mon UNK préa UNK ha réussir avais un bleu tique marquer sur mon fb dfb.de : ) dans 15 journée\n",
      "-----------------\n",
      "@BhaktisBanter @PallaviRuhail This one is irresistible :)\n",
      "#FlipkartFashionFriday http://t.co/EbZ0L2VENM\n",
      "\n",
      "thi one is irresist :) flipkartfashionfriday\n",
      "\n",
      "cett autre est UNK : ) UNK\n",
      "-----------------\n",
      "We don't like to keep our lovely customers waiting for long! We hope you enjoy! Happy Friday! - LWWF :) https://t.co/smyYriipxI\n",
      "\n",
      "we don't like to keep our love custom wait for long we hope you enjoy happi friday lwwf :)\n",
      "\n",
      "nous peux UNK veux amener garder notre adore sur-mesure attendre pour longue nous espère vous savourer heureu samedi UNK : )\n",
      "-----------------\n",
      "@Impatientraider On second thought, there’s just not enough time for a DD :) But new shorts entering system. Sheep must be buying.\n",
      "\n",
      "on second thought there ’ s just not enough time for a dd :) but new short enter system sheep must be buy\n",
      "\n",
      "sur deuxième pensé évident ’ c juste pas suffisamment temps pour un enfnat : ) mais nouveau courte entrer système brebis doit être acheter\n",
      "-----------------\n",
      "Jgh , but we have to go to Bayan :D bye\n",
      "\n",
      "jgh but we have to go to bayan :d bye\n",
      "\n",
      "UNK mais nous ont amener aller amener bayan : j aurevoir\n",
      "-----------------\n",
      "As an act of mischievousness, am calling the ETL layer of our in-house warehousing app Katamari.\n",
      "\n",
      "Well… as the name implies :p.\n",
      "\n",
      "as an act of mischiev am call the etl layer of our in-hous wareh app katamari well … as the name impli :p\n",
      "\n",
      "comme un acte de UNK suis appeler dans ged couche de notre UNK UNK appli bomberman bien … comme dans nom incom : p\n",
      "-----------------\n"
     ]
    }
   ],
   "source": [
    "for i in twitter_samples.strings('positive_tweets.json')[:10]:\n",
    "    print(i, process_tweet(i), translate(process_tweet(i)), sep='\\n\\n', end='\\n-----------------\\n')"
   ]
  },
  {
   "cell_type": "markdown",
   "metadata": {
    "id": "PXMxWUtipDD8"
   },
   "source": [
    "Great! "
   ]
  }
 ],
 "metadata": {
  "anaconda-cloud": {},
  "colab": {
   "machine_shape": "hm",
   "provenance": []
  },
  "kernelspec": {
   "display_name": "Python 3 (ipykernel)",
   "language": "python",
   "name": "python3"
  },
  "language_info": {
   "codemirror_mode": {
    "name": "ipython",
    "version": 3
   },
   "file_extension": ".py",
   "mimetype": "text/x-python",
   "name": "python",
   "nbconvert_exporter": "python",
   "pygments_lexer": "ipython3",
   "version": "3.9.16"
  }
 },
 "nbformat": 4,
 "nbformat_minor": 0
}
